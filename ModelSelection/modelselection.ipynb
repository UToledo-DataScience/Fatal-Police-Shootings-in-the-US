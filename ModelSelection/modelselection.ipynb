{
  "nbformat": 4,
  "nbformat_minor": 0,
  "metadata": {
    "colab": {
      "name": "Untitled0.ipynb",
      "provenance": [],
      "collapsed_sections": []
    },
    "kernelspec": {
      "name": "python3",
      "display_name": "Python 3"
    }
  },
  "cells": [
    {
      "cell_type": "code",
      "metadata": {
        "id": "AdfMWGP6rLF-",
        "colab_type": "code",
        "colab": {}
      },
      "source": [
        "import numpy as np\n",
        "import pandas as pd\n",
        "import matplotlib.pyplot as plt\n",
        "%matplotlib inline\n",
        "import seaborn as sns\n",
        "from IPython.core.interactiveshell import InteractiveShell\n",
        "InteractiveShell.ast_node_interactivity = \"all\"\n",
        "from sklearn import ensemble\n",
        "from sklearn import metrics\n",
        "\n",
        "fatal_police_shooting_us = pd.read_csv('/content/drive/My Drive/data/cleaned-data/cleaned-PoliceKillingsUS.csv', encoding=\"windows-1252\")\n",
        "demographic = pd.read_csv('/content/drive/My Drive/data/cleaned-data/demographic.csv', encoding=\"windows-1252\")\n",
        "data = pd.read_csv('/content/drive/My Drive/data/cleaned-data/combined.csv', encoding=\"windows-1252\")"
      ],
      "execution_count": 71,
      "outputs": []
    },
    {
      "cell_type": "code",
      "metadata": {
        "id": "7I7cYltobOyv",
        "colab_type": "code",
        "colab": {
          "base_uri": "https://localhost:8080/",
          "height": 136
        },
        "outputId": "b98e1809-fda6-44a6-d8b1-cedb0533b36e"
      },
      "source": [
        "print('--fatal_police_shooting_us')\n",
        "print('Length: {}'.format(len(fatal_police_shooting_us)))\n",
        "print('--demographic')\n",
        "print('Length: {}'.format(len(demographic)))\n",
        "print('--data')\n",
        "print('Before: {}'.format(len(data)))\n",
        "data = data.dropna(axis=0)\n",
        "print('After:  {}'.format(len(data)))"
      ],
      "execution_count": 83,
      "outputs": [
        {
          "output_type": "stream",
          "text": [
            "--fatal_police_shooting_us\n",
            "Length: 2254\n",
            "--demographic\n",
            "Length: 29132\n",
            "--data\n",
            "Before: 1938\n",
            "After:  1938\n"
          ],
          "name": "stdout"
        }
      ]
    },
    {
      "cell_type": "code",
      "metadata": {
        "id": "9mRcvp_1t9uj",
        "colab_type": "code",
        "colab": {
          "base_uri": "https://localhost:8080/",
          "height": 343
        },
        "outputId": "60eba41d-284a-4ab7-faf4-44723cf8310f"
      },
      "source": [
        "data.head()"
      ],
      "execution_count": 84,
      "outputs": [
        {
          "output_type": "execute_result",
          "data": {
            "text/html": [
              "<div>\n",
              "<style scoped>\n",
              "    .dataframe tbody tr th:only-of-type {\n",
              "        vertical-align: middle;\n",
              "    }\n",
              "\n",
              "    .dataframe tbody tr th {\n",
              "        vertical-align: top;\n",
              "    }\n",
              "\n",
              "    .dataframe thead th {\n",
              "        text-align: right;\n",
              "    }\n",
              "</style>\n",
              "<table border=\"1\" class=\"dataframe\">\n",
              "  <thead>\n",
              "    <tr style=\"text-align: right;\">\n",
              "      <th></th>\n",
              "      <th>state</th>\n",
              "      <th>city</th>\n",
              "      <th>percent_completed_hs</th>\n",
              "      <th>poverty_rate</th>\n",
              "      <th>Median Income</th>\n",
              "      <th>share_white</th>\n",
              "      <th>share_black</th>\n",
              "      <th>share_native_american</th>\n",
              "      <th>share_asian</th>\n",
              "      <th>share_hispanic</th>\n",
              "      <th>id</th>\n",
              "      <th>name</th>\n",
              "      <th>date</th>\n",
              "      <th>manner_of_death</th>\n",
              "      <th>armed</th>\n",
              "      <th>age</th>\n",
              "      <th>gender</th>\n",
              "      <th>race</th>\n",
              "      <th>signs_of_mental_illness</th>\n",
              "      <th>threat_level</th>\n",
              "      <th>flee</th>\n",
              "      <th>body_camera</th>\n",
              "    </tr>\n",
              "  </thead>\n",
              "  <tbody>\n",
              "    <tr>\n",
              "      <th>25</th>\n",
              "      <td>AK</td>\n",
              "      <td>Barrow</td>\n",
              "      <td>84.6</td>\n",
              "      <td>11.7</td>\n",
              "      <td>76902.0</td>\n",
              "      <td>16.9</td>\n",
              "      <td>1.0</td>\n",
              "      <td>61.2</td>\n",
              "      <td>9.1</td>\n",
              "      <td>3.1</td>\n",
              "      <td>1255.0</td>\n",
              "      <td>Vincent Nageak</td>\n",
              "      <td>10/02/16</td>\n",
              "      <td>shot</td>\n",
              "      <td>gun</td>\n",
              "      <td>36.0</td>\n",
              "      <td>M</td>\n",
              "      <td>N</td>\n",
              "      <td>False</td>\n",
              "      <td>attack</td>\n",
              "      <td>Not fleeing</td>\n",
              "      <td>False</td>\n",
              "    </tr>\n",
              "    <tr>\n",
              "      <th>32</th>\n",
              "      <td>AK</td>\n",
              "      <td>Big Lake</td>\n",
              "      <td>90.4</td>\n",
              "      <td>9.6</td>\n",
              "      <td>70988.0</td>\n",
              "      <td>86.1</td>\n",
              "      <td>0.2</td>\n",
              "      <td>7.0</td>\n",
              "      <td>0.5</td>\n",
              "      <td>3.1</td>\n",
              "      <td>2363.0</td>\n",
              "      <td>Jean R. Valescot</td>\n",
              "      <td>17/02/17</td>\n",
              "      <td>shot</td>\n",
              "      <td>gun</td>\n",
              "      <td>35.0</td>\n",
              "      <td>M</td>\n",
              "      <td>B</td>\n",
              "      <td>False</td>\n",
              "      <td>attack</td>\n",
              "      <td>Not fleeing</td>\n",
              "      <td>False</td>\n",
              "    </tr>\n",
              "    <tr>\n",
              "      <th>89</th>\n",
              "      <td>AK</td>\n",
              "      <td>Fairbanks</td>\n",
              "      <td>91.2</td>\n",
              "      <td>13.1</td>\n",
              "      <td>55229.0</td>\n",
              "      <td>66.1</td>\n",
              "      <td>9.0</td>\n",
              "      <td>10.0</td>\n",
              "      <td>3.6</td>\n",
              "      <td>9.0</td>\n",
              "      <td>836.0</td>\n",
              "      <td>Tristan Vent</td>\n",
              "      <td>08/09/15</td>\n",
              "      <td>shot</td>\n",
              "      <td>gun</td>\n",
              "      <td>19.0</td>\n",
              "      <td>M</td>\n",
              "      <td>N</td>\n",
              "      <td>False</td>\n",
              "      <td>attack</td>\n",
              "      <td>Not fleeing</td>\n",
              "      <td>False</td>\n",
              "    </tr>\n",
              "    <tr>\n",
              "      <th>90</th>\n",
              "      <td>AK</td>\n",
              "      <td>Fairbanks</td>\n",
              "      <td>91.2</td>\n",
              "      <td>13.1</td>\n",
              "      <td>55229.0</td>\n",
              "      <td>66.1</td>\n",
              "      <td>9.0</td>\n",
              "      <td>10.0</td>\n",
              "      <td>3.6</td>\n",
              "      <td>9.0</td>\n",
              "      <td>816.0</td>\n",
              "      <td>Vincent J. Perdue</td>\n",
              "      <td>09/09/15</td>\n",
              "      <td>shot</td>\n",
              "      <td>gun</td>\n",
              "      <td>33.0</td>\n",
              "      <td>M</td>\n",
              "      <td>N</td>\n",
              "      <td>False</td>\n",
              "      <td>attack</td>\n",
              "      <td>Car</td>\n",
              "      <td>False</td>\n",
              "    </tr>\n",
              "    <tr>\n",
              "      <th>91</th>\n",
              "      <td>AK</td>\n",
              "      <td>Fairbanks</td>\n",
              "      <td>91.2</td>\n",
              "      <td>13.1</td>\n",
              "      <td>55229.0</td>\n",
              "      <td>66.1</td>\n",
              "      <td>9.0</td>\n",
              "      <td>10.0</td>\n",
              "      <td>3.6</td>\n",
              "      <td>9.0</td>\n",
              "      <td>2618.0</td>\n",
              "      <td>Shawn Buck</td>\n",
              "      <td>25/05/17</td>\n",
              "      <td>shot</td>\n",
              "      <td>gun</td>\n",
              "      <td>23.0</td>\n",
              "      <td>M</td>\n",
              "      <td>W</td>\n",
              "      <td>False</td>\n",
              "      <td>attack</td>\n",
              "      <td>Car</td>\n",
              "      <td>False</td>\n",
              "    </tr>\n",
              "  </tbody>\n",
              "</table>\n",
              "</div>"
            ],
            "text/plain": [
              "   state       city  percent_completed_hs  ...  threat_level         flee  body_camera\n",
              "25    AK     Barrow                  84.6  ...        attack  Not fleeing        False\n",
              "32    AK   Big Lake                  90.4  ...        attack  Not fleeing        False\n",
              "89    AK  Fairbanks                  91.2  ...        attack  Not fleeing        False\n",
              "90    AK  Fairbanks                  91.2  ...        attack          Car        False\n",
              "91    AK  Fairbanks                  91.2  ...        attack          Car        False\n",
              "\n",
              "[5 rows x 22 columns]"
            ]
          },
          "metadata": {
            "tags": []
          },
          "execution_count": 84
        }
      ]
    },
    {
      "cell_type": "code",
      "metadata": {
        "id": "ctRzrXp5cv5k",
        "colab_type": "code",
        "colab": {
          "base_uri": "https://localhost:8080/",
          "height": 510
        },
        "outputId": "e586ce08-e10f-4f65-84e4-d8598f24527c"
      },
      "source": [
        "data.info()"
      ],
      "execution_count": 91,
      "outputs": [
        {
          "output_type": "stream",
          "text": [
            "<class 'pandas.core.frame.DataFrame'>\n",
            "Int64Index: 1938 entries, 25 to 29882\n",
            "Data columns (total 22 columns):\n",
            " #   Column                   Non-Null Count  Dtype  \n",
            "---  ------                   --------------  -----  \n",
            " 0   state                    1938 non-null   object \n",
            " 1   city                     1938 non-null   object \n",
            " 2   percent_completed_hs     1938 non-null   float64\n",
            " 3   poverty_rate             1938 non-null   float64\n",
            " 4   Median Income            1938 non-null   float64\n",
            " 5   share_white              1938 non-null   float64\n",
            " 6   share_black              1938 non-null   float64\n",
            " 7   share_native_american    1938 non-null   float64\n",
            " 8   share_asian              1938 non-null   float64\n",
            " 9   share_hispanic           1938 non-null   float64\n",
            " 10  id                       1938 non-null   float64\n",
            " 11  name                     1938 non-null   object \n",
            " 12  date                     1938 non-null   object \n",
            " 13  manner_of_death          1938 non-null   object \n",
            " 14  armed                    1938 non-null   object \n",
            " 15  age                      1938 non-null   float64\n",
            " 16  gender                   1938 non-null   object \n",
            " 17  race                     1938 non-null   object \n",
            " 18  signs_of_mental_illness  1938 non-null   object \n",
            " 19  threat_level             1938 non-null   object \n",
            " 20  flee                     1938 non-null   object \n",
            " 21  body_camera              1938 non-null   object \n",
            "dtypes: float64(10), object(12)\n",
            "memory usage: 348.2+ KB\n"
          ],
          "name": "stdout"
        }
      ]
    },
    {
      "cell_type": "code",
      "metadata": {
        "id": "WIiYPKJ5ztSl",
        "colab_type": "code",
        "colab": {}
      },
      "source": [
        "from sklearn import preprocessing\n",
        "from sklearn import model_selection\n",
        "feature = ['percent_completed_hs','poverty_rate','Median Income','state','city',\n",
        "           'share_white','share_black','share_asian','share_native_american',\n",
        "           'share_hispanic','manner_of_death', 'armed', 'gender', 'race', \n",
        "           'city', 'state', 'signs_of_mental_illness', 'threat_level']\n",
        "target = 'age'\n",
        "\n",
        "X = data.dropna()[feature]\n",
        "y = data[target]\n",
        "\n",
        "object_cols = (X.dtypes == 'object')[X.dtypes == 'object'].index\n",
        "\n",
        "X_train, X_test, y_train, y_test  = model_selection.train_test_split(X,y,train_size=0.8, test_size=0.2, random_state=0)\n",
        "\n",
        "encoder = preprocessing.OneHotEncoder(handle_unknown='ignore', sparse=False)\n",
        "X_OH_train_cols = pd.DataFrame(encoder.fit_transform(X_train[object_cols]))\n",
        "X_OH_test_cols = pd.DataFrame(encoder.transform(X_test[object_cols]))\n",
        "\n",
        "X_OH_train_cols.index = X_train.index\n",
        "X_OH_test_cols.index = X_test.index\n",
        "\n",
        "X_train = X_train.drop(object_cols, axis=1)\n",
        "X_test = X_test.drop(object_cols, axis=1)\n",
        "\n",
        "X_train = pd.concat([X_train, X_OH_train_cols], axis=1)\n",
        "X_test = pd.concat([X_test, X_OH_test_cols], axis=1)\n"
      ],
      "execution_count": 87,
      "outputs": []
    },
    {
      "cell_type": "code",
      "metadata": {
        "id": "qLBTXzBOuggP",
        "colab_type": "code",
        "colab": {
          "base_uri": "https://localhost:8080/",
          "height": 34
        },
        "outputId": "49f297e3-6378-4fae-d269-2bab12880176"
      },
      "source": [
        "# predict age of victims\n",
        "\n",
        "model = ensemble.RandomForestRegressor()\n",
        "model = model.fit(X_train,y_train)\n",
        "\n",
        "test_prediction = model.predict(X_test)\n",
        "print('Random Forest Regressor MAE: {}'.format(metrics.mean_absolute_error(y_test, test_prediction)))"
      ],
      "execution_count": 93,
      "outputs": [
        {
          "output_type": "stream",
          "text": [
            "Random Forest Regressor MAE: 10.326045732805003\n"
          ],
          "name": "stdout"
        }
      ]
    },
    {
      "cell_type": "code",
      "metadata": {
        "id": "4R9V3ah1QXgQ",
        "colab_type": "code",
        "colab": {
          "base_uri": "https://localhost:8080/",
          "height": 34
        },
        "outputId": "032e685a-ab68-48f3-e60e-760eda107c22"
      },
      "source": [
        "# predict age of victims\n",
        "\n",
        "model = ensemble.GradientBoostingRegressor()\n",
        "model = model.fit(X_train,y_train)\n",
        "\n",
        "test_prediction = model.predict(X_test)\n",
        "print('Gradient Boosting Regressor MAE: {}'.format(metrics.mean_absolute_error(y_test, test_prediction)))"
      ],
      "execution_count": 94,
      "outputs": [
        {
          "output_type": "stream",
          "text": [
            "Gradient Boosting Regressor MAE: 9.887069550335301\n"
          ],
          "name": "stdout"
        }
      ]
    },
    {
      "cell_type": "code",
      "metadata": {
        "id": "GtI6Hir1kaT6",
        "colab_type": "code",
        "colab": {}
      },
      "source": [
        "feature = ['percent_completed_hs','poverty_rate','Median Income','state','city',\n",
        "           'share_white','share_black','share_asian','share_native_american',\n",
        "           'share_hispanic','manner_of_death', 'armed', 'gender', 'age', \n",
        "           'city', 'state', 'signs_of_mental_illness', 'threat_level']\n",
        "target = 'race'\n",
        "\n",
        "X = data.dropna()[feature]\n",
        "y = data[target]\n",
        "\n",
        "object_cols = (X.dtypes == 'object')[X.dtypes == 'object'].index\n",
        "\n",
        "X_train, X_test, y_train, y_test  = model_selection.train_test_split(X,y,train_size=0.8, test_size=0.2, random_state=0)\n",
        "\n",
        "encoder = preprocessing.OneHotEncoder(handle_unknown='ignore', sparse=False)\n",
        "X_OH_train_cols = pd.DataFrame(encoder.fit_transform(X_train[object_cols]))\n",
        "X_OH_test_cols = pd.DataFrame(encoder.transform(X_test[object_cols]))\n",
        "\n",
        "X_OH_train_cols.index = X_train.index\n",
        "X_OH_test_cols.index = X_test.index\n",
        "\n",
        "X_train = X_train.drop(object_cols, axis=1)\n",
        "X_test = X_test.drop(object_cols, axis=1)\n",
        "\n",
        "X_train = pd.concat([X_train, X_OH_train_cols], axis=1)\n",
        "X_test = pd.concat([X_test, X_OH_test_cols], axis=1)"
      ],
      "execution_count": 95,
      "outputs": []
    },
    {
      "cell_type": "code",
      "metadata": {
        "id": "B1c18wDkkm0_",
        "colab_type": "code",
        "colab": {
          "base_uri": "https://localhost:8080/",
          "height": 309
        },
        "outputId": "009f4df9-0a06-41de-c905-cbd22b4a5739"
      },
      "source": [
        "# predict age of victims\n",
        "model = ensemble.RandomForestClassifier()\n",
        "model = model.fit(X_train,y_train)\n",
        "\n",
        "test_prediction = model.predict(X_test)\n",
        "print('Random Forest Classifier Accuracy Score: {}'.format(metrics.accuracy_score(y_test, test_prediction)))\n",
        "print(metrics.classification_report(y_test, test_prediction))"
      ],
      "execution_count": 100,
      "outputs": [
        {
          "output_type": "stream",
          "text": [
            "Random Forest Classifier Accuracy Score: 0.6005154639175257\n",
            "              precision    recall  f1-score   support\n",
            "\n",
            "           A       0.50      0.10      0.17        10\n",
            "           B       0.57      0.53      0.55       102\n",
            "           H       0.46      0.57      0.51        65\n",
            "           N       0.00      0.00      0.00         8\n",
            "           O       0.75      0.50      0.60         6\n",
            "           W       0.67      0.70      0.68       197\n",
            "\n",
            "    accuracy                           0.60       388\n",
            "   macro avg       0.49      0.40      0.42       388\n",
            "weighted avg       0.59      0.60      0.59       388\n",
            "\n"
          ],
          "name": "stdout"
        },
        {
          "output_type": "stream",
          "text": [
            "/usr/local/lib/python3.6/dist-packages/sklearn/metrics/_classification.py:1272: UndefinedMetricWarning: Precision and F-score are ill-defined and being set to 0.0 in labels with no predicted samples. Use `zero_division` parameter to control this behavior.\n",
            "  _warn_prf(average, modifier, msg_start, len(result))\n"
          ],
          "name": "stderr"
        }
      ]
    },
    {
      "cell_type": "code",
      "metadata": {
        "id": "9yXV8qIimsn7",
        "colab_type": "code",
        "colab": {
          "base_uri": "https://localhost:8080/",
          "height": 51
        },
        "outputId": "fadcfcea-a641-415e-fffa-a8453b56160e"
      },
      "source": [
        "model.feature_importances_"
      ],
      "execution_count": 98,
      "outputs": [
        {
          "output_type": "execute_result",
          "data": {
            "text/plain": [
              "array([0.02447458, 0.02138458, 0.02156719, ..., 0.01607287, 0.01550846,\n",
              "       0.0044888 ])"
            ]
          },
          "metadata": {
            "tags": []
          },
          "execution_count": 98
        }
      ]
    }
  ]
}