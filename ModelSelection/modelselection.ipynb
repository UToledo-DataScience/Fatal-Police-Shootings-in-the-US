{
  "nbformat": 4,
  "nbformat_minor": 0,
  "metadata": {
    "colab": {
      "name": "Untitled0.ipynb",
      "provenance": [],
      "collapsed_sections": [],
      "toc_visible": true,
      "authorship_tag": "ABX9TyNbYbtqE0Jf6cat+N7B2qmT",
      "include_colab_link": true
    },
    "kernelspec": {
      "name": "python3",
      "display_name": "Python 3"
    }
  },
  "cells": [
    {
      "cell_type": "markdown",
      "metadata": {
        "id": "view-in-github",
        "colab_type": "text"
      },
      "source": [
        "<a href=\"https://colab.research.google.com/github/linkzero177/Fatal-Police-Shootings-in-the-US/blob/master/ModelSelection/modelselection.ipynb\" target=\"_parent\"><img src=\"https://colab.research.google.com/assets/colab-badge.svg\" alt=\"Open In Colab\"/></a>"
      ]
    },
    {
      "cell_type": "code",
      "metadata": {
        "id": "AdfMWGP6rLF-",
        "colab_type": "code",
        "colab": {}
      },
      "source": [
        "import numpy as np\n",
        "import pandas as pd\n",
        "import matplotlib.pyplot as plt\n",
        "%matplotlib inline\n",
        "import seaborn as sns\n",
        "from IPython.core.interactiveshell import InteractiveShell\n",
        "InteractiveShell.ast_node_interactivity = \"all\"\n",
        "from sklearn import ensemble\n",
        "from sklearn import metrics\n",
        "\n",
        "fatal_police_shooting_us = pd.read_csv('/content/drive/My Drive/data/cleaned-data/cleaned-PoliceKillingsUS.csv', encoding=\"windows-1252\")\n",
        "demographic = pd.read_csv('/content/drive/My Drive/data/cleaned-data/demographic.csv', encoding=\"windows-1252\")\n",
        "data = pd.read_csv('/content/drive/My Drive/data/cleaned-data/combined.csv', encoding=\"windows-1252\")"
      ],
      "execution_count": null,
      "outputs": []
    },
    {
      "cell_type": "code",
      "metadata": {
        "id": "7I7cYltobOyv",
        "colab_type": "code",
        "colab": {
          "base_uri": "https://localhost:8080/",
          "height": 136
        },
        "outputId": "88ed7ebe-0fdc-45b2-c954-878e1f11c3d7"
      },
      "source": [
        "print('--fatal_police_shooting_us')\n",
        "print('Length: {}'.format(len(fatal_police_shooting_us)))\n",
        "print('--demographic')\n",
        "print('Length: {}'.format(len(demographic)))\n",
        "print('--data')\n",
        "print('Before: {}'.format(len(data)))\n",
        "data = data.dropna(axis=0)\n",
        "print('After:  {}'.format(len(data)))"
      ],
      "execution_count": null,
      "outputs": [
        {
          "output_type": "stream",
          "text": [
            "--fatal_police_shooting_us\n",
            "Length: 2254\n",
            "--demographic\n",
            "Length: 29132\n",
            "--data\n",
            "Before: 29969\n",
            "After:  1938\n"
          ],
          "name": "stdout"
        }
      ]
    },
    {
      "cell_type": "code",
      "metadata": {
        "id": "9mRcvp_1t9uj",
        "colab_type": "code",
        "colab": {
          "base_uri": "https://localhost:8080/",
          "height": 343
        },
        "outputId": "3d8207a6-3c8d-4c75-cb86-7819119fd520"
      },
      "source": [
        "data.head()"
      ],
      "execution_count": null,
      "outputs": [
        {
          "output_type": "execute_result",
          "data": {
            "text/html": [
              "<div>\n",
              "<style scoped>\n",
              "    .dataframe tbody tr th:only-of-type {\n",
              "        vertical-align: middle;\n",
              "    }\n",
              "\n",
              "    .dataframe tbody tr th {\n",
              "        vertical-align: top;\n",
              "    }\n",
              "\n",
              "    .dataframe thead th {\n",
              "        text-align: right;\n",
              "    }\n",
              "</style>\n",
              "<table border=\"1\" class=\"dataframe\">\n",
              "  <thead>\n",
              "    <tr style=\"text-align: right;\">\n",
              "      <th></th>\n",
              "      <th>state</th>\n",
              "      <th>city</th>\n",
              "      <th>percent_completed_hs</th>\n",
              "      <th>poverty_rate</th>\n",
              "      <th>Median Income</th>\n",
              "      <th>share_white</th>\n",
              "      <th>share_black</th>\n",
              "      <th>share_native_american</th>\n",
              "      <th>share_asian</th>\n",
              "      <th>share_hispanic</th>\n",
              "      <th>id</th>\n",
              "      <th>name</th>\n",
              "      <th>date</th>\n",
              "      <th>manner_of_death</th>\n",
              "      <th>armed</th>\n",
              "      <th>age</th>\n",
              "      <th>gender</th>\n",
              "      <th>race</th>\n",
              "      <th>signs_of_mental_illness</th>\n",
              "      <th>threat_level</th>\n",
              "      <th>flee</th>\n",
              "      <th>body_camera</th>\n",
              "    </tr>\n",
              "  </thead>\n",
              "  <tbody>\n",
              "    <tr>\n",
              "      <th>25</th>\n",
              "      <td>AK</td>\n",
              "      <td>Barrow</td>\n",
              "      <td>84.6</td>\n",
              "      <td>11.7</td>\n",
              "      <td>76902.0</td>\n",
              "      <td>16.9</td>\n",
              "      <td>1.0</td>\n",
              "      <td>61.2</td>\n",
              "      <td>9.1</td>\n",
              "      <td>3.1</td>\n",
              "      <td>1255.0</td>\n",
              "      <td>Vincent Nageak</td>\n",
              "      <td>10/02/16</td>\n",
              "      <td>shot</td>\n",
              "      <td>gun</td>\n",
              "      <td>36.0</td>\n",
              "      <td>M</td>\n",
              "      <td>N</td>\n",
              "      <td>False</td>\n",
              "      <td>attack</td>\n",
              "      <td>Not fleeing</td>\n",
              "      <td>False</td>\n",
              "    </tr>\n",
              "    <tr>\n",
              "      <th>32</th>\n",
              "      <td>AK</td>\n",
              "      <td>Big Lake</td>\n",
              "      <td>90.4</td>\n",
              "      <td>9.6</td>\n",
              "      <td>70988.0</td>\n",
              "      <td>86.1</td>\n",
              "      <td>0.2</td>\n",
              "      <td>7.0</td>\n",
              "      <td>0.5</td>\n",
              "      <td>3.1</td>\n",
              "      <td>2363.0</td>\n",
              "      <td>Jean R. Valescot</td>\n",
              "      <td>17/02/17</td>\n",
              "      <td>shot</td>\n",
              "      <td>gun</td>\n",
              "      <td>35.0</td>\n",
              "      <td>M</td>\n",
              "      <td>B</td>\n",
              "      <td>False</td>\n",
              "      <td>attack</td>\n",
              "      <td>Not fleeing</td>\n",
              "      <td>False</td>\n",
              "    </tr>\n",
              "    <tr>\n",
              "      <th>89</th>\n",
              "      <td>AK</td>\n",
              "      <td>Fairbanks</td>\n",
              "      <td>91.2</td>\n",
              "      <td>13.1</td>\n",
              "      <td>55229.0</td>\n",
              "      <td>66.1</td>\n",
              "      <td>9.0</td>\n",
              "      <td>10.0</td>\n",
              "      <td>3.6</td>\n",
              "      <td>9.0</td>\n",
              "      <td>836.0</td>\n",
              "      <td>Tristan Vent</td>\n",
              "      <td>08/09/15</td>\n",
              "      <td>shot</td>\n",
              "      <td>gun</td>\n",
              "      <td>19.0</td>\n",
              "      <td>M</td>\n",
              "      <td>N</td>\n",
              "      <td>False</td>\n",
              "      <td>attack</td>\n",
              "      <td>Not fleeing</td>\n",
              "      <td>False</td>\n",
              "    </tr>\n",
              "    <tr>\n",
              "      <th>90</th>\n",
              "      <td>AK</td>\n",
              "      <td>Fairbanks</td>\n",
              "      <td>91.2</td>\n",
              "      <td>13.1</td>\n",
              "      <td>55229.0</td>\n",
              "      <td>66.1</td>\n",
              "      <td>9.0</td>\n",
              "      <td>10.0</td>\n",
              "      <td>3.6</td>\n",
              "      <td>9.0</td>\n",
              "      <td>816.0</td>\n",
              "      <td>Vincent J. Perdue</td>\n",
              "      <td>09/09/15</td>\n",
              "      <td>shot</td>\n",
              "      <td>gun</td>\n",
              "      <td>33.0</td>\n",
              "      <td>M</td>\n",
              "      <td>N</td>\n",
              "      <td>False</td>\n",
              "      <td>attack</td>\n",
              "      <td>Car</td>\n",
              "      <td>False</td>\n",
              "    </tr>\n",
              "    <tr>\n",
              "      <th>91</th>\n",
              "      <td>AK</td>\n",
              "      <td>Fairbanks</td>\n",
              "      <td>91.2</td>\n",
              "      <td>13.1</td>\n",
              "      <td>55229.0</td>\n",
              "      <td>66.1</td>\n",
              "      <td>9.0</td>\n",
              "      <td>10.0</td>\n",
              "      <td>3.6</td>\n",
              "      <td>9.0</td>\n",
              "      <td>2618.0</td>\n",
              "      <td>Shawn Buck</td>\n",
              "      <td>25/05/17</td>\n",
              "      <td>shot</td>\n",
              "      <td>gun</td>\n",
              "      <td>23.0</td>\n",
              "      <td>M</td>\n",
              "      <td>W</td>\n",
              "      <td>False</td>\n",
              "      <td>attack</td>\n",
              "      <td>Car</td>\n",
              "      <td>False</td>\n",
              "    </tr>\n",
              "  </tbody>\n",
              "</table>\n",
              "</div>"
            ],
            "text/plain": [
              "   state       city  percent_completed_hs  ...  threat_level         flee  body_camera\n",
              "25    AK     Barrow                  84.6  ...        attack  Not fleeing        False\n",
              "32    AK   Big Lake                  90.4  ...        attack  Not fleeing        False\n",
              "89    AK  Fairbanks                  91.2  ...        attack  Not fleeing        False\n",
              "90    AK  Fairbanks                  91.2  ...        attack          Car        False\n",
              "91    AK  Fairbanks                  91.2  ...        attack          Car        False\n",
              "\n",
              "[5 rows x 22 columns]"
            ]
          },
          "metadata": {
            "tags": []
          },
          "execution_count": 56
        }
      ]
    },
    {
      "cell_type": "code",
      "metadata": {
        "id": "ctRzrXp5cv5k",
        "colab_type": "code",
        "colab": {
          "base_uri": "https://localhost:8080/",
          "height": 510
        },
        "outputId": "fb1f4de0-36d0-4fd1-c2bd-744f1f08a26f"
      },
      "source": [
        "data.info()"
      ],
      "execution_count": null,
      "outputs": [
        {
          "output_type": "stream",
          "text": [
            "<class 'pandas.core.frame.DataFrame'>\n",
            "Int64Index: 1938 entries, 25 to 29882\n",
            "Data columns (total 22 columns):\n",
            " #   Column                   Non-Null Count  Dtype  \n",
            "---  ------                   --------------  -----  \n",
            " 0   state                    1938 non-null   object \n",
            " 1   city                     1938 non-null   object \n",
            " 2   percent_completed_hs     1938 non-null   float64\n",
            " 3   poverty_rate             1938 non-null   float64\n",
            " 4   Median Income            1938 non-null   float64\n",
            " 5   share_white              1938 non-null   float64\n",
            " 6   share_black              1938 non-null   float64\n",
            " 7   share_native_american    1938 non-null   float64\n",
            " 8   share_asian              1938 non-null   float64\n",
            " 9   share_hispanic           1938 non-null   float64\n",
            " 10  id                       1938 non-null   float64\n",
            " 11  name                     1938 non-null   object \n",
            " 12  date                     1938 non-null   object \n",
            " 13  manner_of_death          1938 non-null   object \n",
            " 14  armed                    1938 non-null   object \n",
            " 15  age                      1938 non-null   float64\n",
            " 16  gender                   1938 non-null   object \n",
            " 17  race                     1938 non-null   object \n",
            " 18  signs_of_mental_illness  1938 non-null   object \n",
            " 19  threat_level             1938 non-null   object \n",
            " 20  flee                     1938 non-null   object \n",
            " 21  body_camera              1938 non-null   object \n",
            "dtypes: float64(10), object(12)\n",
            "memory usage: 348.2+ KB\n"
          ],
          "name": "stdout"
        }
      ]
    },
    {
      "cell_type": "markdown",
      "metadata": {
        "id": "RR2dIe0KxgXC",
        "colab_type": "text"
      },
      "source": [
        "# **Predict age of victims**"
      ]
    },
    {
      "cell_type": "code",
      "metadata": {
        "id": "lDEDdTUD1wx9",
        "colab_type": "code",
        "colab": {}
      },
      "source": [
        "from sklearn import preprocessing\n",
        "from sklearn import model_selection\n",
        "from sklearn import inspection\n",
        "from sklearn import metrics\n",
        "\n",
        "FEATURE_AGE = ['percent_completed_hs','poverty_rate','Median Income',\n",
        "               'share_white','share_black','share_asian',\n",
        "               'share_native_american','share_hispanic','manner_of_death', \n",
        "               'armed', 'gender', 'race', 'signs_of_mental_illness', \n",
        "               'threat_level']\n",
        "TARGET_AGE = 'age'\n",
        "\n",
        "X_age = data[FEATURE_AGE]\n",
        "y_age = data[TARGET_AGE]"
      ],
      "execution_count": null,
      "outputs": []
    },
    {
      "cell_type": "code",
      "metadata": {
        "id": "QjsQHBlPStBs",
        "colab_type": "code",
        "colab": {
          "base_uri": "https://localhost:8080/",
          "height": 173
        },
        "outputId": "2fdd1ba3-92f0-440e-caff-093aa3b3edf9"
      },
      "source": [
        "object_cols = (X_age.dtypes == 'object')[X_age.dtypes == 'object'].index\n",
        "X_age[object_cols].describe()\n",
        "\n",
        "OH_FEATURES = ['race', 'threat_level', 'armed']  # since these variables are nominal\n",
        "LABEL_FEATURES = ['manner_of_death', 'gender', 'signs_of_mental_illness'] # since these are binary variables"
      ],
      "execution_count": 136,
      "outputs": [
        {
          "output_type": "execute_result",
          "data": {
            "text/html": [
              "<div>\n",
              "<style scoped>\n",
              "    .dataframe tbody tr th:only-of-type {\n",
              "        vertical-align: middle;\n",
              "    }\n",
              "\n",
              "    .dataframe tbody tr th {\n",
              "        vertical-align: top;\n",
              "    }\n",
              "\n",
              "    .dataframe thead th {\n",
              "        text-align: right;\n",
              "    }\n",
              "</style>\n",
              "<table border=\"1\" class=\"dataframe\">\n",
              "  <thead>\n",
              "    <tr style=\"text-align: right;\">\n",
              "      <th></th>\n",
              "      <th>manner_of_death</th>\n",
              "      <th>armed</th>\n",
              "      <th>gender</th>\n",
              "      <th>race</th>\n",
              "      <th>signs_of_mental_illness</th>\n",
              "      <th>threat_level</th>\n",
              "    </tr>\n",
              "  </thead>\n",
              "  <tbody>\n",
              "    <tr>\n",
              "      <th>count</th>\n",
              "      <td>1938</td>\n",
              "      <td>1938</td>\n",
              "      <td>1938</td>\n",
              "      <td>1938</td>\n",
              "      <td>1938</td>\n",
              "      <td>1938</td>\n",
              "    </tr>\n",
              "    <tr>\n",
              "      <th>unique</th>\n",
              "      <td>2</td>\n",
              "      <td>9</td>\n",
              "      <td>2</td>\n",
              "      <td>6</td>\n",
              "      <td>2</td>\n",
              "      <td>3</td>\n",
              "    </tr>\n",
              "    <tr>\n",
              "      <th>top</th>\n",
              "      <td>shot</td>\n",
              "      <td>gun</td>\n",
              "      <td>M</td>\n",
              "      <td>W</td>\n",
              "      <td>False</td>\n",
              "      <td>attack</td>\n",
              "    </tr>\n",
              "    <tr>\n",
              "      <th>freq</th>\n",
              "      <td>1806</td>\n",
              "      <td>1074</td>\n",
              "      <td>1853</td>\n",
              "      <td>965</td>\n",
              "      <td>1457</td>\n",
              "      <td>1251</td>\n",
              "    </tr>\n",
              "  </tbody>\n",
              "</table>\n",
              "</div>"
            ],
            "text/plain": [
              "       manner_of_death armed gender  race signs_of_mental_illness threat_level\n",
              "count             1938  1938   1938  1938                    1938         1938\n",
              "unique               2     9      2     6                       2            3\n",
              "top               shot   gun      M     W                   False       attack\n",
              "freq              1806  1074   1853   965                    1457         1251"
            ]
          },
          "metadata": {
            "tags": []
          },
          "execution_count": 136
        }
      ]
    },
    {
      "cell_type": "code",
      "metadata": {
        "id": "F9cBrYvWwP6o",
        "colab_type": "code",
        "colab": {
          "base_uri": "https://localhost:8080/",
          "height": 289
        },
        "outputId": "05335b6a-b0ab-4dab-a2f9-c569c3e70dfa"
      },
      "source": [
        "# reduce categories in 'armed' column by removing rarely appeared (<=7) values\n",
        "s = X_age['armed'].value_counts() \n",
        "armed_others = list(s[s<=7].index) \n",
        "X_age['armed'] = X_age['armed'].apply(lambda x: 'others' if x in armed_others else x)\n",
        "X_age['armed'].value_counts()"
      ],
      "execution_count": null,
      "outputs": [
        {
          "output_type": "stream",
          "text": [
            "/usr/local/lib/python3.6/dist-packages/ipykernel_launcher.py:4: SettingWithCopyWarning: \n",
            "A value is trying to be set on a copy of a slice from a DataFrame.\n",
            "Try using .loc[row_indexer,col_indexer] = value instead\n",
            "\n",
            "See the caveats in the documentation: https://pandas.pydata.org/pandas-docs/stable/user_guide/indexing.html#returning-a-view-versus-a-copy\n",
            "  after removing the cwd from sys.path.\n"
          ],
          "name": "stderr"
        },
        {
          "output_type": "execute_result",
          "data": {
            "text/plain": [
              "gun               1074\n",
              "knife              276\n",
              "unarmed            148\n",
              "vehicle            142\n",
              "others             103\n",
              "toy weapon          87\n",
              "undetermined        84\n",
              "machete             15\n",
              "unknown weapon       9\n",
              "Name: armed, dtype: int64"
            ]
          },
          "metadata": {
            "tags": []
          },
          "execution_count": 60
        }
      ]
    },
    {
      "cell_type": "code",
      "metadata": {
        "id": "WIiYPKJ5ztSl",
        "colab_type": "code",
        "colab": {
          "base_uri": "https://localhost:8080/",
          "height": 456
        },
        "outputId": "0e2a37d5-3256-4f7b-afb5-89ce2de22a97"
      },
      "source": [
        "TRAIN_SIZE = 0.8\n",
        "TEST_SIZE = 0.2\n",
        "\n",
        "# splitting train/test\n",
        "X_age_train, X_age_test, y_age_train, y_age_test  = model_selection.train_test_split(X_age,y_age,train_size=TRAIN_SIZE, test_size=TEST_SIZE, random_state=0)\n",
        "\n",
        "# One Hot Encoding \n",
        "encoder = preprocessing.OneHotEncoder(handle_unknown='ignore', sparse=False)\n",
        "\n",
        "X_age_OH_train_cols = pd.DataFrame(encoder.fit_transform(X_age_train[OH_FEATURES]))\n",
        "X_age_OH_test_cols = pd.DataFrame(encoder.transform(X_age_test[OH_FEATURES]))\n",
        "\n",
        "X_age_train = X_age_train.drop(OH_FEATURES, axis=1)\n",
        "X_age_test = X_age_test.drop(OH_FEATURES, axis=1)\n",
        "\n",
        "X_age_OH_train_cols.columns = encoder.get_feature_names()\n",
        "X_age_OH_test_cols.columns = encoder.get_feature_names()\n",
        "\n",
        "X_age_OH_train_cols.index = X_age_train.index\n",
        "X_age_OH_test_cols.index = X_age_test.index\n",
        "\n",
        "X_age_train = pd.concat([X_age_train, X_age_OH_train_cols], axis=1)\n",
        "X_age_test = pd.concat([X_age_test, X_age_OH_test_cols], axis=1)\n",
        "\n",
        "# Label Encoding\n",
        "encoder = preprocessing.LabelEncoder()\n",
        "\n",
        "for col in LABEL_FEATURES:\n",
        "  X_age_train[col] = encoder.fit_transform(X_age_train[col])\n",
        "  X_age_test[col] = encoder.transform(X_age_test[col])\n",
        "\n",
        "X_age_train"
      ],
      "execution_count": 137,
      "outputs": [
        {
          "output_type": "execute_result",
          "data": {
            "text/html": [
              "<div>\n",
              "<style scoped>\n",
              "    .dataframe tbody tr th:only-of-type {\n",
              "        vertical-align: middle;\n",
              "    }\n",
              "\n",
              "    .dataframe tbody tr th {\n",
              "        vertical-align: top;\n",
              "    }\n",
              "\n",
              "    .dataframe thead th {\n",
              "        text-align: right;\n",
              "    }\n",
              "</style>\n",
              "<table border=\"1\" class=\"dataframe\">\n",
              "  <thead>\n",
              "    <tr style=\"text-align: right;\">\n",
              "      <th></th>\n",
              "      <th>percent_completed_hs</th>\n",
              "      <th>poverty_rate</th>\n",
              "      <th>Median Income</th>\n",
              "      <th>share_white</th>\n",
              "      <th>share_black</th>\n",
              "      <th>share_asian</th>\n",
              "      <th>share_native_american</th>\n",
              "      <th>share_hispanic</th>\n",
              "      <th>manner_of_death</th>\n",
              "      <th>gender</th>\n",
              "      <th>signs_of_mental_illness</th>\n",
              "      <th>x0_A</th>\n",
              "      <th>x0_B</th>\n",
              "      <th>x0_H</th>\n",
              "      <th>x0_N</th>\n",
              "      <th>x0_O</th>\n",
              "      <th>x0_W</th>\n",
              "      <th>x1_attack</th>\n",
              "      <th>x1_other</th>\n",
              "      <th>x1_undetermined</th>\n",
              "      <th>x2_gun</th>\n",
              "      <th>x2_knife</th>\n",
              "      <th>x2_machete</th>\n",
              "      <th>x2_others</th>\n",
              "      <th>x2_toy weapon</th>\n",
              "      <th>x2_unarmed</th>\n",
              "      <th>x2_undetermined</th>\n",
              "      <th>x2_unknown weapon</th>\n",
              "      <th>x2_vehicle</th>\n",
              "    </tr>\n",
              "  </thead>\n",
              "  <tbody>\n",
              "    <tr>\n",
              "      <th>18352</th>\n",
              "      <td>94.5</td>\n",
              "      <td>15.7</td>\n",
              "      <td>52179.0</td>\n",
              "      <td>87.4</td>\n",
              "      <td>0.5</td>\n",
              "      <td>1.1</td>\n",
              "      <td>2.8</td>\n",
              "      <td>12.8</td>\n",
              "      <td>0</td>\n",
              "      <td>1</td>\n",
              "      <td>0</td>\n",
              "      <td>0.0</td>\n",
              "      <td>0.0</td>\n",
              "      <td>0.0</td>\n",
              "      <td>0.0</td>\n",
              "      <td>0.0</td>\n",
              "      <td>1.0</td>\n",
              "      <td>1.0</td>\n",
              "      <td>0.0</td>\n",
              "      <td>0.0</td>\n",
              "      <td>1.0</td>\n",
              "      <td>0.0</td>\n",
              "      <td>0.0</td>\n",
              "      <td>0.0</td>\n",
              "      <td>0.0</td>\n",
              "      <td>0.0</td>\n",
              "      <td>0.0</td>\n",
              "      <td>0.0</td>\n",
              "      <td>0.0</td>\n",
              "    </tr>\n",
              "    <tr>\n",
              "      <th>2532</th>\n",
              "      <td>75.2</td>\n",
              "      <td>29.8</td>\n",
              "      <td>41531.0</td>\n",
              "      <td>49.6</td>\n",
              "      <td>8.3</td>\n",
              "      <td>12.6</td>\n",
              "      <td>1.7</td>\n",
              "      <td>46.9</td>\n",
              "      <td>0</td>\n",
              "      <td>1</td>\n",
              "      <td>0</td>\n",
              "      <td>0.0</td>\n",
              "      <td>0.0</td>\n",
              "      <td>1.0</td>\n",
              "      <td>0.0</td>\n",
              "      <td>0.0</td>\n",
              "      <td>0.0</td>\n",
              "      <td>0.0</td>\n",
              "      <td>0.0</td>\n",
              "      <td>1.0</td>\n",
              "      <td>0.0</td>\n",
              "      <td>0.0</td>\n",
              "      <td>0.0</td>\n",
              "      <td>0.0</td>\n",
              "      <td>0.0</td>\n",
              "      <td>0.0</td>\n",
              "      <td>1.0</td>\n",
              "      <td>0.0</td>\n",
              "      <td>0.0</td>\n",
              "    </tr>\n",
              "    <tr>\n",
              "      <th>2223</th>\n",
              "      <td>93.4</td>\n",
              "      <td>16.6</td>\n",
              "      <td>54322.0</td>\n",
              "      <td>80.6</td>\n",
              "      <td>4.8</td>\n",
              "      <td>4.3</td>\n",
              "      <td>0.9</td>\n",
              "      <td>11.7</td>\n",
              "      <td>0</td>\n",
              "      <td>1</td>\n",
              "      <td>0</td>\n",
              "      <td>0.0</td>\n",
              "      <td>1.0</td>\n",
              "      <td>0.0</td>\n",
              "      <td>0.0</td>\n",
              "      <td>0.0</td>\n",
              "      <td>0.0</td>\n",
              "      <td>1.0</td>\n",
              "      <td>0.0</td>\n",
              "      <td>0.0</td>\n",
              "      <td>1.0</td>\n",
              "      <td>0.0</td>\n",
              "      <td>0.0</td>\n",
              "      <td>0.0</td>\n",
              "      <td>0.0</td>\n",
              "      <td>0.0</td>\n",
              "      <td>0.0</td>\n",
              "      <td>0.0</td>\n",
              "      <td>0.0</td>\n",
              "    </tr>\n",
              "    <tr>\n",
              "      <th>3983</th>\n",
              "      <td>86.6</td>\n",
              "      <td>14.0</td>\n",
              "      <td>55831.0</td>\n",
              "      <td>76.6</td>\n",
              "      <td>2.3</td>\n",
              "      <td>3.7</td>\n",
              "      <td>1.3</td>\n",
              "      <td>30.6</td>\n",
              "      <td>0</td>\n",
              "      <td>1</td>\n",
              "      <td>0</td>\n",
              "      <td>0.0</td>\n",
              "      <td>1.0</td>\n",
              "      <td>0.0</td>\n",
              "      <td>0.0</td>\n",
              "      <td>0.0</td>\n",
              "      <td>0.0</td>\n",
              "      <td>1.0</td>\n",
              "      <td>0.0</td>\n",
              "      <td>0.0</td>\n",
              "      <td>1.0</td>\n",
              "      <td>0.0</td>\n",
              "      <td>0.0</td>\n",
              "      <td>0.0</td>\n",
              "      <td>0.0</td>\n",
              "      <td>0.0</td>\n",
              "      <td>0.0</td>\n",
              "      <td>0.0</td>\n",
              "      <td>0.0</td>\n",
              "    </tr>\n",
              "    <tr>\n",
              "      <th>17926</th>\n",
              "      <td>85.6</td>\n",
              "      <td>13.5</td>\n",
              "      <td>51097.0</td>\n",
              "      <td>77.4</td>\n",
              "      <td>1.9</td>\n",
              "      <td>1.0</td>\n",
              "      <td>1.3</td>\n",
              "      <td>42.5</td>\n",
              "      <td>0</td>\n",
              "      <td>1</td>\n",
              "      <td>0</td>\n",
              "      <td>0.0</td>\n",
              "      <td>0.0</td>\n",
              "      <td>1.0</td>\n",
              "      <td>0.0</td>\n",
              "      <td>0.0</td>\n",
              "      <td>0.0</td>\n",
              "      <td>0.0</td>\n",
              "      <td>1.0</td>\n",
              "      <td>0.0</td>\n",
              "      <td>0.0</td>\n",
              "      <td>0.0</td>\n",
              "      <td>0.0</td>\n",
              "      <td>0.0</td>\n",
              "      <td>0.0</td>\n",
              "      <td>0.0</td>\n",
              "      <td>0.0</td>\n",
              "      <td>0.0</td>\n",
              "      <td>1.0</td>\n",
              "    </tr>\n",
              "    <tr>\n",
              "      <th>...</th>\n",
              "      <td>...</td>\n",
              "      <td>...</td>\n",
              "      <td>...</td>\n",
              "      <td>...</td>\n",
              "      <td>...</td>\n",
              "      <td>...</td>\n",
              "      <td>...</td>\n",
              "      <td>...</td>\n",
              "      <td>...</td>\n",
              "      <td>...</td>\n",
              "      <td>...</td>\n",
              "      <td>...</td>\n",
              "      <td>...</td>\n",
              "      <td>...</td>\n",
              "      <td>...</td>\n",
              "      <td>...</td>\n",
              "      <td>...</td>\n",
              "      <td>...</td>\n",
              "      <td>...</td>\n",
              "      <td>...</td>\n",
              "      <td>...</td>\n",
              "      <td>...</td>\n",
              "      <td>...</td>\n",
              "      <td>...</td>\n",
              "      <td>...</td>\n",
              "      <td>...</td>\n",
              "      <td>...</td>\n",
              "      <td>...</td>\n",
              "      <td>...</td>\n",
              "    </tr>\n",
              "    <tr>\n",
              "      <th>8999</th>\n",
              "      <td>89.4</td>\n",
              "      <td>6.8</td>\n",
              "      <td>41853.0</td>\n",
              "      <td>97.6</td>\n",
              "      <td>0.8</td>\n",
              "      <td>0.3</td>\n",
              "      <td>0.0</td>\n",
              "      <td>1.2</td>\n",
              "      <td>0</td>\n",
              "      <td>1</td>\n",
              "      <td>1</td>\n",
              "      <td>0.0</td>\n",
              "      <td>0.0</td>\n",
              "      <td>0.0</td>\n",
              "      <td>0.0</td>\n",
              "      <td>0.0</td>\n",
              "      <td>1.0</td>\n",
              "      <td>1.0</td>\n",
              "      <td>0.0</td>\n",
              "      <td>0.0</td>\n",
              "      <td>1.0</td>\n",
              "      <td>0.0</td>\n",
              "      <td>0.0</td>\n",
              "      <td>0.0</td>\n",
              "      <td>0.0</td>\n",
              "      <td>0.0</td>\n",
              "      <td>0.0</td>\n",
              "      <td>0.0</td>\n",
              "      <td>0.0</td>\n",
              "    </tr>\n",
              "    <tr>\n",
              "      <th>17023</th>\n",
              "      <td>88.0</td>\n",
              "      <td>16.7</td>\n",
              "      <td>49896.0</td>\n",
              "      <td>73.1</td>\n",
              "      <td>13.7</td>\n",
              "      <td>2.4</td>\n",
              "      <td>0.8</td>\n",
              "      <td>13.1</td>\n",
              "      <td>1</td>\n",
              "      <td>1</td>\n",
              "      <td>0</td>\n",
              "      <td>0.0</td>\n",
              "      <td>0.0</td>\n",
              "      <td>0.0</td>\n",
              "      <td>0.0</td>\n",
              "      <td>0.0</td>\n",
              "      <td>1.0</td>\n",
              "      <td>0.0</td>\n",
              "      <td>1.0</td>\n",
              "      <td>0.0</td>\n",
              "      <td>0.0</td>\n",
              "      <td>0.0</td>\n",
              "      <td>0.0</td>\n",
              "      <td>0.0</td>\n",
              "      <td>0.0</td>\n",
              "      <td>1.0</td>\n",
              "      <td>0.0</td>\n",
              "      <td>0.0</td>\n",
              "      <td>0.0</td>\n",
              "    </tr>\n",
              "    <tr>\n",
              "      <th>25643</th>\n",
              "      <td>72.3</td>\n",
              "      <td>10.3</td>\n",
              "      <td>49868.0</td>\n",
              "      <td>79.4</td>\n",
              "      <td>2.1</td>\n",
              "      <td>0.8</td>\n",
              "      <td>0.7</td>\n",
              "      <td>73.7</td>\n",
              "      <td>0</td>\n",
              "      <td>1</td>\n",
              "      <td>0</td>\n",
              "      <td>0.0</td>\n",
              "      <td>0.0</td>\n",
              "      <td>1.0</td>\n",
              "      <td>0.0</td>\n",
              "      <td>0.0</td>\n",
              "      <td>0.0</td>\n",
              "      <td>1.0</td>\n",
              "      <td>0.0</td>\n",
              "      <td>0.0</td>\n",
              "      <td>1.0</td>\n",
              "      <td>0.0</td>\n",
              "      <td>0.0</td>\n",
              "      <td>0.0</td>\n",
              "      <td>0.0</td>\n",
              "      <td>0.0</td>\n",
              "      <td>0.0</td>\n",
              "      <td>0.0</td>\n",
              "      <td>0.0</td>\n",
              "    </tr>\n",
              "    <tr>\n",
              "      <th>4085</th>\n",
              "      <td>92.9</td>\n",
              "      <td>4.7</td>\n",
              "      <td>76875.0</td>\n",
              "      <td>93.6</td>\n",
              "      <td>0.9</td>\n",
              "      <td>0.6</td>\n",
              "      <td>0.9</td>\n",
              "      <td>6.7</td>\n",
              "      <td>0</td>\n",
              "      <td>1</td>\n",
              "      <td>0</td>\n",
              "      <td>0.0</td>\n",
              "      <td>0.0</td>\n",
              "      <td>1.0</td>\n",
              "      <td>0.0</td>\n",
              "      <td>0.0</td>\n",
              "      <td>0.0</td>\n",
              "      <td>1.0</td>\n",
              "      <td>0.0</td>\n",
              "      <td>0.0</td>\n",
              "      <td>1.0</td>\n",
              "      <td>0.0</td>\n",
              "      <td>0.0</td>\n",
              "      <td>0.0</td>\n",
              "      <td>0.0</td>\n",
              "      <td>0.0</td>\n",
              "      <td>0.0</td>\n",
              "      <td>0.0</td>\n",
              "      <td>0.0</td>\n",
              "    </tr>\n",
              "    <tr>\n",
              "      <th>5111</th>\n",
              "      <td>91.9</td>\n",
              "      <td>9.5</td>\n",
              "      <td>66497.0</td>\n",
              "      <td>70.2</td>\n",
              "      <td>17.0</td>\n",
              "      <td>3.1</td>\n",
              "      <td>0.4</td>\n",
              "      <td>21.0</td>\n",
              "      <td>0</td>\n",
              "      <td>1</td>\n",
              "      <td>0</td>\n",
              "      <td>0.0</td>\n",
              "      <td>0.0</td>\n",
              "      <td>1.0</td>\n",
              "      <td>0.0</td>\n",
              "      <td>0.0</td>\n",
              "      <td>0.0</td>\n",
              "      <td>1.0</td>\n",
              "      <td>0.0</td>\n",
              "      <td>0.0</td>\n",
              "      <td>1.0</td>\n",
              "      <td>0.0</td>\n",
              "      <td>0.0</td>\n",
              "      <td>0.0</td>\n",
              "      <td>0.0</td>\n",
              "      <td>0.0</td>\n",
              "      <td>0.0</td>\n",
              "      <td>0.0</td>\n",
              "      <td>0.0</td>\n",
              "    </tr>\n",
              "  </tbody>\n",
              "</table>\n",
              "<p>1550 rows × 29 columns</p>\n",
              "</div>"
            ],
            "text/plain": [
              "       percent_completed_hs  poverty_rate  ...  x2_unknown weapon  x2_vehicle\n",
              "18352                  94.5          15.7  ...                0.0         0.0\n",
              "2532                   75.2          29.8  ...                0.0         0.0\n",
              "2223                   93.4          16.6  ...                0.0         0.0\n",
              "3983                   86.6          14.0  ...                0.0         0.0\n",
              "17926                  85.6          13.5  ...                0.0         1.0\n",
              "...                     ...           ...  ...                ...         ...\n",
              "8999                   89.4           6.8  ...                0.0         0.0\n",
              "17023                  88.0          16.7  ...                0.0         0.0\n",
              "25643                  72.3          10.3  ...                0.0         0.0\n",
              "4085                   92.9           4.7  ...                0.0         0.0\n",
              "5111                   91.9           9.5  ...                0.0         0.0\n",
              "\n",
              "[1550 rows x 29 columns]"
            ]
          },
          "metadata": {
            "tags": []
          },
          "execution_count": 137
        }
      ]
    },
    {
      "cell_type": "code",
      "metadata": {
        "id": "qLBTXzBOuggP",
        "colab_type": "code",
        "colab": {
          "base_uri": "https://localhost:8080/",
          "height": 408
        },
        "outputId": "170b2bed-4f97-4a65-e8be-7cdd7746ace7"
      },
      "source": [
        "# Random Forest Regressor\n",
        "age_rfr = ensemble.RandomForestRegressor()\n",
        "param_grid = {'n_estimators': [80, 100],\n",
        "              'max_depth': [20, 25],\n",
        "              'min_samples_split': [30,40]}\n",
        "\n",
        "gridsearch_age_rfr = model_selection.GridSearchCV(estimator=age_rfr, \n",
        "                                                  param_grid=param_grid,\n",
        "                                                  cv=5,\n",
        "                                                  scoring=\"neg_root_mean_squared_error\")\n",
        "gridsearch_age_rfr.fit(X_age_train, y_age_train)\n",
        "\n",
        "print('\\n\\nRandom Forest Regressor CV RMSE: {}'.format(abs(gridsearch_age_rfr.best_score_)))\n",
        "print('Best parameters: {}'.format(gridsearch_age_rfr.best_params_))\n",
        "print('Random Forest Regressor Test RMSE: {}'.format(abs(gridsearch_age_rfr.score(X_age_test, y_age_test))))"
      ],
      "execution_count": 99,
      "outputs": [
        {
          "output_type": "execute_result",
          "data": {
            "text/plain": [
              "GridSearchCV(cv=5, error_score=nan,\n",
              "             estimator=RandomForestRegressor(bootstrap=True, ccp_alpha=0.0,\n",
              "                                             criterion='mse', max_depth=None,\n",
              "                                             max_features='auto',\n",
              "                                             max_leaf_nodes=None,\n",
              "                                             max_samples=None,\n",
              "                                             min_impurity_decrease=0.0,\n",
              "                                             min_impurity_split=None,\n",
              "                                             min_samples_leaf=1,\n",
              "                                             min_samples_split=2,\n",
              "                                             min_weight_fraction_leaf=0.0,\n",
              "                                             n_estimators=100, n_jobs=None,\n",
              "                                             oob_score=False, random_state=None,\n",
              "                                             verbose=0, warm_start=False),\n",
              "             iid='deprecated', n_jobs=None,\n",
              "             param_grid={'max_depth': [20, 25], 'min_samples_split': [30, 40],\n",
              "                         'n_estimators': [80, 100]},\n",
              "             pre_dispatch='2*n_jobs', refit=True, return_train_score=False,\n",
              "             scoring='neg_root_mean_squared_error', verbose=0)"
            ]
          },
          "metadata": {
            "tags": []
          },
          "execution_count": 99
        },
        {
          "output_type": "stream",
          "text": [
            "\n",
            "\n",
            "Random Forest Regressor CV RMSE: 11.982180705179633\n",
            "Best parameters: {'max_depth': 25, 'min_samples_split': 40, 'n_estimators': 100}\n",
            "Random Forest Regressor Test RMSE: 12.370849373888392\n"
          ],
          "name": "stdout"
        }
      ]
    },
    {
      "cell_type": "code",
      "metadata": {
        "id": "4R9V3ah1QXgQ",
        "colab_type": "code",
        "colab": {
          "base_uri": "https://localhost:8080/",
          "height": 493
        },
        "outputId": "1bab4ad2-9358-43a8-d36e-30ed74bbebc4"
      },
      "source": [
        "# Gradient Boosting Regressor\n",
        "age_gbr = ensemble.GradientBoostingRegressor()\n",
        "param_grid = {'n_estimators': [80, 100],\n",
        "              'max_depth': [20, 25],\n",
        "              'min_samples_split': [30,40]}\n",
        "\n",
        "gridsearch_age_gbr = model_selection.GridSearchCV(estimator=age_gbr, \n",
        "                                                  param_grid=param_grid,\n",
        "                                                  cv=5,\n",
        "                                                  scoring=\"neg_root_mean_squared_error\")\n",
        "gridsearch_age_gbr.fit(X_age_train, y_age_train)\n",
        "\n",
        "print('\\n\\nGradient Boosting Regressor CV RMSE: {}'.format(abs(gridsearch_age_gbr.best_score_)))\n",
        "print('Best parameters: {}'.format(gridsearch_age_gbr.best_params_))\n",
        "print('Gradient Boosting Regressor Test RMSE: {}'.format(abs(gridsearch_age_gbr.score(X_age_test, y_age_test))))"
      ],
      "execution_count": 110,
      "outputs": [
        {
          "output_type": "execute_result",
          "data": {
            "text/plain": [
              "GridSearchCV(cv=5, error_score=nan,\n",
              "             estimator=GradientBoostingRegressor(alpha=0.9, ccp_alpha=0.0,\n",
              "                                                 criterion='friedman_mse',\n",
              "                                                 init=None, learning_rate=0.1,\n",
              "                                                 loss='ls', max_depth=3,\n",
              "                                                 max_features=None,\n",
              "                                                 max_leaf_nodes=None,\n",
              "                                                 min_impurity_decrease=0.0,\n",
              "                                                 min_impurity_split=None,\n",
              "                                                 min_samples_leaf=1,\n",
              "                                                 min_samples_split=2,\n",
              "                                                 min_weight_fraction_leaf=0.0,\n",
              "                                                 n_estimators=100,\n",
              "                                                 n_iter_no_change=None,\n",
              "                                                 presort='deprecated',\n",
              "                                                 random_state=None,\n",
              "                                                 subsample=1.0, tol=0.0001,\n",
              "                                                 validation_fraction=0.1,\n",
              "                                                 verbose=0, warm_start=False),\n",
              "             iid='deprecated', n_jobs=None,\n",
              "             param_grid={'max_depth': [20, 25], 'min_samples_split': [30, 40],\n",
              "                         'n_estimators': [80, 100]},\n",
              "             pre_dispatch='2*n_jobs', refit=True, return_train_score=False,\n",
              "             scoring='neg_root_mean_squared_error', verbose=0)"
            ]
          },
          "metadata": {
            "tags": []
          },
          "execution_count": 110
        },
        {
          "output_type": "stream",
          "text": [
            "\n",
            "\n",
            "Gradient Boosting Regressor CV RMSE: 13.017826098179047\n",
            "Best parameters: {'max_depth': 20, 'min_samples_split': 40, 'n_estimators': 80}\n",
            "Gradient Boosting Regressor Test RMSE: 13.09491547839768\n"
          ],
          "name": "stdout"
        }
      ]
    },
    {
      "cell_type": "code",
      "metadata": {
        "id": "S7C03Ug1Vij2",
        "colab_type": "code",
        "colab": {
          "base_uri": "https://localhost:8080/",
          "height": 599
        },
        "outputId": "9d33befe-db01-46ab-8c83-3223d073a410"
      },
      "source": [
        "import matplotlib.pyplot as plt\n",
        "import seaborn as sns\n",
        "from sklearn.inspection import permutation_importance\n",
        "\n",
        "# Random Forest\n",
        "result = permutation_importance(gridsearch_age_rfr.best_estimator_, X_age_train,\n",
        "                                y_age_train, n_repeats=10, random_state=0)\n",
        "age_rfr_feature_importance =  pd.Series(result.importances_mean)\n",
        "age_rfr_feature_importance.index = X_age_train.columns\n",
        "age_rfr_feature_importance = age_rfr_feature_importance.sort_values()\n",
        "\n",
        "# Gradient Boosting\n",
        "result = permutation_importance(gridsearch_age_gbr.best_estimator_, X_age_train,\n",
        "                                y_age_train, n_repeats=10, random_state=0)\n",
        "age_gbr_feature_importance = pd.Series(result.importances_mean)\n",
        "age_gbr_feature_importance.index = X_age_train.columns\n",
        "age_gbr_feature_importance = age_gbr_feature_importance.sort_values()\n",
        "\n",
        "fig, ax = plt.subplots(1,2, figsize=(20,10))\n",
        "fig.tight_layout(pad=10)\n",
        "sns.barplot(ax=ax[0],y=age_rfr_feature_importance.index, x=age_rfr_feature_importance)\n",
        "ax[0].set_title('Random Forest Regression', fontdict={'fontsize': 15})\n",
        "sns.barplot(ax=ax[1],y=age_gbr_feature_importance.index, x=age_gbr_feature_importance)\n",
        "ax[1].set_title('Gradient Boosting Regression', fontdict={'fontsize': 15})"
      ],
      "execution_count": 153,
      "outputs": [
        {
          "output_type": "execute_result",
          "data": {
            "text/plain": [
              "<matplotlib.axes._subplots.AxesSubplot at 0x7f95d4f2aa58>"
            ]
          },
          "metadata": {
            "tags": []
          },
          "execution_count": 153
        },
        {
          "output_type": "execute_result",
          "data": {
            "text/plain": [
              "Text(0.5, 1.0, 'Random Forest Regression')"
            ]
          },
          "metadata": {
            "tags": []
          },
          "execution_count": 153
        },
        {
          "output_type": "execute_result",
          "data": {
            "text/plain": [
              "<matplotlib.axes._subplots.AxesSubplot at 0x7f95d4d055f8>"
            ]
          },
          "metadata": {
            "tags": []
          },
          "execution_count": 153
        },
        {
          "output_type": "execute_result",
          "data": {
            "text/plain": [
              "Text(0.5, 1.0, 'Gradient Boosting Regression')"
            ]
          },
          "metadata": {
            "tags": []
          },
          "execution_count": 153
        },
        {
          "output_type": "display_data",
          "data": {
            "image/png": "[encoded data removed]",
            "text/plain": [
              "<Figure size 1440x720 with 2 Axes>"
            ]
          },
          "metadata": {
            "tags": [],
            "needs_background": "light"
          }
        }
      ]
    },
    {
      "cell_type": "code",
      "metadata": {
        "id": "vgMnou6hCN_i",
        "colab_type": "code",
        "colab": {
          "base_uri": "https://localhost:8080/",
          "height": 296
        },
        "outputId": "e0176c20-5f02-4676-9b55-3ff142e18a02"
      },
      "source": [
        "rfr_CV_RMSE = abs(gridsearch_age_rfr.best_score_)\n",
        "rfr_test_RMSE = abs(gridsearch_age_rfr.score(X_age_test, y_age_test))\n",
        "gbr_CV_RMSE = abs(gridsearch_age_gbr.best_score_)\n",
        "gbr_test_RMSE = abs(gridsearch_age_gbr.score(X_age_test, y_age_test))\n",
        "age_models = pd.DataFrame({'RMSE': [rfr_CV_RMSE, rfr_test_RMSE, gbr_CV_RMSE, gbr_test_RMSE],\n",
        "                           'CV/Test':['CV','Test','CV','Test'],\n",
        "                           'model': ['rfr','rfr','gbr','gbr']})\n",
        "sns.barplot(x=age_models['model'], y=age_models['RMSE'], hue=age_models['CV/Test'])"
      ],
      "execution_count": 157,
      "outputs": [
        {
          "output_type": "execute_result",
          "data": {
            "text/plain": [
              "<matplotlib.axes._subplots.AxesSubplot at 0x7f95d43b1828>"
            ]
          },
          "metadata": {
            "tags": []
          },
          "execution_count": 157
        },
        {
          "output_type": "display_data",
          "data": {
            "image/png": "[encoded data removed]",
            "text/plain": [
              "<Figure size 432x288 with 1 Axes>"
            ]
          },
          "metadata": {
            "tags": [],
            "needs_background": "light"
          }
        }
      ]
    },
    {
      "cell_type": "markdown",
      "metadata": {
        "id": "5trC69qExUk8",
        "colab_type": "text"
      },
      "source": [
        "# **Predict race of victims**\n"
      ]
    },
    {
      "cell_type": "code",
      "metadata": {
        "id": "GtI6Hir1kaT6",
        "colab_type": "code",
        "colab": {}
      },
      "source": [
        "FEATURE_RACE = ['percent_completed_hs','poverty_rate','Median Income',\n",
        "               'share_white','share_black','share_asian',\n",
        "               'share_native_american','share_hispanic','manner_of_death', \n",
        "               'armed', 'gender', 'age', 'signs_of_mental_illness', \n",
        "               'threat_level']\n",
        "TARGET_RACE = 'race'\n",
        "\n",
        "X_race = data[FEATURE_RACE]\n",
        "y_race = data[TARGET_RACE]"
      ],
      "execution_count": 182,
      "outputs": []
    },
    {
      "cell_type": "code",
      "metadata": {
        "id": "ttxaeH7ZFKb_",
        "colab_type": "code",
        "colab": {
          "base_uri": "https://localhost:8080/",
          "height": 173
        },
        "outputId": "11548f0d-ff5d-4574-eb86-cca6b49df4b5"
      },
      "source": [
        "object_cols = (X_race.dtypes == 'object')[X_race.dtypes == 'object'].index\n",
        "X_race[object_cols].describe()\n",
        "\n",
        "RACE_OH_FEATURES = ['threat_level', 'armed']  # since these variables are nominal\n",
        "RACE_LABEL_FEATURES = ['manner_of_death', 'gender', 'signs_of_mental_illness'] # since these are binary variables"
      ],
      "execution_count": 183,
      "outputs": [
        {
          "output_type": "execute_result",
          "data": {
            "text/html": [
              "<div>\n",
              "<style scoped>\n",
              "    .dataframe tbody tr th:only-of-type {\n",
              "        vertical-align: middle;\n",
              "    }\n",
              "\n",
              "    .dataframe tbody tr th {\n",
              "        vertical-align: top;\n",
              "    }\n",
              "\n",
              "    .dataframe thead th {\n",
              "        text-align: right;\n",
              "    }\n",
              "</style>\n",
              "<table border=\"1\" class=\"dataframe\">\n",
              "  <thead>\n",
              "    <tr style=\"text-align: right;\">\n",
              "      <th></th>\n",
              "      <th>manner_of_death</th>\n",
              "      <th>armed</th>\n",
              "      <th>gender</th>\n",
              "      <th>signs_of_mental_illness</th>\n",
              "      <th>threat_level</th>\n",
              "    </tr>\n",
              "  </thead>\n",
              "  <tbody>\n",
              "    <tr>\n",
              "      <th>count</th>\n",
              "      <td>1938</td>\n",
              "      <td>1938</td>\n",
              "      <td>1938</td>\n",
              "      <td>1938</td>\n",
              "      <td>1938</td>\n",
              "    </tr>\n",
              "    <tr>\n",
              "      <th>unique</th>\n",
              "      <td>2</td>\n",
              "      <td>58</td>\n",
              "      <td>2</td>\n",
              "      <td>2</td>\n",
              "      <td>3</td>\n",
              "    </tr>\n",
              "    <tr>\n",
              "      <th>top</th>\n",
              "      <td>shot</td>\n",
              "      <td>gun</td>\n",
              "      <td>M</td>\n",
              "      <td>False</td>\n",
              "      <td>attack</td>\n",
              "    </tr>\n",
              "    <tr>\n",
              "      <th>freq</th>\n",
              "      <td>1806</td>\n",
              "      <td>1074</td>\n",
              "      <td>1853</td>\n",
              "      <td>1457</td>\n",
              "      <td>1251</td>\n",
              "    </tr>\n",
              "  </tbody>\n",
              "</table>\n",
              "</div>"
            ],
            "text/plain": [
              "       manner_of_death armed gender signs_of_mental_illness threat_level\n",
              "count             1938  1938   1938                    1938         1938\n",
              "unique               2    58      2                       2            3\n",
              "top               shot   gun      M                   False       attack\n",
              "freq              1806  1074   1853                    1457         1251"
            ]
          },
          "metadata": {
            "tags": []
          },
          "execution_count": 183
        }
      ]
    },
    {
      "cell_type": "code",
      "metadata": {
        "id": "wS3oefwUFnuq",
        "colab_type": "code",
        "colab": {
          "base_uri": "https://localhost:8080/",
          "height": 289
        },
        "outputId": "c5de77ef-bb07-41cd-862b-8f78d0a28baf"
      },
      "source": [
        "# reduce categories in 'armed' column by removing rarely appeared (<=7) values\n",
        "s = X_race['armed'].value_counts() \n",
        "armed_others = list(s[s<=7].index) \n",
        "X_race['armed'] = X_race['armed'].apply(lambda x: 'others' if x in armed_others else x)\n",
        "X_race['armed'].value_counts()"
      ],
      "execution_count": 184,
      "outputs": [
        {
          "output_type": "stream",
          "text": [
            "/usr/local/lib/python3.6/dist-packages/ipykernel_launcher.py:4: SettingWithCopyWarning: \n",
            "A value is trying to be set on a copy of a slice from a DataFrame.\n",
            "Try using .loc[row_indexer,col_indexer] = value instead\n",
            "\n",
            "See the caveats in the documentation: https://pandas.pydata.org/pandas-docs/stable/user_guide/indexing.html#returning-a-view-versus-a-copy\n",
            "  after removing the cwd from sys.path.\n"
          ],
          "name": "stderr"
        },
        {
          "output_type": "execute_result",
          "data": {
            "text/plain": [
              "gun               1074\n",
              "knife              276\n",
              "unarmed            148\n",
              "vehicle            142\n",
              "others             103\n",
              "toy weapon          87\n",
              "undetermined        84\n",
              "machete             15\n",
              "unknown weapon       9\n",
              "Name: armed, dtype: int64"
            ]
          },
          "metadata": {
            "tags": []
          },
          "execution_count": 184
        }
      ]
    },
    {
      "cell_type": "code",
      "metadata": {
        "id": "TwD7JR0DF262",
        "colab_type": "code",
        "colab": {}
      },
      "source": [
        "TRAIN_SIZE = 0.8\n",
        "TEST_SIZE = 0.2\n",
        "\n",
        "# splitting train/test\n",
        "X_race_train, X_race_test, y_race_train, y_race_test  = model_selection.train_test_split(X_race,y_race,train_size=TRAIN_SIZE, test_size=TEST_SIZE, random_state=0)\n",
        "\n",
        "# One Hot Encoding \n",
        "encoder = preprocessing.OneHotEncoder(handle_unknown='ignore', sparse=False)\n",
        "\n",
        "X_race_OH_train_cols = pd.DataFrame(encoder.fit_transform(X_race_train[RACE_OH_FEATURES]))\n",
        "X_race_OH_test_cols = pd.DataFrame(encoder.transform(X_race_test[RACE_OH_FEATURES]))\n",
        "\n",
        "X_race_train = X_race_train.drop(RACE_OH_FEATURES, axis=1)\n",
        "X_race_test = X_race_test.drop(RACE_OH_FEATURES, axis=1)\n",
        "\n",
        "X_race_OH_train_cols.columns = encoder.get_feature_names()\n",
        "X_race_OH_test_cols.columns = encoder.get_feature_names()\n",
        "\n",
        "X_race_OH_train_cols.index = X_race_train.index\n",
        "X_race_OH_test_cols.index = X_race_test.index\n",
        "\n",
        "X_race_train = pd.concat([X_race_train, X_race_OH_train_cols], axis=1)\n",
        "X_race_test = pd.concat([X_race_test, X_race_OH_test_cols], axis=1)\n",
        "\n",
        "# Label Encoding\n",
        "encoder = preprocessing.LabelEncoder()\n",
        "\n",
        "for col in RACE_LABEL_FEATURES:\n",
        "  X_race_train[col] = encoder.fit_transform(X_race_train[col])\n",
        "  X_race_test[col] = encoder.transform(X_race_test[col])"
      ],
      "execution_count": 186,
      "outputs": []
    },
    {
      "cell_type": "code",
      "metadata": {
        "id": "B1c18wDkkm0_",
        "colab_type": "code",
        "colab": {
          "base_uri": "https://localhost:8080/",
          "height": 255
        },
        "outputId": "136d001f-1fcf-4eb9-bc5d-673687d247fe"
      },
      "source": [
        "# predict race of victims\n",
        "from sklearn.neighbors import KNeighborsClassifier\n",
        "\n",
        "model = KNeighborsClassifier(n_neighbors=1)\n",
        "model = model.fit(X_race_train,y_race_train)\n",
        "\n",
        "test_prediction = model.predict(X_race_test)\n",
        "print('Random Forest Classifier Accuracy Score: {}'.format(metrics.accuracy_score(y_race_test, test_prediction)))\n",
        "print(metrics.classification_report(y_race_test, test_prediction))"
      ],
      "execution_count": 187,
      "outputs": [
        {
          "output_type": "stream",
          "text": [
            "Random Forest Classifier Accuracy Score: 0.4742268041237113\n",
            "              precision    recall  f1-score   support\n",
            "\n",
            "           A       0.20      0.10      0.13        10\n",
            "           B       0.40      0.45      0.43       102\n",
            "           H       0.38      0.45      0.41        65\n",
            "           N       0.25      0.12      0.17         8\n",
            "           O       0.18      0.33      0.24         6\n",
            "           W       0.59      0.53      0.56       197\n",
            "\n",
            "    accuracy                           0.47       388\n",
            "   macro avg       0.33      0.33      0.32       388\n",
            "weighted avg       0.48      0.47      0.48       388\n",
            "\n"
          ],
          "name": "stdout"
        }
      ]
    },
    {
      "cell_type": "code",
      "metadata": {
        "id": "GJlkPnuwSR0t",
        "colab_type": "code",
        "colab": {
          "base_uri": "https://localhost:8080/",
          "height": 306
        },
        "outputId": "e21f0d6d-a6ca-4b74-828e-8a20993df9d1"
      },
      "source": [
        "# predict race of victims\n",
        "abc_model = ensemble.AdaBoostClassifier()\n",
        "abc_model = abc_model.fit(X_race_train,y_race_train)\n",
        "\n",
        "test_prediction = abc_model.predict(X_race_test)\n",
        "print('Random Forest Classifier Accuracy Score: {}'.format(metrics.accuracy_score(y_race_test, test_prediction)))\n",
        "print(metrics.classification_report(y_race_test, test_prediction))\n",
        "abc_model.feature_importances_"
      ],
      "execution_count": 188,
      "outputs": [
        {
          "output_type": "stream",
          "text": [
            "Random Forest Classifier Accuracy Score: 0.5798969072164949\n",
            "              precision    recall  f1-score   support\n",
            "\n",
            "           A       0.00      0.00      0.00        10\n",
            "           B       0.59      0.59      0.59       102\n",
            "           H       0.45      0.45      0.45        65\n",
            "           N       0.25      0.38      0.30         8\n",
            "           O       0.08      0.17      0.11         6\n",
            "           W       0.69      0.67      0.68       197\n",
            "\n",
            "    accuracy                           0.58       388\n",
            "   macro avg       0.35      0.37      0.36       388\n",
            "weighted avg       0.59      0.58      0.58       388\n",
            "\n"
          ],
          "name": "stdout"
        },
        {
          "output_type": "execute_result",
          "data": {
            "text/plain": [
              "array([0.22, 0.12, 0.  , 0.06, 0.02, 0.  , 0.52, 0.02, 0.  , 0.  , 0.  ,\n",
              "       0.02, 0.  , 0.  , 0.  , 0.  , 0.  , 0.  , 0.  , 0.  , 0.  , 0.  ,\n",
              "       0.  , 0.02])"
            ]
          },
          "metadata": {
            "tags": []
          },
          "execution_count": 188
        }
      ]
    },
    {
      "cell_type": "code",
      "metadata": {
        "id": "btMLRgkoMxtK",
        "colab_type": "code",
        "colab": {
          "base_uri": "https://localhost:8080/",
          "height": 609
        },
        "outputId": "87baa4d1-665b-4fee-e504-15b05d25adcd"
      },
      "source": [
        "result = permutation_importance(abc_model, X_race_train,\n",
        "                                y_race_train, n_repeats=10, random_state=0)\n",
        "race_abc_feature_importance =  pd.Series(result.importances_mean)\n",
        "race_abc_feature_importance.index = X_race_train.columns\n",
        "race_abc_feature_importance = race_abc_feature_importance.sort_values()\n",
        "plt.figure(figsize=(10,10))\n",
        "sns.barplot(x=race_abc_feature_importance, y=race_abc_feature_importance.index)"
      ],
      "execution_count": 189,
      "outputs": [
        {
          "output_type": "execute_result",
          "data": {
            "text/plain": [
              "<Figure size 720x720 with 0 Axes>"
            ]
          },
          "metadata": {
            "tags": []
          },
          "execution_count": 189
        },
        {
          "output_type": "execute_result",
          "data": {
            "text/plain": [
              "<matplotlib.axes._subplots.AxesSubplot at 0x7f95d443bc88>"
            ]
          },
          "metadata": {
            "tags": []
          },
          "execution_count": 189
        },
        {
          "output_type": "display_data",
          "data": {
            "image/png": "[encoded data removed]",
            "text/plain": [
              "<Figure size 720x720 with 1 Axes>"
            ]
          },
          "metadata": {
            "tags": [],
            "needs_background": "light"
          }
        }
      ]
    }
  ]
}