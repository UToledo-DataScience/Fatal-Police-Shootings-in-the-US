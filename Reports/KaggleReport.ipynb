{
  "nbformat": 4,
  "nbformat_minor": 0,
  "metadata": {
    "colab": {
      "name": "KaggleReport.ipynb",
      "provenance": [],
      "collapsed_sections": [
        "eJTfe6FOWDk5",
        "OYN-YUjubHPT"
      ],
      "authorship_tag": "ABX9TyO0PLY1Clc+VWhsB2UY2/7I",
      "include_colab_link": true
    },
    "kernelspec": {
      "name": "python3",
      "display_name": "Python 3"
    }
  },
  "cells": [
    {
      "cell_type": "markdown",
      "metadata": {
        "id": "view-in-github",
        "colab_type": "text"
      },
      "source": [
        "<a href=\"https://colab.research.google.com/github/linkzero177/Fatal-Police-Shootings-in-the-US/blob/master/Reports/KaggleReport.ipynb\" target=\"_parent\"><img src=\"https://colab.research.google.com/assets/colab-badge.svg\" alt=\"Open In Colab\"/></a>"
      ]
    },
    {
      "cell_type": "code",
      "metadata": {
        "_uuid": "8f2839f25d086af736a60e9eeb907d3b93b6e0e5",
        "_cell_guid": "b1076dfc-b9ad-4769-8c92-a6c4dae69d19",
        "trusted": true,
        "id": "StplvPDsqrJF",
        "colab_type": "code",
        "colab": {
          "base_uri": "https://localhost:8080/",
          "height": 71
        },
        "outputId": "b31602d2-8a89-414e-fb14-d203414665eb"
      },
      "source": [
        "import numpy as np\n",
        "import pandas as pd\n",
        "import matplotlib.pyplot as plt\n",
        "import seaborn as sns\n",
        "from IPython.core.interactiveshell import InteractiveShell\n",
        "InteractiveShell.ast_node_interactivity = \"all\""
      ],
      "execution_count": 1,
      "outputs": [
        {
          "output_type": "stream",
          "text": [
            "/usr/local/lib/python3.6/dist-packages/statsmodels/tools/_testing.py:19: FutureWarning: pandas.util.testing is deprecated. Use the functions in the public API at pandas.testing instead.\n",
            "  import pandas.util.testing as tm\n"
          ],
          "name": "stderr"
        }
      ]
    },
    {
      "cell_type": "code",
      "metadata": {
        "id": "EiMFAHSSSBne",
        "colab_type": "code",
        "colab": {}
      },
      "source": [
        "over_25_completed_hs = pd.read_csv('/content/drive/My Drive/data/fatal-police-shootings-in-the-us/PercentOver25CompletedHighSchool.csv', encoding=\"windows-1252\")\n",
        "people_below_poverty = pd.read_csv('/content/drive/My Drive/data/fatal-police-shootings-in-the-us/PercentagePeopleBelowPovertyLevel.csv', encoding=\"windows-1252\")\n",
        "median_household_income = pd.read_csv('/content/drive/My Drive/data/fatal-police-shootings-in-the-us/MedianHouseholdIncome2015.csv', encoding=\"windows-1252\")\n",
        "share_race_by_city = pd.read_csv('/content/drive/My Drive/data/fatal-police-shootings-in-the-us/ShareRaceByCity.csv', encoding=\"windows-1252\")\n",
        "fatal_police_shooting_us = pd.read_csv('/content/drive/My Drive/data/fatal-police-shootings-in-the-us/FatalPoliceShootingUS.csv', encoding=\"windows-1252\")"
      ],
      "execution_count": 24,
      "outputs": []
    },
    {
      "cell_type": "markdown",
      "metadata": {
        "id": "eJTfe6FOWDk5",
        "colab_type": "text"
      },
      "source": [
        "# **Processing**"
      ]
    },
    {
      "cell_type": "markdown",
      "metadata": {
        "id": "kHl9MoM-XNPt",
        "colab_type": "text"
      },
      "source": [
        "Drop missing rows and convert string to float64"
      ]
    },
    {
      "cell_type": "code",
      "metadata": {
        "id": "GTUeCEFLWQA4",
        "colab_type": "code",
        "colab": {}
      },
      "source": [
        "# dropping rows with missing percent_completed_hs\n",
        "over_25_completed_hs = over_25_completed_hs[over_25_completed_hs['percent_completed_hs'] != '-']\n",
        "over_25_completed_hs['percent_completed_hs'] = over_25_completed_hs['percent_completed_hs'].astype('float64')\n",
        "\n",
        "people_below_poverty = people_below_poverty[people_below_poverty['poverty_rate'] != '-']\n",
        "people_below_poverty['poverty_rate'] = people_below_poverty['poverty_rate'].astype('float64')\n",
        "\n",
        "median_household_income = median_household_income[median_household_income['Median Income'] != '(X)']\n",
        "median_household_income = median_household_income[median_household_income['Median Income'] != '-']\n",
        "median_household_income = median_household_income[median_household_income['Median Income'].notna()]\n",
        "\n",
        "# drop 250000+ and 2500-\n",
        "median_household_income = median_household_income[~median_household_income['Median Income'].str.contains('-')]\n",
        "median_household_income = median_household_income[~median_household_income['Median Income'].str.contains('+', regex=False)]\n",
        "\n",
        "median_household_income['Median Income'] = median_household_income['Median Income'].astype('float64')\n",
        "\n",
        "share_race_by_city = share_race_by_city[share_race_by_city['share_white']!='(X)']\n",
        "share_race_by_city['share_white'] = share_race_by_city['share_white'].astype('float64')\n",
        "\n",
        "share_race_by_city['share_black'] = share_race_by_city['share_black'].astype('float64')\n",
        "share_race_by_city['share_native_american'] = share_race_by_city['share_native_american'].astype('float64')\n",
        "share_race_by_city['share_asian'] = share_race_by_city['share_asian'].astype('float64')\n",
        "share_race_by_city['share_hispanic'] = share_race_by_city['share_hispanic'].astype('float64')\n",
        "\n",
        "fatal_police_shooting_us['date'] = pd.to_datetime(fatal_police_shooting_us['date'], format='%d/%m/%y')\n",
        "fatal_police_shooting_us = fatal_police_shooting_us.dropna()"
      ],
      "execution_count": 25,
      "outputs": []
    },
    {
      "cell_type": "markdown",
      "metadata": {
        "id": "9CAyCbUrXrZS",
        "colab_type": "text"
      },
      "source": [
        "Combine over_25_completed_hs, people_below_poverty, median_household_income, share_race_by_city to a demographic dataset"
      ]
    },
    {
      "cell_type": "code",
      "metadata": {
        "id": "bD3ABTUNYOW-",
        "colab_type": "code",
        "colab": {
          "base_uri": "https://localhost:8080/",
          "height": 306
        },
        "outputId": "06e4c656-beac-4ca5-b5f8-adb04abf3d55"
      },
      "source": [
        "a = [people_below_poverty.set_index(['Geographic Area', 'City']), median_household_income.set_index(['Geographic Area', 'City']), share_race_by_city.set_index(['Geographic area', 'City'])]\n",
        "demographic = over_25_completed_hs.set_index(['Geographic Area', 'City']).join(other=a).reset_index()\n",
        "demographic.info()"
      ],
      "execution_count": 26,
      "outputs": [
        {
          "output_type": "stream",
          "text": [
            "<class 'pandas.core.frame.DataFrame'>\n",
            "RangeIndex: 29132 entries, 0 to 29131\n",
            "Data columns (total 10 columns):\n",
            " #   Column                 Non-Null Count  Dtype  \n",
            "---  ------                 --------------  -----  \n",
            " 0   Geographic Area        29132 non-null  object \n",
            " 1   City                   29132 non-null  object \n",
            " 2   percent_completed_hs   29132 non-null  float64\n",
            " 3   poverty_rate           29125 non-null  float64\n",
            " 4   Median Income          27383 non-null  float64\n",
            " 5   share_white            28930 non-null  float64\n",
            " 6   share_black            28930 non-null  float64\n",
            " 7   share_native_american  28930 non-null  float64\n",
            " 8   share_asian            28930 non-null  float64\n",
            " 9   share_hispanic         28930 non-null  float64\n",
            "dtypes: float64(8), object(2)\n",
            "memory usage: 2.2+ MB\n"
          ],
          "name": "stdout"
        }
      ]
    },
    {
      "cell_type": "markdown",
      "metadata": {
        "id": "5cLc35O3Y2_j",
        "colab_type": "text"
      },
      "source": [
        "Trying to combine demographic with fatal_police_shooting to make a single dataset.\n",
        "We need to fix the mitmatch in city naming convention between fatal_police_shooting and demographic"
      ]
    },
    {
      "cell_type": "code",
      "metadata": {
        "id": "J6IOh4SaYywj",
        "colab_type": "code",
        "colab": {
          "base_uri": "https://localhost:8080/",
          "height": 510
        },
        "outputId": "fc3b8592-765f-4fe2-fa50-13480c693e9b"
      },
      "source": [
        "demographic['City'] = demographic['City'].str.replace(' city.*','')\n",
        "demographic['City'] = demographic['City'].str.replace(' CDP.*','')\n",
        "demographic['City'] = demographic['City'].str.replace(' town.*','')\n",
        "demographic = demographic.rename(columns={'Geographic Area':'state', 'City':'city'})\n",
        "\n",
        "data = demographic.set_index(['state','city']).join(fatal_police_shooting_us.set_index(['state','city'])).reset_index()\n",
        "data = data.dropna(axis=0)\n",
        "data.info()"
      ],
      "execution_count": 27,
      "outputs": [
        {
          "output_type": "stream",
          "text": [
            "<class 'pandas.core.frame.DataFrame'>\n",
            "Int64Index: 1938 entries, 25 to 29882\n",
            "Data columns (total 22 columns):\n",
            " #   Column                   Non-Null Count  Dtype         \n",
            "---  ------                   --------------  -----         \n",
            " 0   state                    1938 non-null   object        \n",
            " 1   city                     1938 non-null   object        \n",
            " 2   percent_completed_hs     1938 non-null   float64       \n",
            " 3   poverty_rate             1938 non-null   float64       \n",
            " 4   Median Income            1938 non-null   float64       \n",
            " 5   share_white              1938 non-null   float64       \n",
            " 6   share_black              1938 non-null   float64       \n",
            " 7   share_native_american    1938 non-null   float64       \n",
            " 8   share_asian              1938 non-null   float64       \n",
            " 9   share_hispanic           1938 non-null   float64       \n",
            " 10  id                       1938 non-null   float64       \n",
            " 11  name                     1938 non-null   object        \n",
            " 12  date                     1938 non-null   datetime64[ns]\n",
            " 13  manner_of_death          1938 non-null   object        \n",
            " 14  armed                    1938 non-null   object        \n",
            " 15  age                      1938 non-null   float64       \n",
            " 16  gender                   1938 non-null   object        \n",
            " 17  race                     1938 non-null   object        \n",
            " 18  signs_of_mental_illness  1938 non-null   object        \n",
            " 19  threat_level             1938 non-null   object        \n",
            " 20  flee                     1938 non-null   object        \n",
            " 21  body_camera              1938 non-null   object        \n",
            "dtypes: datetime64[ns](1), float64(10), object(11)\n",
            "memory usage: 348.2+ KB\n"
          ],
          "name": "stdout"
        }
      ]
    },
    {
      "cell_type": "markdown",
      "metadata": {
        "id": "OYN-YUjubHPT",
        "colab_type": "text"
      },
      "source": [
        "# **EDA**"
      ]
    },
    {
      "cell_type": "markdown",
      "metadata": {
        "id": "1uiy5YFUhkOr",
        "colab_type": "text"
      },
      "source": [
        "**Demographics**\n",
        "\n",
        "---\n",
        "\n"
      ]
    },
    {
      "cell_type": "code",
      "metadata": {
        "id": "YVefepzkRxoU",
        "colab_type": "code",
        "colab": {
          "base_uri": "https://localhost:8080/",
          "height": 297
        },
        "outputId": "d9db2972-5822-4a00-fbe5-daf8f45c8160"
      },
      "source": [
        "demographic.describe()"
      ],
      "execution_count": 13,
      "outputs": [
        {
          "output_type": "execute_result",
          "data": {
            "text/html": [
              "<div>\n",
              "<style scoped>\n",
              "    .dataframe tbody tr th:only-of-type {\n",
              "        vertical-align: middle;\n",
              "    }\n",
              "\n",
              "    .dataframe tbody tr th {\n",
              "        vertical-align: top;\n",
              "    }\n",
              "\n",
              "    .dataframe thead th {\n",
              "        text-align: right;\n",
              "    }\n",
              "</style>\n",
              "<table border=\"1\" class=\"dataframe\">\n",
              "  <thead>\n",
              "    <tr style=\"text-align: right;\">\n",
              "      <th></th>\n",
              "      <th>percent_completed_hs</th>\n",
              "      <th>poverty_rate</th>\n",
              "      <th>Median Income</th>\n",
              "      <th>share_white</th>\n",
              "      <th>share_black</th>\n",
              "      <th>share_native_american</th>\n",
              "      <th>share_asian</th>\n",
              "      <th>share_hispanic</th>\n",
              "    </tr>\n",
              "  </thead>\n",
              "  <tbody>\n",
              "    <tr>\n",
              "      <th>count</th>\n",
              "      <td>29132.000000</td>\n",
              "      <td>29125.000000</td>\n",
              "      <td>27383.000000</td>\n",
              "      <td>28930.000000</td>\n",
              "      <td>28930.000000</td>\n",
              "      <td>28930.000000</td>\n",
              "      <td>28930.000000</td>\n",
              "      <td>28930.000000</td>\n",
              "    </tr>\n",
              "    <tr>\n",
              "      <th>mean</th>\n",
              "      <td>85.733805</td>\n",
              "      <td>16.444045</td>\n",
              "      <td>51177.670672</td>\n",
              "      <td>83.190149</td>\n",
              "      <td>6.882655</td>\n",
              "      <td>2.856685</td>\n",
              "      <td>1.547159</td>\n",
              "      <td>9.203426</td>\n",
              "    </tr>\n",
              "    <tr>\n",
              "      <th>std</th>\n",
              "      <td>11.875153</td>\n",
              "      <td>13.176623</td>\n",
              "      <td>24887.873873</td>\n",
              "      <td>21.649996</td>\n",
              "      <td>15.673815</td>\n",
              "      <td>12.627056</td>\n",
              "      <td>4.293338</td>\n",
              "      <td>17.269697</td>\n",
              "    </tr>\n",
              "    <tr>\n",
              "      <th>min</th>\n",
              "      <td>0.000000</td>\n",
              "      <td>0.000000</td>\n",
              "      <td>4511.000000</td>\n",
              "      <td>0.000000</td>\n",
              "      <td>0.000000</td>\n",
              "      <td>0.000000</td>\n",
              "      <td>0.000000</td>\n",
              "      <td>0.000000</td>\n",
              "    </tr>\n",
              "    <tr>\n",
              "      <th>25%</th>\n",
              "      <td>81.000000</td>\n",
              "      <td>7.100000</td>\n",
              "      <td>35625.000000</td>\n",
              "      <td>78.500000</td>\n",
              "      <td>0.100000</td>\n",
              "      <td>0.100000</td>\n",
              "      <td>0.000000</td>\n",
              "      <td>1.200000</td>\n",
              "    </tr>\n",
              "    <tr>\n",
              "      <th>50%</th>\n",
              "      <td>88.400000</td>\n",
              "      <td>13.700000</td>\n",
              "      <td>45305.000000</td>\n",
              "      <td>92.500000</td>\n",
              "      <td>0.800000</td>\n",
              "      <td>0.300000</td>\n",
              "      <td>0.400000</td>\n",
              "      <td>2.900000</td>\n",
              "    </tr>\n",
              "    <tr>\n",
              "      <th>75%</th>\n",
              "      <td>93.500000</td>\n",
              "      <td>22.500000</td>\n",
              "      <td>59482.000000</td>\n",
              "      <td>96.900000</td>\n",
              "      <td>4.300000</td>\n",
              "      <td>0.900000</td>\n",
              "      <td>1.200000</td>\n",
              "      <td>8.000000</td>\n",
              "    </tr>\n",
              "    <tr>\n",
              "      <th>max</th>\n",
              "      <td>100.000000</td>\n",
              "      <td>100.000000</td>\n",
              "      <td>244083.000000</td>\n",
              "      <td>100.000000</td>\n",
              "      <td>100.000000</td>\n",
              "      <td>100.000000</td>\n",
              "      <td>67.100000</td>\n",
              "      <td>100.000000</td>\n",
              "    </tr>\n",
              "  </tbody>\n",
              "</table>\n",
              "</div>"
            ],
            "text/plain": [
              "       percent_completed_hs  poverty_rate  ...   share_asian  share_hispanic\n",
              "count          29132.000000  29125.000000  ...  28930.000000    28930.000000\n",
              "mean              85.733805     16.444045  ...      1.547159        9.203426\n",
              "std               11.875153     13.176623  ...      4.293338       17.269697\n",
              "min                0.000000      0.000000  ...      0.000000        0.000000\n",
              "25%               81.000000      7.100000  ...      0.000000        1.200000\n",
              "50%               88.400000     13.700000  ...      0.400000        2.900000\n",
              "75%               93.500000     22.500000  ...      1.200000        8.000000\n",
              "max              100.000000    100.000000  ...     67.100000      100.000000\n",
              "\n",
              "[8 rows x 8 columns]"
            ]
          },
          "metadata": {
            "tags": []
          },
          "execution_count": 13
        }
      ]
    },
    {
      "cell_type": "markdown",
      "metadata": {
        "id": "Wfxt7Y45Ry7b",
        "colab_type": "text"
      },
      "source": [
        "*   85.7% of people over 25 completed high school\n",
        "*   Average median income is 51177\n",
        "*   16.4% of people are in poverty"
      ]
    },
    {
      "cell_type": "code",
      "metadata": {
        "id": "5v0WSryQhy9A",
        "colab_type": "code",
        "colab": {
          "base_uri": "https://localhost:8080/",
          "height": 424
        },
        "outputId": "2cc26ba0-0587-4652-9dc6-f44a4338d342"
      },
      "source": [
        "average_share_per_race = pd.DataFrame({'race':['white','black','native_american','asian','hispanic'],\n",
        "                                       'average_share':[83.190149,6.882655,2.856685\t,1.547159,9.203426]})\n",
        "average_share_per_race = average_share_per_race.sort_values(by='average_share')\n",
        "plt.figure(figsize=(10,6))\n",
        "plt.title('Average race share in US', fontdict={'fontsize':15})\n",
        "sns.barplot(x=average_share_per_race['race'], y=average_share_per_race['average_share'])"
      ],
      "execution_count": 12,
      "outputs": [
        {
          "output_type": "execute_result",
          "data": {
            "text/plain": [
              "<Figure size 720x432 with 0 Axes>"
            ]
          },
          "metadata": {
            "tags": []
          },
          "execution_count": 12
        },
        {
          "output_type": "execute_result",
          "data": {
            "text/plain": [
              "Text(0.5, 1.0, 'Average race share in US')"
            ]
          },
          "metadata": {
            "tags": []
          },
          "execution_count": 12
        },
        {
          "output_type": "execute_result",
          "data": {
            "text/plain": [
              "<matplotlib.axes._subplots.AxesSubplot at 0x7fa89ebcf860>"
            ]
          },
          "metadata": {
            "tags": []
          },
          "execution_count": 12
        },
        {
          "output_type": "display_data",
          "data": {
            "image/png": "[encoded data removed]",
            "text/plain": [
              "<Figure size 720x432 with 1 Axes>"
            ]
          },
          "metadata": {
            "tags": [],
            "needs_background": "light"
          }
        }
      ]
    },
    {
      "cell_type": "markdown",
      "metadata": {
        "id": "AGHRela0RXCn",
        "colab_type": "text"
      },
      "source": [
        "It is clear that white accounts for the majority of the population in the US"
      ]
    },
    {
      "cell_type": "code",
      "metadata": {
        "id": "V-nY08a3SRaQ",
        "colab_type": "code",
        "colab": {
          "base_uri": "https://localhost:8080/",
          "height": 387
        },
        "outputId": "e9df13fc-3781-4f51-fdd1-08fe4535e845"
      },
      "source": [
        "fig, ax = plt.subplots(1,3,figsize=(20,5), sharey=True)\n",
        "\n",
        "#ax[0].ticklabel_format(style='plain')\n",
        "sns.distplot(demographic['Median Income'], ax=ax[0], kde=False)\n",
        "ax[0].set_title('Median Income', fontdict={'fontsize': 15})\n",
        "\n",
        "sns.distplot(demographic['poverty_rate'], ax=ax[1], kde=False)\n",
        "ax[1].set_title('Poverty Rate', fontdict={'fontsize': 15})\n",
        "\n",
        "sns.distplot(demographic['percent_completed_hs'], ax=ax[2], kde=False)\n",
        "ax[2].set_title('Percent Completed High School', fontdict={'fontsize': 15})"
      ],
      "execution_count": 14,
      "outputs": [
        {
          "output_type": "execute_result",
          "data": {
            "text/plain": [
              "<matplotlib.axes._subplots.AxesSubplot at 0x7fa89dfd54a8>"
            ]
          },
          "metadata": {
            "tags": []
          },
          "execution_count": 14
        },
        {
          "output_type": "execute_result",
          "data": {
            "text/plain": [
              "Text(0.5, 1.0, 'Median Income')"
            ]
          },
          "metadata": {
            "tags": []
          },
          "execution_count": 14
        },
        {
          "output_type": "execute_result",
          "data": {
            "text/plain": [
              "<matplotlib.axes._subplots.AxesSubplot at 0x7fa89e045cf8>"
            ]
          },
          "metadata": {
            "tags": []
          },
          "execution_count": 14
        },
        {
          "output_type": "execute_result",
          "data": {
            "text/plain": [
              "Text(0.5, 1.0, 'Poverty Rate')"
            ]
          },
          "metadata": {
            "tags": []
          },
          "execution_count": 14
        },
        {
          "output_type": "execute_result",
          "data": {
            "text/plain": [
              "<matplotlib.axes._subplots.AxesSubplot at 0x7fa89e08ecc0>"
            ]
          },
          "metadata": {
            "tags": []
          },
          "execution_count": 14
        },
        {
          "output_type": "execute_result",
          "data": {
            "text/plain": [
              "Text(0.5, 1.0, 'Percent Completed High School')"
            ]
          },
          "metadata": {
            "tags": []
          },
          "execution_count": 14
        },
        {
          "output_type": "display_data",
          "data": {
            "image/png": "[encoded data removed]",
            "text/plain": [
              "<Figure size 1440x360 with 3 Axes>"
            ]
          },
          "metadata": {
            "tags": [],
            "needs_background": "light"
          }
        }
      ]
    },
    {
      "cell_type": "code",
      "metadata": {
        "id": "UI5brOBUSYk_",
        "colab_type": "code",
        "colab": {
          "base_uri": "https://localhost:8080/",
          "height": 314
        },
        "outputId": "d0b75905-8245-4caf-dd00-eb335d67b159"
      },
      "source": [
        "plt.title('Poverty rate and Median Income', fontdict={'fontsize':15})\n",
        "sns.regplot(x = demographic['Median Income'], y = demographic['poverty_rate'], order=10, scatter=False)"
      ],
      "execution_count": 15,
      "outputs": [
        {
          "output_type": "execute_result",
          "data": {
            "text/plain": [
              "Text(0.5, 1.0, 'Poverty rate and Median Income')"
            ]
          },
          "metadata": {
            "tags": []
          },
          "execution_count": 15
        },
        {
          "output_type": "execute_result",
          "data": {
            "text/plain": [
              "<matplotlib.axes._subplots.AxesSubplot at 0x7fa89e02c4a8>"
            ]
          },
          "metadata": {
            "tags": []
          },
          "execution_count": 15
        },
        {
          "output_type": "display_data",
          "data": {
            "image/png": "[encoded data removed]",
            "text/plain": [
              "<Figure size 432x288 with 1 Axes>"
            ]
          },
          "metadata": {
            "tags": [],
            "needs_background": "light"
          }
        }
      ]
    },
    {
      "cell_type": "markdown",
      "metadata": {
        "id": "doLjlqnNTO0E",
        "colab_type": "text"
      },
      "source": [
        "There is a reasonable trend between median income and poverty rate of each city."
      ]
    },
    {
      "cell_type": "markdown",
      "metadata": {
        "id": "kWVrn0hDULFV",
        "colab_type": "text"
      },
      "source": [
        "**Fatal police shooting US**\n",
        "\n",
        "---"
      ]
    },
    {
      "cell_type": "code",
      "metadata": {
        "id": "QsXQJ0jeUq1x",
        "colab_type": "code",
        "colab": {
          "base_uri": "https://localhost:8080/",
          "height": 221
        },
        "outputId": "eb8094f1-8177-4d47-b6af-5b3b2fdf70b8"
      },
      "source": [
        "fatal_police_shooting_us['date'].sort_values()"
      ],
      "execution_count": 31,
      "outputs": [
        {
          "output_type": "execute_result",
          "data": {
            "text/plain": [
              "0      2015-01-02\n",
              "1      2015-01-02\n",
              "2      2015-01-03\n",
              "3      2015-01-04\n",
              "4      2015-01-04\n",
              "          ...    \n",
              "2519   2017-07-25\n",
              "2523   2017-07-26\n",
              "2525   2017-07-27\n",
              "2533   2017-07-31\n",
              "2534   2017-07-31\n",
              "Name: date, Length: 2254, dtype: datetime64[ns]"
            ]
          },
          "metadata": {
            "tags": []
          },
          "execution_count": 31
        }
      ]
    },
    {
      "cell_type": "markdown",
      "metadata": {
        "id": "6kLmyDqGUtdC",
        "colab_type": "text"
      },
      "source": [
        "The data was collected from 2015-01-02 till 2017-07-31"
      ]
    },
    {
      "cell_type": "code",
      "metadata": {
        "id": "V0rw_N0KW8eH",
        "colab_type": "code",
        "colab": {
          "base_uri": "https://localhost:8080/",
          "height": 276
        },
        "outputId": "6f9a7c81-bf0e-4c3f-b211-551804f37b1e"
      },
      "source": [
        "grid = sns.FacetGrid(fatal_police_shooting_us,col='flee',col_order=['Foot','Car','Not fleeing','Other'])\n",
        "grid.map(sns.boxplot, 'age', orient='vertical', color='lavender')"
      ],
      "execution_count": 34,
      "outputs": [
        {
          "output_type": "stream",
          "text": [
            "/usr/local/lib/python3.6/dist-packages/seaborn/axisgrid.py:723: UserWarning: Using the boxplot function without specifying `order` is likely to produce an incorrect plot.\n",
            "  warnings.warn(warning)\n"
          ],
          "name": "stderr"
        },
        {
          "output_type": "execute_result",
          "data": {
            "text/plain": [
              "<seaborn.axisgrid.FacetGrid at 0x7fa89aabfd30>"
            ]
          },
          "metadata": {
            "tags": []
          },
          "execution_count": 34
        },
        {
          "output_type": "display_data",
          "data": {
            "image/png": "[encoded data removed]",
            "text/plain": [
              "<Figure size 864x216 with 4 Axes>"
            ]
          },
          "metadata": {
            "tags": [],
            "needs_background": "light"
          }
        }
      ]
    },
    {
      "cell_type": "markdown",
      "metadata": {
        "id": "X_3bh_O1XcW7",
        "colab_type": "text"
      },
      "source": [
        "Age of the victims doesn't seem to have much influence on their fleeing method."
      ]
    },
    {
      "cell_type": "code",
      "metadata": {
        "id": "qOkzxnrmXfkq",
        "colab_type": "code",
        "colab": {
          "base_uri": "https://localhost:8080/",
          "height": 468
        },
        "outputId": "06174a75-df37-430d-ec8f-79f79a08bf96"
      },
      "source": [
        "a=pd.pivot_table(data=fatal_police_shooting_us, values='age', index='gender', columns='race')\n",
        "a=a.reindex(columns=['W','A','O','B','N','H'])\n",
        "plt.title('Average age for each gender and race')\n",
        "sns.heatmap(a, mask=a.isnull(), linewidth=0.01, linecolor='white')\n",
        "fatal_police_shooting_us[(fatal_police_shooting_us['gender']=='F') & (fatal_police_shooting_us['race']=='H')]"
      ],
      "execution_count": 35,
      "outputs": [
        {
          "output_type": "execute_result",
          "data": {
            "text/plain": [
              "Text(0.5, 1.0, 'Average age for each gender and race')"
            ]
          },
          "metadata": {
            "tags": []
          },
          "execution_count": 35
        },
        {
          "output_type": "execute_result",
          "data": {
            "text/plain": [
              "<matplotlib.axes._subplots.AxesSubplot at 0x7fa89ab05ac8>"
            ]
          },
          "metadata": {
            "tags": []
          },
          "execution_count": 35
        },
        {
          "output_type": "execute_result",
          "data": {
            "text/html": [
              "<div>\n",
              "<style scoped>\n",
              "    .dataframe tbody tr th:only-of-type {\n",
              "        vertical-align: middle;\n",
              "    }\n",
              "\n",
              "    .dataframe tbody tr th {\n",
              "        vertical-align: top;\n",
              "    }\n",
              "\n",
              "    .dataframe thead th {\n",
              "        text-align: right;\n",
              "    }\n",
              "</style>\n",
              "<table border=\"1\" class=\"dataframe\">\n",
              "  <thead>\n",
              "    <tr style=\"text-align: right;\">\n",
              "      <th></th>\n",
              "      <th>id</th>\n",
              "      <th>name</th>\n",
              "      <th>date</th>\n",
              "      <th>manner_of_death</th>\n",
              "      <th>armed</th>\n",
              "      <th>age</th>\n",
              "      <th>gender</th>\n",
              "      <th>race</th>\n",
              "      <th>city</th>\n",
              "      <th>state</th>\n",
              "      <th>signs_of_mental_illness</th>\n",
              "      <th>threat_level</th>\n",
              "      <th>flee</th>\n",
              "      <th>body_camera</th>\n",
              "    </tr>\n",
              "  </thead>\n",
              "  <tbody>\n",
              "    <tr>\n",
              "      <th>60</th>\n",
              "      <td>20</td>\n",
              "      <td>Jessie Hernandez</td>\n",
              "      <td>2015-01-26</td>\n",
              "      <td>shot</td>\n",
              "      <td>vehicle</td>\n",
              "      <td>17.0</td>\n",
              "      <td>F</td>\n",
              "      <td>H</td>\n",
              "      <td>Denver</td>\n",
              "      <td>CO</td>\n",
              "      <td>False</td>\n",
              "      <td>other</td>\n",
              "      <td>Not fleeing</td>\n",
              "      <td>False</td>\n",
              "    </tr>\n",
              "    <tr>\n",
              "      <th>149</th>\n",
              "      <td>189</td>\n",
              "      <td>Jessica Uribe</td>\n",
              "      <td>2015-02-28</td>\n",
              "      <td>shot</td>\n",
              "      <td>knife</td>\n",
              "      <td>28.0</td>\n",
              "      <td>F</td>\n",
              "      <td>H</td>\n",
              "      <td>Tucson</td>\n",
              "      <td>AZ</td>\n",
              "      <td>False</td>\n",
              "      <td>other</td>\n",
              "      <td>Not fleeing</td>\n",
              "      <td>False</td>\n",
              "    </tr>\n",
              "    <tr>\n",
              "      <th>737</th>\n",
              "      <td>871</td>\n",
              "      <td>Norma Angelica Guzman</td>\n",
              "      <td>2015-09-27</td>\n",
              "      <td>shot</td>\n",
              "      <td>knife</td>\n",
              "      <td>37.0</td>\n",
              "      <td>F</td>\n",
              "      <td>H</td>\n",
              "      <td>Los Angeles</td>\n",
              "      <td>CA</td>\n",
              "      <td>True</td>\n",
              "      <td>other</td>\n",
              "      <td>Not fleeing</td>\n",
              "      <td>True</td>\n",
              "    </tr>\n",
              "    <tr>\n",
              "      <th>1504</th>\n",
              "      <td>1695</td>\n",
              "      <td>Melissa Ventura</td>\n",
              "      <td>2016-07-05</td>\n",
              "      <td>shot</td>\n",
              "      <td>knife</td>\n",
              "      <td>24.0</td>\n",
              "      <td>F</td>\n",
              "      <td>H</td>\n",
              "      <td>Yuma</td>\n",
              "      <td>AZ</td>\n",
              "      <td>False</td>\n",
              "      <td>other</td>\n",
              "      <td>Not fleeing</td>\n",
              "      <td>False</td>\n",
              "    </tr>\n",
              "  </tbody>\n",
              "</table>\n",
              "</div>"
            ],
            "text/plain": [
              "        id                   name  ...         flee body_camera\n",
              "60      20       Jessie Hernandez  ...  Not fleeing       False\n",
              "149    189          Jessica Uribe  ...  Not fleeing       False\n",
              "737    871  Norma Angelica Guzman  ...  Not fleeing        True\n",
              "1504  1695        Melissa Ventura  ...  Not fleeing       False\n",
              "\n",
              "[4 rows x 14 columns]"
            ]
          },
          "metadata": {
            "tags": []
          },
          "execution_count": 35
        },
        {
          "output_type": "display_data",
          "data": {
            "image/png": "[encoded data removed]",
            "text/plain": [
              "<Figure size 432x288 with 2 Axes>"
            ]
          },
          "metadata": {
            "tags": [],
            "needs_background": "light"
          }
        }
      ]
    },
    {
      "cell_type": "markdown",
      "metadata": {
        "id": "oLVlWTJPXk0J",
        "colab_type": "text"
      },
      "source": [
        "!Note:\n",
        "\n",
        "*   W: White\n",
        "*   B: Black\n",
        "*   A: Asian\n",
        "*   H: Hispanic\n",
        "*   N: Native American\n",
        "*   O: Other\n",
        "\n",
        "White vitims in average are the oldest, whereas Native American and Hispanic are the youngest.\n",
        "For all races except White and Hispanic, Male vitims tend to be younger.\n",
        "\n",
        "Female Hispanic are noticably younger than the others. So I tried to select cases in which Female Hispanic were victimes. As a result, there was only 4 cases. The sample is too small to make any inference."
      ]
    },
    {
      "cell_type": "code",
      "metadata": {
        "id": "Bd-ksPbtcw16",
        "colab_type": "code",
        "colab": {
          "base_uri": "https://localhost:8080/",
          "height": 300
        },
        "outputId": "8b4834b0-b0a8-4f61-db36-cba9ca844a8e"
      },
      "source": [
        "a = fatal_police_shooting_us['signs_of_mental_illness'].value_counts()\n",
        "plt.title('Victims with sign of mental illness',fontdict={'fontsize':15})\n",
        "sns.barplot(x= a.index, y = a)"
      ],
      "execution_count": 46,
      "outputs": [
        {
          "output_type": "execute_result",
          "data": {
            "text/plain": [
              "Text(0.5, 1.0, 'Victims with sign of mental illness')"
            ]
          },
          "metadata": {
            "tags": []
          },
          "execution_count": 46
        },
        {
          "output_type": "execute_result",
          "data": {
            "text/plain": [
              "<matplotlib.axes._subplots.AxesSubplot at 0x7fa89e3ca470>"
            ]
          },
          "metadata": {
            "tags": []
          },
          "execution_count": 46
        },
        {
          "output_type": "display_data",
          "data": {
            "image/png": "[encoded data removed]",
            "text/plain": [
              "<Figure size 432x288 with 1 Axes>"
            ]
          },
          "metadata": {
            "tags": [],
            "needs_background": "light"
          }
        }
      ]
    },
    {
      "cell_type": "markdown",
      "metadata": {
        "id": "R5NI_XNdczXo",
        "colab_type": "text"
      },
      "source": [
        "Mental illness of the victim can be a factor that accounts for the decision of the police officers. About 3/8 of the victims had sign of mental illness."
      ]
    },
    {
      "cell_type": "code",
      "metadata": {
        "id": "Zr4Fo68kdkYw",
        "colab_type": "code",
        "colab": {
          "base_uri": "https://localhost:8080/",
          "height": 300
        },
        "outputId": "1e10374f-7d37-4cdd-f09a-daeb14624530"
      },
      "source": [
        "a = fatal_police_shooting_us['threat_level'].value_counts()\n",
        "plt.title('Victims\\' status immediately before the fatal shots',fontdict={'fontsize':15})\n",
        "sns.barplot(x= a.index, y = a)"
      ],
      "execution_count": 47,
      "outputs": [
        {
          "output_type": "execute_result",
          "data": {
            "text/plain": [
              "Text(0.5, 1.0, \"Victims' status immediately before the fatal shots\")"
            ]
          },
          "metadata": {
            "tags": []
          },
          "execution_count": 47
        },
        {
          "output_type": "execute_result",
          "data": {
            "text/plain": [
              "<matplotlib.axes._subplots.AxesSubplot at 0x7fa89e97f160>"
            ]
          },
          "metadata": {
            "tags": []
          },
          "execution_count": 47
        },
        {
          "output_type": "display_data",
          "data": {
            "image/png": "[encoded data removed]",
            "text/plain": [
              "<Figure size 432x288 with 1 Axes>"
            ]
          },
          "metadata": {
            "tags": [],
            "needs_background": "light"
          }
        }
      ]
    },
    {
      "cell_type": "markdown",
      "metadata": {
        "id": "U0gIbxUGdn92",
        "colab_type": "text"
      },
      "source": [
        "About 2/3 of the victims were attacking the police before getting shot. This could also influence the officers' decisions."
      ]
    },
    {
      "cell_type": "code",
      "metadata": {
        "id": "ue444DQqeT13",
        "colab_type": "code",
        "colab": {
          "base_uri": "https://localhost:8080/",
          "height": 482
        },
        "outputId": "9924cb38-8698-4dac-e390-8204d0a0d83b"
      },
      "source": [
        "print('Number of unique weapons armed by the victims: {}'.format(len(fatal_police_shooting_us['armed'].unique())))\n",
        "\n",
        "count_per_weapon = fatal_police_shooting_us['armed'].value_counts()\n",
        "plt.figure(figsize=(15,7))\n",
        "plt.title('Top 10 weapons armed by the victims count',fontdict={'fontsize':17})\n",
        "sns.barplot(x=count_per_weapon[:10].index, y=count_per_weapon[:10])"
      ],
      "execution_count": 48,
      "outputs": [
        {
          "output_type": "stream",
          "text": [
            "Number of unique weapons armed by the victims: 67\n"
          ],
          "name": "stdout"
        },
        {
          "output_type": "execute_result",
          "data": {
            "text/plain": [
              "<Figure size 1080x504 with 0 Axes>"
            ]
          },
          "metadata": {
            "tags": []
          },
          "execution_count": 48
        },
        {
          "output_type": "execute_result",
          "data": {
            "text/plain": [
              "Text(0.5, 1.0, 'Top 10 weapons armed by the victims count')"
            ]
          },
          "metadata": {
            "tags": []
          },
          "execution_count": 48
        },
        {
          "output_type": "execute_result",
          "data": {
            "text/plain": [
              "<matplotlib.axes._subplots.AxesSubplot at 0x7fa89e89a320>"
            ]
          },
          "metadata": {
            "tags": []
          },
          "execution_count": 48
        },
        {
          "output_type": "display_data",
          "data": {
            "image/png": "[encoded data removed]",
            "text/plain": [
              "<Figure size 1080x504 with 1 Axes>"
            ]
          },
          "metadata": {
            "tags": [],
            "needs_background": "light"
          }
        }
      ]
    },
    {
      "cell_type": "markdown",
      "metadata": {
        "id": "NiNE0O48eVWd",
        "colab_type": "text"
      },
      "source": [
        "Most of the victims were having gun before getting shot. Only about 200 of them were unarmed. This raises another question: What were the victims doing with those weapons before the incidence?"
      ]
    },
    {
      "cell_type": "code",
      "metadata": {
        "id": "ANWKpol7fH9L",
        "colab_type": "code",
        "colab": {
          "base_uri": "https://localhost:8080/",
          "height": 353
        },
        "outputId": "bcd4fac0-c44a-414d-9827-64cc4589ce14"
      },
      "source": [
        "a = fatal_police_shooting_us.groupby(['threat_level','flee']).size()\n",
        "a = a.reset_index().pivot(index='threat_level',columns='flee',values = 0)\n",
        "plt.figure(figsize=(10,5))\n",
        "sns.heatmap(a)"
      ],
      "execution_count": 49,
      "outputs": [
        {
          "output_type": "execute_result",
          "data": {
            "text/plain": [
              "<Figure size 720x360 with 0 Axes>"
            ]
          },
          "metadata": {
            "tags": []
          },
          "execution_count": 49
        },
        {
          "output_type": "execute_result",
          "data": {
            "text/plain": [
              "<matplotlib.axes._subplots.AxesSubplot at 0x7fa89e9d34e0>"
            ]
          },
          "metadata": {
            "tags": []
          },
          "execution_count": 49
        },
        {
          "output_type": "display_data",
          "data": {
            "image/png": "[encoded data removed]",
            "text/plain": [
              "<Figure size 720x360 with 2 Axes>"
            ]
          },
          "metadata": {
            "tags": [],
            "needs_background": "light"
          }
        }
      ]
    },
    {
      "cell_type": "markdown",
      "metadata": {
        "id": "5v4g3rxZfKAs",
        "colab_type": "text"
      },
      "source": [
        "Most of the victims chose not to flee and attack the officers. This helps explain the decision of the officers."
      ]
    },
    {
      "cell_type": "code",
      "metadata": {
        "id": "eDvmGMLJYQju",
        "colab_type": "code",
        "colab": {
          "base_uri": "https://localhost:8080/",
          "height": 372
        },
        "outputId": "dc230b21-62ed-48f2-a3b3-df40060defb8"
      },
      "source": [
        "a=fatal_police_shooting_us.groupby('race').size().sort_values()\n",
        "plt.figure(figsize=(10,5))\n",
        "sns.barplot(x=a.index, y=a)\n",
        "plt.title('Total number of people killed',fontdict={'fontsize':20})"
      ],
      "execution_count": 36,
      "outputs": [
        {
          "output_type": "execute_result",
          "data": {
            "text/plain": [
              "<Figure size 720x360 with 0 Axes>"
            ]
          },
          "metadata": {
            "tags": []
          },
          "execution_count": 36
        },
        {
          "output_type": "execute_result",
          "data": {
            "text/plain": [
              "<matplotlib.axes._subplots.AxesSubplot at 0x7fa89ebcff98>"
            ]
          },
          "metadata": {
            "tags": []
          },
          "execution_count": 36
        },
        {
          "output_type": "execute_result",
          "data": {
            "text/plain": [
              "Text(0.5, 1.0, 'Total number of people killed')"
            ]
          },
          "metadata": {
            "tags": []
          },
          "execution_count": 36
        },
        {
          "output_type": "display_data",
          "data": {
            "image/png": "[encoded data removed]",
            "text/plain": [
              "<Figure size 720x360 with 1 Axes>"
            ]
          },
          "metadata": {
            "tags": [],
            "needs_background": "light"
          }
        }
      ]
    },
    {
      "cell_type": "markdown",
      "metadata": {
        "id": "dACKcnr8YYsl",
        "colab_type": "text"
      },
      "source": [
        "In this chart, we can see that most of the victims were White. However, since the total population of each race in the US is different, especially for White taking a large portion of the US population, a bar plot with the percent people being killed by race would be a better visualization."
      ]
    },
    {
      "cell_type": "code",
      "metadata": {
        "id": "sHXA33zfYeDG",
        "colab_type": "code",
        "colab": {
          "base_uri": "https://localhost:8080/",
          "height": 372
        },
        "outputId": "33172b88-1945-4cf4-89ea-f174cad5fcc8"
      },
      "source": [
        "a = fatal_police_shooting_us.groupby('race').size().sort_values()\n",
        "percent_death_per_race = list()\n",
        "# these are the population for each race in 2017 collected from https://en.wikipedia.org/wiki/Demographics_of_the_United_States\n",
        "total_population_per_race = {\n",
        "    'White':197277789,\n",
        "    'NativeAmerican':2098763,\n",
        "    'Asian':16989540,\n",
        "    'Hispanic':56510571,\n",
        "    'Black':39445495,\n",
        "    'Others':8166727\n",
        "}\n",
        "\n",
        "for race, total_death in a.iteritems():\n",
        "  if race == 'W':\n",
        "    death_per_race = total_death/total_population_per_race['White']*100\n",
        "  elif race == 'N':\n",
        "    death_per_race = total_death/total_population_per_race['NativeAmerican']*100\n",
        "  elif race == 'A':\n",
        "    death_per_race = total_death/total_population_per_race['Asian']*100\n",
        "  elif race == 'H':\n",
        "    death_per_race = total_death/total_population_per_race['Hispanic']*100\n",
        "  elif race == 'B':\n",
        "    death_per_race = total_death/total_population_per_race['Black']*100\n",
        "  else:\n",
        "    death_per_race = total_death/total_population_per_race['Others']*100\n",
        "  percent_death_per_race.append((race, death_per_race))\n",
        "percent_death_per_race = pd.DataFrame(percent_death_per_race)\n",
        "plt.figure(figsize=(10,5))\n",
        "sns.barplot(x=percent_death_per_race[0], y=percent_death_per_race[1])\n",
        "plt.title('Percent of people per race killed',fontdict={'fontsize':20})"
      ],
      "execution_count": 39,
      "outputs": [
        {
          "output_type": "execute_result",
          "data": {
            "text/plain": [
              "<Figure size 720x360 with 0 Axes>"
            ]
          },
          "metadata": {
            "tags": []
          },
          "execution_count": 39
        },
        {
          "output_type": "execute_result",
          "data": {
            "text/plain": [
              "<matplotlib.axes._subplots.AxesSubplot at 0x7fa89fbb1898>"
            ]
          },
          "metadata": {
            "tags": []
          },
          "execution_count": 39
        },
        {
          "output_type": "execute_result",
          "data": {
            "text/plain": [
              "Text(0.5, 1.0, 'Percent of people per race killed')"
            ]
          },
          "metadata": {
            "tags": []
          },
          "execution_count": 39
        },
        {
          "output_type": "display_data",
          "data": {
            "image/png": "[encoded data removed]",
            "text/plain": [
              "<Figure size 720x360 with 1 Axes>"
            ]
          },
          "metadata": {
            "tags": [],
            "needs_background": "light"
          }
        }
      ]
    },
    {
      "cell_type": "markdown",
      "metadata": {
        "id": "hKZ_7ZavZZB-",
        "colab_type": "text"
      },
      "source": [
        "This chart shows that Black and Native American are much more likely to be shot. The proportion and Black being shot is almost three times higher than White.\n",
        "\n",
        "However, this chart still have a caveat: total death per race divided by the total population per race may not be a good representation for the racial bias. \n",
        "\n",
        "Since most of these cases happened when the victims were suspected or alledged to be criminal, taking total death divided by the total population doesn't illustrate the racial bias of the police toward the criminals. Instead, the denominator should be some value that represent the number of crimes of that race.\n",
        "\n",
        "Assuming that all of the police making these fatal shots were all properly trained, we can say that these victims were making some act of crimes during the incident.\n",
        "\n",
        "In this case, I set the denominator to be total arrest cases for each city in the US. Although death divided arrest doesn't give us any concrete value (people cannot be both shot and arrested), total arrest cases are a good representation of crimes in an area and therefore, the fraction would give us a better estimate about fatal shooting cases and criminals in each city."
      ]
    },
    {
      "cell_type": "code",
      "metadata": {
        "id": "qXlqcuK2aI_x",
        "colab_type": "code",
        "colab": {
          "base_uri": "https://localhost:8080/",
          "height": 407
        },
        "outputId": "4458bcf9-7f90-4ec7-9834-be10cbf686ca"
      },
      "source": [
        "''' These data represent the total arrest in 2015, 2016, 2017: \n",
        "  https://ucr.fbi.gov/crime-in-the-u.s/2015/crime-in-the-u.s.-2015/tables/table-43\n",
        "  https://ucr.fbi.gov/crime-in-the-u.s/2016/crime-in-the-u.s.-2016/topic-pages/tables/table-21\n",
        "  https://ucr.fbi.gov/crime-in-the-u.s/2017/crime-in-the-u.s.-2017/tables/table-43\n",
        "'''\n",
        "a = fatal_police_shooting_us.groupby('race').size().sort_values()\n",
        "percent_death_per_race_criminal = list()\n",
        "\n",
        "total_criminal_cases={\n",
        "    'White': 5753212*0.816 + 5858330*0.816 + 7/12*0.819*5626140,\n",
        "    'Black': 2197140*0.816 + 2263112*0.816 + 7/12*0.819*2221697, \n",
        "    'Asian': 101064*0.816 + 103244*0.816 + 7/12*0.819*97049,\n",
        "    'NativeAmerican': 174020*0.816 + 171185*0.816 + 7/12*0.819*196908,\n",
        "    'Hispanic': 1204862 + 1221066 + 7/12*1190671,\n",
        "    'Others': 23273*0.816 + 25610*0.816 + 7/12*0.819*21055\n",
        "}\n",
        "\n",
        "for race, total_death in a.iteritems():\n",
        "  if race == 'W':\n",
        "    death_per_race_criminal = total_death/total_criminal_cases['White']*100\n",
        "  elif race == 'N':\n",
        "    death_per_race_criminal = total_death/total_criminal_cases['NativeAmerican']*100\n",
        "  elif race == 'A':\n",
        "    death_per_race_criminal = total_death/total_criminal_cases['Asian']*100\n",
        "  elif race == 'H':\n",
        "    death_per_race_criminal = total_death/total_criminal_cases['Hispanic']*100\n",
        "  elif race == 'B':\n",
        "    death_per_race_criminal = total_death/total_criminal_cases['Black']*100\n",
        "  else:\n",
        "    death_per_race_criminal = total_death/total_criminal_cases['Others']*100\n",
        "  percent_death_per_race_criminal.append((race, death_per_race_criminal))\n",
        "\n",
        "percent_death_per_race_criminal = pd.DataFrame(percent_death_per_race_criminal)\n",
        "plt.figure(figsize=(10,5))\n",
        "sns.barplot(x=percent_death_per_race_criminal[0], y=percent_death_per_race_criminal[1])\n",
        "plt.title('Percent of criminals per race killed',fontdict={'fontsize':20})\n"
      ],
      "execution_count": 40,
      "outputs": [
        {
          "output_type": "execute_result",
          "data": {
            "application/vnd.google.colaboratory.intrinsic": {
              "type": "string"
            },
            "text/plain": [
              "' These data represent the total arrest in 2015, 2016, 2017: \\n  https://ucr.fbi.gov/crime-in-the-u.s/2015/crime-in-the-u.s.-2015/tables/table-43\\n  https://ucr.fbi.gov/crime-in-the-u.s/2016/crime-in-the-u.s.-2016/topic-pages/tables/table-21\\n  https://ucr.fbi.gov/crime-in-the-u.s/2017/crime-in-the-u.s.-2017/tables/table-43\\n'"
            ]
          },
          "metadata": {
            "tags": []
          },
          "execution_count": 40
        },
        {
          "output_type": "execute_result",
          "data": {
            "text/plain": [
              "<Figure size 720x360 with 0 Axes>"
            ]
          },
          "metadata": {
            "tags": []
          },
          "execution_count": 40
        },
        {
          "output_type": "execute_result",
          "data": {
            "text/plain": [
              "<matplotlib.axes._subplots.AxesSubplot at 0x7fa89ede5ba8>"
            ]
          },
          "metadata": {
            "tags": []
          },
          "execution_count": 40
        },
        {
          "output_type": "execute_result",
          "data": {
            "text/plain": [
              "Text(0.5, 1.0, 'Percent of criminals per race killed')"
            ]
          },
          "metadata": {
            "tags": []
          },
          "execution_count": 40
        },
        {
          "output_type": "display_data",
          "data": {
            "image/png": "[encoded data removed]",
            "text/plain": [
              "<Figure size 720x360 with 1 Axes>"
            ]
          },
          "metadata": {
            "tags": [],
            "needs_background": "light"
          }
        }
      ]
    },
    {
      "cell_type": "markdown",
      "metadata": {
        "id": "MaZAv6pDaQOV",
        "colab_type": "text"
      },
      "source": [
        "Calculating steps:\n",
        "* Since the datasets provided from FBI:UCR don't have categories for non-Hispanic of each of the other races, I calculated that by multiplying total cases of each race by the percentage of non-Hispanic cases, assuming that each of the other races shares the same proportion of Hispanic/non-Hispanic.\n",
        "* Note that the FatalPoliceShootingUS only have records from Jan 2015 to July 2017. However, the datasets from FBI:UCR have the total cases for each year 2015, 2016, and 2017. Therefore, we have to add the total of each of the year to find the total cases during the period. Besides, for 2017, assuming number of cases are not affected by the time of a year, I multiply the total cases in 2017 by 7/12 to get the estimate of total cases in the first 7 months of 2017.\n",
        "\n",
        "Results:\n",
        "* The percentage of criminals being shot for the Others race is disproportionally high.\n",
        "* Among the other races, although there are differences between the proportion of each race being killed, the bias is not significant."
      ]
    },
    {
      "cell_type": "code",
      "metadata": {
        "id": "GTe5d_Xbbftc",
        "colab_type": "code",
        "colab": {
          "base_uri": "https://localhost:8080/",
          "height": 441
        },
        "outputId": "b6218d70-0d1d-4018-eb67-a490ec2970ac"
      },
      "source": [
        "fatal_police_shooting_us['month'] = fatal_police_shooting_us['date'].dt.month#.value_counts()\n",
        "fatal_police_shooting_us['month'] = fatal_police_shooting_us['month'].astype('str')\n",
        "fatal_police_shooting_us['month'] = fatal_police_shooting_us['month'].map(lambda x: '0'+ x if len(x)==1 else x)\n",
        "\n",
        "fatal_police_shooting_us['year'] = fatal_police_shooting_us['date'].dt.year\n",
        "\n",
        "fatal_police_shooting_us['year-month'] = fatal_police_shooting_us['year'].astype('str') + '-' + fatal_police_shooting_us['month'].astype('str')\n",
        "shooting_per_month = fatal_police_shooting_us.groupby('year-month').size()\n",
        "\n",
        "fig, ax = plt.subplots(figsize=(30,7))\n",
        "ax.set_title('Total victims each month from January 2015 to July 2017', fontdict={'fontsize':25})\n",
        "sns.lineplot(ax=ax, x=shooting_per_month.index, y=shooting_per_month)\n",
        "\n",
        "###########\n",
        "shooting_per_month = pd.DataFrame(shooting_per_month)\n",
        "shooting_per_month['average_per_month'] = shooting_per_month[0].mean()\n",
        "\n",
        "sns.lineplot(ax=ax, x=shooting_per_month.index, y=shooting_per_month['average_per_month'])\n",
        "ax.legend(labels=['Victims per month','Average'])"
      ],
      "execution_count": 41,
      "outputs": [
        {
          "output_type": "execute_result",
          "data": {
            "text/plain": [
              "Text(0.5, 1.0, 'Total victims each month from January 2015 to July 2017')"
            ]
          },
          "metadata": {
            "tags": []
          },
          "execution_count": 41
        },
        {
          "output_type": "execute_result",
          "data": {
            "text/plain": [
              "<matplotlib.axes._subplots.AxesSubplot at 0x7fa89b191470>"
            ]
          },
          "metadata": {
            "tags": []
          },
          "execution_count": 41
        },
        {
          "output_type": "execute_result",
          "data": {
            "text/plain": [
              "<matplotlib.axes._subplots.AxesSubplot at 0x7fa89b191470>"
            ]
          },
          "metadata": {
            "tags": []
          },
          "execution_count": 41
        },
        {
          "output_type": "execute_result",
          "data": {
            "text/plain": [
              "<matplotlib.legend.Legend at 0x7fa89edaeb00>"
            ]
          },
          "metadata": {
            "tags": []
          },
          "execution_count": 41
        },
        {
          "output_type": "display_data",
          "data": {
            "image/png": "[encoded data removed]",
            "text/plain": [
              "<Figure size 2160x504 with 1 Axes>"
            ]
          },
          "metadata": {
            "tags": [],
            "needs_background": "light"
          }
        }
      ]
    },
    {
      "cell_type": "markdown",
      "metadata": {
        "id": "CB1Jg2pMblw4",
        "colab_type": "text"
      },
      "source": [
        "Time and total death are not correlated. This backs up the assumption made in the previous calculation."
      ]
    },
    {
      "cell_type": "code",
      "metadata": {
        "id": "1jf609tob8Ag",
        "colab_type": "code",
        "colab": {
          "base_uri": "https://localhost:8080/",
          "height": 372
        },
        "outputId": "569184cf-b6fb-4064-f4b8-6473e873be0c"
      },
      "source": [
        "a = fatal_police_shooting_us.groupby('state').size().sort_values(ascending=False)\n",
        "plt.figure(figsize=(20,5))\n",
        "plt.title('Total fatal shots in each state', fontdict={'fontsize':20})\n",
        "sns.barplot(x = a.index, y = a)"
      ],
      "execution_count": 43,
      "outputs": [
        {
          "output_type": "execute_result",
          "data": {
            "text/plain": [
              "<Figure size 1440x360 with 0 Axes>"
            ]
          },
          "metadata": {
            "tags": []
          },
          "execution_count": 43
        },
        {
          "output_type": "execute_result",
          "data": {
            "text/plain": [
              "Text(0.5, 1.0, 'Total fatal shots in each state')"
            ]
          },
          "metadata": {
            "tags": []
          },
          "execution_count": 43
        },
        {
          "output_type": "execute_result",
          "data": {
            "text/plain": [
              "<matplotlib.axes._subplots.AxesSubplot at 0x7fa89e9484e0>"
            ]
          },
          "metadata": {
            "tags": []
          },
          "execution_count": 43
        },
        {
          "output_type": "display_data",
          "data": {
            "image/png": "[encoded data removed]",
            "text/plain": [
              "<Figure size 1440x360 with 1 Axes>"
            ]
          },
          "metadata": {
            "tags": [],
            "needs_background": "light"
          }
        }
      ]
    },
    {
      "cell_type": "markdown",
      "metadata": {
        "id": "-hRSVIWocGs3",
        "colab_type": "text"
      },
      "source": [
        "CA, TX, FL and have most police fatal shooting cases\n",
        "\n",
        "\n",
        "Same as cases per race, for this cases per city, we also need to divide the number by total arrest cases per city.\n",
        "\n",
        "\n",
        "https://ucr.fbi.gov/crime-in-the-u.s/2015/crime-in-the-u.s.-2015/tables/table-69\n",
        "\n",
        "https://ucr.fbi.gov/crime-in-the-u.s/2016/crime-in-the-u.s.-2016/tables/table-22\n",
        "\n",
        "https://ucr.fbi.gov/crime-in-the-u.s/2017/crime-in-the-u.s.-2017/topic-pages/tables/table-69"
      ]
    },
    {
      "cell_type": "code",
      "metadata": {
        "id": "QPDJqkJrcH3V",
        "colab_type": "code",
        "colab": {
          "base_uri": "https://localhost:8080/",
          "height": 372
        },
        "outputId": "20e18ab3-16a6-438f-fc83-dfcff82f72df"
      },
      "source": [
        "arrest_by_state = pd.read_csv('/content/drive/My Drive/data/arrest_by_state.csv')\n",
        "\n",
        "arrest_by_state['2015'] = arrest_by_state['2015'].str.replace(',','')\n",
        "arrest_by_state['2,016'] = arrest_by_state['2,016'].str.replace(',','')\n",
        "arrest_by_state['2,017'] = arrest_by_state['2,017'].str.replace(',','')\n",
        "arrest_by_state['2015'] = arrest_by_state['2015'].astype('int64')\n",
        "arrest_by_state['2,016'] = arrest_by_state['2,016'].astype('int64')\n",
        "arrest_by_state['2,017'] = arrest_by_state['2,017'].astype('int64')\n",
        "\n",
        "arrestfrom2015to2017 = arrest_by_state['2015'] + arrest_by_state['2,016'] + arrest_by_state['2,017']*7/12\n",
        "arrestfrom2015to2017.index = arrest_by_state['Unnamed: 0'].str.strip()\n",
        "\n",
        "#https://gist.github.com/rogerallen/1583593\n",
        "\n",
        "us_state_abbrev = {\n",
        "    'Alabama': 'AL',\n",
        "    'Alaska': 'AK',\n",
        "    'Arizona': 'AZ',\n",
        "    'Arkansas': 'AR',\n",
        "    'California': 'CA',\n",
        "    'Colorado': 'CO',\n",
        "    'Connecticut': 'CT',\n",
        "    'Delaware': 'DE',\n",
        "    'District of Columbia': 'DC',\n",
        "    'Florida': 'FL',\n",
        "    'Georgia': 'GA',\n",
        "    'Hawaii': 'HI',\n",
        "    'Idaho': 'ID',\n",
        "    'Illinois': 'IL',\n",
        "    'Indiana': 'IN',\n",
        "    'Iowa': 'IA',\n",
        "    'Kansas': 'KS',\n",
        "    'Kentucky': 'KY',\n",
        "    'Louisiana': 'LA',\n",
        "    'Maine': 'ME',\n",
        "    'Maryland': 'MD',\n",
        "    'Massachusetts': 'MA',\n",
        "    'Michigan': 'MI',\n",
        "    'Minnesota': 'MN',\n",
        "    'Mississippi': 'MS',\n",
        "    'Missouri': 'MO',\n",
        "    'Montana': 'MT',\n",
        "    'Nebraska': 'NE',\n",
        "    'Nevada': 'NV',\n",
        "    'New Hampshire': 'NH',\n",
        "    'New Jersey': 'NJ',\n",
        "    'New Mexico': 'NM',\n",
        "    'New York6': 'NY',\n",
        "    'North Carolina': 'NC',\n",
        "    'North Dakota': 'ND',\n",
        "    'Northern Mariana Islands':'MP',\n",
        "    'Ohio': 'OH',\n",
        "    'Oklahoma': 'OK',\n",
        "    'Oregon': 'OR',\n",
        "    'Pennsylvania': 'PA',\n",
        "    'Puerto Rico': 'PR',\n",
        "    'Rhode Island': 'RI',\n",
        "    'South Carolina': 'SC',\n",
        "    'South Dakota': 'SD',\n",
        "    'Tennessee': 'TN',\n",
        "    'Texas': 'TX',\n",
        "    'Utah': 'UT',\n",
        "    'Vermont': 'VT',\n",
        "    'Virgin Islands': 'VI',\n",
        "    'Virginia': 'VA',\n",
        "    'Washington': 'WA',\n",
        "    'West Virginia': 'WV',\n",
        "    'Wisconsin': 'WI',\n",
        "    'Wyoming': 'WY'\n",
        "}\n",
        "\n",
        "us_state_abbrev = { state.upper(): ab for state, ab in us_state_abbrev.items()}\n",
        "arrestfrom2015to2017.index = arrestfrom2015to2017.index.map(us_state_abbrev)\n",
        "death_per_arrest = fatal_police_shooting_us.groupby('state').size().sort_index() / arrestfrom2015to2017.sort_index()\n",
        "plt.figure(figsize=(20,5))\n",
        "plt.title('Fatal shot per arrest in each state', fontdict={'fontsize':20})\n",
        "sns.barplot(x = death_per_arrest.sort_values().index, y = death_per_arrest.sort_values(ascending=False))"
      ],
      "execution_count": 45,
      "outputs": [
        {
          "output_type": "execute_result",
          "data": {
            "text/plain": [
              "<Figure size 1440x360 with 0 Axes>"
            ]
          },
          "metadata": {
            "tags": []
          },
          "execution_count": 45
        },
        {
          "output_type": "execute_result",
          "data": {
            "text/plain": [
              "Text(0.5, 1.0, 'Fatal shot per arrest in each state')"
            ]
          },
          "metadata": {
            "tags": []
          },
          "execution_count": 45
        },
        {
          "output_type": "execute_result",
          "data": {
            "text/plain": [
              "<matplotlib.axes._subplots.AxesSubplot at 0x7fa89e3e9e10>"
            ]
          },
          "metadata": {
            "tags": []
          },
          "execution_count": 45
        },
        {
          "output_type": "display_data",
          "data": {
            "image/png": "[encoded data removed]",
            "text/plain": [
              "<Figure size 1440x360 with 1 Axes>"
            ]
          },
          "metadata": {
            "tags": [],
            "needs_background": "light"
          }
        }
      ]
    },
    {
      "cell_type": "markdown",
      "metadata": {
        "id": "tvYGDbnecegA",
        "colab_type": "text"
      },
      "source": [
        "This chart illustrates better the aggressivity of the police officers. Officers in CT, RI, and NJ are most likely to cause fatal shots."
      ]
    },
    {
      "cell_type": "markdown",
      "metadata": {
        "id": "1zi_gFtfhzh-",
        "colab_type": "text"
      },
      "source": [
        "# **Modeling To Predict Race Of Victims**"
      ]
    },
    {
      "cell_type": "code",
      "metadata": {
        "id": "gUL5vGsYh5s9",
        "colab_type": "code",
        "colab": {}
      },
      "source": [
        "from sklearn import preprocessing\n",
        "from sklearn import model_selection\n",
        "from sklearn import inspection\n",
        "from sklearn import metrics\n",
        "from sklearn import ensemble\n",
        "\n",
        "FEATURE_RACE = ['percent_completed_hs','poverty_rate','Median Income',\n",
        "               'share_white','share_black','share_asian',\n",
        "               'share_native_american','share_hispanic','manner_of_death', \n",
        "               'armed', 'gender', 'age', 'signs_of_mental_illness', \n",
        "               'threat_level']\n",
        "TARGET_RACE = 'race'\n",
        "\n",
        "X_race = data[FEATURE_RACE]\n",
        "y_race = data[TARGET_RACE]"
      ],
      "execution_count": 67,
      "outputs": []
    },
    {
      "cell_type": "code",
      "metadata": {
        "id": "V16VmkorlxBq",
        "colab_type": "code",
        "colab": {
          "base_uri": "https://localhost:8080/",
          "height": 173
        },
        "outputId": "e42baa90-360f-4cbe-a3bb-92e11d828243"
      },
      "source": [
        "object_cols = (X_race.dtypes == 'object')[X_race.dtypes == 'object'].index\n",
        "X_race[object_cols].describe()\n",
        "\n",
        "RACE_OH_FEATURES = ['threat_level', 'armed']  # since these variables are nominal\n",
        "RACE_LABEL_FEATURES = ['manner_of_death', 'gender', 'signs_of_mental_illness'] # since these are binary variables"
      ],
      "execution_count": 68,
      "outputs": [
        {
          "output_type": "execute_result",
          "data": {
            "text/html": [
              "<div>\n",
              "<style scoped>\n",
              "    .dataframe tbody tr th:only-of-type {\n",
              "        vertical-align: middle;\n",
              "    }\n",
              "\n",
              "    .dataframe tbody tr th {\n",
              "        vertical-align: top;\n",
              "    }\n",
              "\n",
              "    .dataframe thead th {\n",
              "        text-align: right;\n",
              "    }\n",
              "</style>\n",
              "<table border=\"1\" class=\"dataframe\">\n",
              "  <thead>\n",
              "    <tr style=\"text-align: right;\">\n",
              "      <th></th>\n",
              "      <th>manner_of_death</th>\n",
              "      <th>armed</th>\n",
              "      <th>gender</th>\n",
              "      <th>signs_of_mental_illness</th>\n",
              "      <th>threat_level</th>\n",
              "    </tr>\n",
              "  </thead>\n",
              "  <tbody>\n",
              "    <tr>\n",
              "      <th>count</th>\n",
              "      <td>1938</td>\n",
              "      <td>1938</td>\n",
              "      <td>1938</td>\n",
              "      <td>1938</td>\n",
              "      <td>1938</td>\n",
              "    </tr>\n",
              "    <tr>\n",
              "      <th>unique</th>\n",
              "      <td>2</td>\n",
              "      <td>58</td>\n",
              "      <td>2</td>\n",
              "      <td>2</td>\n",
              "      <td>3</td>\n",
              "    </tr>\n",
              "    <tr>\n",
              "      <th>top</th>\n",
              "      <td>shot</td>\n",
              "      <td>gun</td>\n",
              "      <td>M</td>\n",
              "      <td>False</td>\n",
              "      <td>attack</td>\n",
              "    </tr>\n",
              "    <tr>\n",
              "      <th>freq</th>\n",
              "      <td>1806</td>\n",
              "      <td>1074</td>\n",
              "      <td>1853</td>\n",
              "      <td>1457</td>\n",
              "      <td>1251</td>\n",
              "    </tr>\n",
              "  </tbody>\n",
              "</table>\n",
              "</div>"
            ],
            "text/plain": [
              "       manner_of_death armed gender signs_of_mental_illness threat_level\n",
              "count             1938  1938   1938                    1938         1938\n",
              "unique               2    58      2                       2            3\n",
              "top               shot   gun      M                   False       attack\n",
              "freq              1806  1074   1853                    1457         1251"
            ]
          },
          "metadata": {
            "tags": []
          },
          "execution_count": 68
        }
      ]
    },
    {
      "cell_type": "code",
      "metadata": {
        "id": "y2iQ_5Vfl0uI",
        "colab_type": "code",
        "colab": {
          "base_uri": "https://localhost:8080/",
          "height": 289
        },
        "outputId": "58590642-48d8-4579-d974-9cb61aceb64b"
      },
      "source": [
        "# reduce categories in 'armed' column by removing rarely appeared (<=7) values\n",
        "s = X_race['armed'].value_counts() \n",
        "armed_others = list(s[s<=7].index) \n",
        "X_race['armed'] = X_race['armed'].apply(lambda x: 'others' if x in armed_others else x)\n",
        "X_race['armed'].value_counts()"
      ],
      "execution_count": 69,
      "outputs": [
        {
          "output_type": "stream",
          "text": [
            "/usr/local/lib/python3.6/dist-packages/ipykernel_launcher.py:4: SettingWithCopyWarning: \n",
            "A value is trying to be set on a copy of a slice from a DataFrame.\n",
            "Try using .loc[row_indexer,col_indexer] = value instead\n",
            "\n",
            "See the caveats in the documentation: https://pandas.pydata.org/pandas-docs/stable/user_guide/indexing.html#returning-a-view-versus-a-copy\n",
            "  after removing the cwd from sys.path.\n"
          ],
          "name": "stderr"
        },
        {
          "output_type": "execute_result",
          "data": {
            "text/plain": [
              "gun               1074\n",
              "knife              276\n",
              "unarmed            148\n",
              "vehicle            142\n",
              "others             103\n",
              "toy weapon          87\n",
              "undetermined        84\n",
              "machete             15\n",
              "unknown weapon       9\n",
              "Name: armed, dtype: int64"
            ]
          },
          "metadata": {
            "tags": []
          },
          "execution_count": 69
        }
      ]
    },
    {
      "cell_type": "code",
      "metadata": {
        "id": "O5ftNaVXl51e",
        "colab_type": "code",
        "colab": {}
      },
      "source": [
        "TRAIN_SIZE = 0.8\n",
        "TEST_SIZE = 0.2\n",
        "\n",
        "# splitting train/test\n",
        "X_race_train, X_race_test, y_race_train, y_race_test  = model_selection.train_test_split(X_race,y_race,train_size=TRAIN_SIZE, test_size=TEST_SIZE, random_state=0)\n",
        "\n",
        "# One Hot Encoding \n",
        "encoder = preprocessing.OneHotEncoder(handle_unknown='ignore', sparse=False)\n",
        "\n",
        "X_race_OH_train_cols = pd.DataFrame(encoder.fit_transform(X_race_train[RACE_OH_FEATURES]))\n",
        "X_race_OH_test_cols = pd.DataFrame(encoder.transform(X_race_test[RACE_OH_FEATURES]))\n",
        "\n",
        "X_race_train = X_race_train.drop(RACE_OH_FEATURES, axis=1)\n",
        "X_race_test = X_race_test.drop(RACE_OH_FEATURES, axis=1)\n",
        "\n",
        "X_race_OH_train_cols.columns = encoder.get_feature_names()\n",
        "X_race_OH_test_cols.columns = encoder.get_feature_names()\n",
        "\n",
        "X_race_OH_train_cols.index = X_race_train.index\n",
        "X_race_OH_test_cols.index = X_race_test.index\n",
        "\n",
        "X_race_train = pd.concat([X_race_train, X_race_OH_train_cols], axis=1)\n",
        "X_race_test = pd.concat([X_race_test, X_race_OH_test_cols], axis=1)\n",
        "\n",
        "# Label Encoding\n",
        "encoder = preprocessing.LabelEncoder()\n",
        "\n",
        "for col in RACE_LABEL_FEATURES:\n",
        "  X_race_train[col] = encoder.fit_transform(X_race_train[col])\n",
        "  X_race_test[col] = encoder.transform(X_race_test[col])"
      ],
      "execution_count": 70,
      "outputs": []
    },
    {
      "cell_type": "markdown",
      "metadata": {
        "id": "aBiQGtz_meHj",
        "colab_type": "text"
      },
      "source": [
        "**KNN Classifier**\n",
        "\n",
        "---\n",
        "\n"
      ]
    },
    {
      "cell_type": "code",
      "metadata": {
        "id": "WH9lUa2zmcxR",
        "colab_type": "code",
        "colab": {
          "base_uri": "https://localhost:8080/",
          "height": 530
        },
        "outputId": "74a6752c-2053-40cf-c24e-33a40aeef0db"
      },
      "source": [
        "from sklearn.neighbors import KNeighborsClassifier\n",
        "\n",
        "race_knn = KNeighborsClassifier()\n",
        "param_grid = {'n_neighbors': [3, 5, 7, 10, 13]}\n",
        "\n",
        "gridsearch_race_knn = model_selection.GridSearchCV(estimator=race_knn, \n",
        "                                                  param_grid=param_grid,\n",
        "                                                  cv=5,\n",
        "                                                  scoring=\"accuracy\")\n",
        "gridsearch_race_knn.fit(X_race_train, y_race_train)\n",
        "\n",
        "print('\\n\\nK Nearest Neighbors CV Accuracy Score: {}'.format(abs(gridsearch_race_knn.best_score_)))\n",
        "print('Best parameters: {}'.format(gridsearch_race_knn.best_params_))\n",
        "\n",
        "test_prediction = gridsearch_race_knn.predict(X_race_test)\n",
        "print('K Nearest Neighbors Test Accuracy Score: {}'.format(metrics.accuracy_score(test_prediction, y_race_test)))\n",
        "print(metrics.classification_report(y_race_test, test_prediction))"
      ],
      "execution_count": 71,
      "outputs": [
        {
          "output_type": "execute_result",
          "data": {
            "text/plain": [
              "GridSearchCV(cv=5, error_score=nan,\n",
              "             estimator=KNeighborsClassifier(algorithm='auto', leaf_size=30,\n",
              "                                            metric='minkowski',\n",
              "                                            metric_params=None, n_jobs=None,\n",
              "                                            n_neighbors=5, p=2,\n",
              "                                            weights='uniform'),\n",
              "             iid='deprecated', n_jobs=None,\n",
              "             param_grid={'n_neighbors': [3, 5, 7, 10, 13]},\n",
              "             pre_dispatch='2*n_jobs', refit=True, return_train_score=False,\n",
              "             scoring='accuracy', verbose=0)"
            ]
          },
          "metadata": {
            "tags": []
          },
          "execution_count": 71
        },
        {
          "output_type": "stream",
          "text": [
            "\n",
            "\n",
            "K Nearest Neighbors CV Accuracy Score: 0.49806451612903224\n",
            "Best parameters: {'n_neighbors': 7}\n",
            "K Nearest Neighbors Test Accuracy Score: 0.5\n",
            "              precision    recall  f1-score   support\n",
            "\n",
            "           A       0.33      0.10      0.15        10\n",
            "           B       0.41      0.46      0.43       102\n",
            "           H       0.37      0.34      0.35        65\n",
            "           N       0.00      0.00      0.00         8\n",
            "           O       0.00      0.00      0.00         6\n",
            "           W       0.59      0.63      0.61       197\n",
            "\n",
            "    accuracy                           0.50       388\n",
            "   macro avg       0.28      0.25      0.26       388\n",
            "weighted avg       0.48      0.50      0.49       388\n",
            "\n"
          ],
          "name": "stdout"
        },
        {
          "output_type": "stream",
          "text": [
            "/usr/local/lib/python3.6/dist-packages/sklearn/metrics/_classification.py:1272: UndefinedMetricWarning: Precision and F-score are ill-defined and being set to 0.0 in labels with no predicted samples. Use `zero_division` parameter to control this behavior.\n",
            "  _warn_prf(average, modifier, msg_start, len(result))\n"
          ],
          "name": "stderr"
        }
      ]
    },
    {
      "cell_type": "markdown",
      "metadata": {
        "id": "Rrw8MfiQmram",
        "colab_type": "text"
      },
      "source": [
        "**ADA Boost Classifier**\n",
        "\n",
        "---\n",
        "\n"
      ]
    },
    {
      "cell_type": "code",
      "metadata": {
        "id": "1fLObXyxmp9m",
        "colab_type": "code",
        "colab": {
          "base_uri": "https://localhost:8080/",
          "height": 459
        },
        "outputId": "49b43ed4-ecf9-420e-a9bc-245f3620923c"
      },
      "source": [
        "race_abc = ensemble.AdaBoostClassifier()\n",
        "param_grid = {'n_estimators': [40, 50, 60]}\n",
        "\n",
        "gridsearch_race_abc = model_selection.GridSearchCV(estimator=race_abc, \n",
        "                                                  param_grid=param_grid,\n",
        "                                                  cv=5,\n",
        "                                                  scoring=\"accuracy\")\n",
        "gridsearch_race_abc.fit(X_race_train, y_race_train)\n",
        "\n",
        "print('\\n\\nADA Boost CV Accuracy Score: {}'.format(abs(gridsearch_race_abc.best_score_)))\n",
        "print('Best parameters: {}'.format(gridsearch_race_abc.best_params_))\n",
        "\n",
        "test_prediction = gridsearch_race_abc.predict(X_race_test)\n",
        "print('ADA Boost Test Accuracy Score: {}'.format(metrics.accuracy_score(y_race_test, test_prediction)))\n",
        "print(metrics.classification_report(y_race_test, test_prediction))"
      ],
      "execution_count": 72,
      "outputs": [
        {
          "output_type": "execute_result",
          "data": {
            "text/plain": [
              "GridSearchCV(cv=5, error_score=nan,\n",
              "             estimator=AdaBoostClassifier(algorithm='SAMME.R',\n",
              "                                          base_estimator=None,\n",
              "                                          learning_rate=1.0, n_estimators=50,\n",
              "                                          random_state=None),\n",
              "             iid='deprecated', n_jobs=None,\n",
              "             param_grid={'n_estimators': [40, 50, 60]}, pre_dispatch='2*n_jobs',\n",
              "             refit=True, return_train_score=False, scoring='accuracy',\n",
              "             verbose=0)"
            ]
          },
          "metadata": {
            "tags": []
          },
          "execution_count": 72
        },
        {
          "output_type": "stream",
          "text": [
            "\n",
            "\n",
            "ADA Boost CV Accuracy Score: 0.38258064516129037\n",
            "Best parameters: {'n_estimators': 50}\n",
            "ADA Boost Test Accuracy Score: 0.5798969072164949\n",
            "              precision    recall  f1-score   support\n",
            "\n",
            "           A       0.00      0.00      0.00        10\n",
            "           B       0.59      0.59      0.59       102\n",
            "           H       0.45      0.45      0.45        65\n",
            "           N       0.25      0.38      0.30         8\n",
            "           O       0.08      0.17      0.11         6\n",
            "           W       0.69      0.67      0.68       197\n",
            "\n",
            "    accuracy                           0.58       388\n",
            "   macro avg       0.35      0.37      0.36       388\n",
            "weighted avg       0.59      0.58      0.58       388\n",
            "\n"
          ],
          "name": "stdout"
        }
      ]
    },
    {
      "cell_type": "markdown",
      "metadata": {
        "id": "gjj5Rl23m1LK",
        "colab_type": "text"
      },
      "source": [
        "**Results**\n",
        "\n",
        "---\n",
        "\n"
      ]
    },
    {
      "cell_type": "code",
      "metadata": {
        "id": "X83iwsnlm_gS",
        "colab_type": "code",
        "colab": {
          "base_uri": "https://localhost:8080/",
          "height": 599
        },
        "outputId": "5e03e838-74ad-4335-8df7-416fa1905274"
      },
      "source": [
        "from sklearn.inspection import permutation_importance\n",
        "\n",
        "# KNN Boosting\n",
        "result = permutation_importance(gridsearch_race_knn.best_estimator_, X_race_test,\n",
        "                                y_race_test, n_repeats=10, random_state=0)\n",
        "race_knn_feature_importance = pd.Series(result.importances_mean)\n",
        "race_knn_feature_importance.index = X_race_train.columns\n",
        "race_knn_feature_importance = race_knn_feature_importance.sort_values()\n",
        "\n",
        "# ADA Boost Classifier\n",
        "result = permutation_importance(gridsearch_race_abc.best_estimator_, X_race_test,\n",
        "                                y_race_test, n_repeats=10, random_state=0)\n",
        "race_abc_feature_importance =  pd.Series(result.importances_mean)\n",
        "race_abc_feature_importance.index = X_race_train.columns\n",
        "race_abc_feature_importance = race_abc_feature_importance.sort_values()\n",
        "\n",
        "fig, ax = plt.subplots(1,2, figsize=(20,10))\n",
        "fig.tight_layout(pad=10)\n",
        "sns.barplot(ax=ax[0],y=race_abc_feature_importance.index, x=race_abc_feature_importance)\n",
        "ax[0].set_title('ADA Boost Classifier', fontdict={'fontsize': 15})\n",
        "sns.barplot(ax=ax[1],y=race_knn_feature_importance.index, x=race_knn_feature_importance)\n",
        "ax[1].set_title('KNN Classifier', fontdict={'fontsize': 15})"
      ],
      "execution_count": 74,
      "outputs": [
        {
          "output_type": "execute_result",
          "data": {
            "text/plain": [
              "<matplotlib.axes._subplots.AxesSubplot at 0x7fa892280b38>"
            ]
          },
          "metadata": {
            "tags": []
          },
          "execution_count": 74
        },
        {
          "output_type": "execute_result",
          "data": {
            "text/plain": [
              "Text(0.5, 1.0, 'ADA Boost Classifier')"
            ]
          },
          "metadata": {
            "tags": []
          },
          "execution_count": 74
        },
        {
          "output_type": "execute_result",
          "data": {
            "text/plain": [
              "<matplotlib.axes._subplots.AxesSubplot at 0x7fa891eb2d30>"
            ]
          },
          "metadata": {
            "tags": []
          },
          "execution_count": 74
        },
        {
          "output_type": "execute_result",
          "data": {
            "text/plain": [
              "Text(0.5, 1.0, 'KNN Classifier')"
            ]
          },
          "metadata": {
            "tags": []
          },
          "execution_count": 74
        },
        {
          "output_type": "display_data",
          "data": {
            "image/png": "[encoded data removed]",
            "text/plain": [
              "<Figure size 1440x720 with 2 Axes>"
            ]
          },
          "metadata": {
            "tags": [],
            "needs_background": "light"
          }
        }
      ]
    },
    {
      "cell_type": "markdown",
      "metadata": {
        "id": "Lvy7aCh4ua_N",
        "colab_type": "text"
      },
      "source": [
        "For both models, the importance of most features too minor compared to the top ones. Moreover, these two models prioritize features differently predicting the output. For ADA Boost, share of each races are the most important and Median Income and age has almost no effect. In contrast, KNN Classifier put Median Income as the most important, and age is the second feature while predicting the output.\n",
        "These two models seems unreliable to use.  "
      ]
    },
    {
      "cell_type": "code",
      "metadata": {
        "id": "Is8psugjnC9y",
        "colab_type": "code",
        "colab": {
          "base_uri": "https://localhost:8080/",
          "height": 312
        },
        "outputId": "97a33be5-7354-47fe-f131-9bd9ddd11580"
      },
      "source": [
        "# accuracy\n",
        "knn_CV = abs(gridsearch_race_knn.best_score_)\n",
        "knn_test = abs(gridsearch_race_knn.score(X_race_test, y_race_test))\n",
        "abc_CV = abs(gridsearch_race_abc.best_score_)\n",
        "abc_test = abs(gridsearch_race_abc.score(X_race_test, y_race_test))\n",
        "age_models = pd.DataFrame({'Accuracy': [knn_CV, knn_test, abc_CV, abc_test],\n",
        "                           'CV/Test':['CV','Test','CV','Test'],\n",
        "                           'model': ['knn','knn','abc','abc']})\n",
        "plt.title('Accuracy between KNN and ADABoost')\n",
        "sns.barplot(x=age_models['model'], y=age_models['Accuracy'], hue=age_models['CV/Test'])"
      ],
      "execution_count": 75,
      "outputs": [
        {
          "output_type": "execute_result",
          "data": {
            "text/plain": [
              "Text(0.5, 1.0, 'Accuracy between KNN and ADABoost')"
            ]
          },
          "metadata": {
            "tags": []
          },
          "execution_count": 75
        },
        {
          "output_type": "execute_result",
          "data": {
            "text/plain": [
              "<matplotlib.axes._subplots.AxesSubplot at 0x7fa891de6a90>"
            ]
          },
          "metadata": {
            "tags": []
          },
          "execution_count": 75
        },
        {
          "output_type": "display_data",
          "data": {
            "image/png": "[encoded data removed]",
            "text/plain": [
              "<Figure size 432x288 with 1 Axes>"
            ]
          },
          "metadata": {
            "tags": [],
            "needs_background": "light"
          }
        }
      ]
    },
    {
      "cell_type": "markdown",
      "metadata": {
        "id": "yLZ20aWmuXmK",
        "colab_type": "text"
      },
      "source": [
        "The ADA Boost Classifier model does suprisingly better in the test set than in the training set. KNN and ADABoost are comparatively equal in making decisions about the victim's race. However, the accuracy for both models are too low, only 0.5. With these accuracy scores and the different behaviors of the two models discussed above, we can conclude that using these models' prediction are not better than blind guess. The data collected is not enough to predict the victim's race."
      ]
    }
  ]
}