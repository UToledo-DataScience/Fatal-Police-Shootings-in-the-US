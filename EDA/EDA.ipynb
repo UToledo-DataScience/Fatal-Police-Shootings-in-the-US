{
  "nbformat": 4,
  "nbformat_minor": 0,
  "metadata": {
    "colab": {
      "name": "EDA.ipynb",
      "provenance": []
    },
    "kernelspec": {
      "name": "python3",
      "display_name": "Python 3"
    }
  },
  "cells": [
    {
      "cell_type": "code",
      "metadata": {
        "_uuid": "8f2839f25d086af736a60e9eeb907d3b93b6e0e5",
        "_cell_guid": "b1076dfc-b9ad-4769-8c92-a6c4dae69d19",
        "trusted": true,
        "id": "StplvPDsqrJF",
        "colab_type": "code",
        "colab": {}
      },
      "source": [
        "import numpy as np\n",
        "import pandas as pd\n",
        "import matplotlib.pyplot as plt\n",
        "%matplotlib inline\n",
        "import seaborn as sns\n",
        "from IPython.core.interactiveshell import InteractiveShell\n",
        "InteractiveShell.ast_node_interactivity = \"all\""
      ],
      "execution_count": 36,
      "outputs": []
    },
    {
      "cell_type": "code",
      "metadata": {
        "id": "Fcx3ksfz59uJ",
        "colab_type": "code",
        "colab": {}
      },
      "source": [
        "median_household_income = pd.read_csv('/content/drive/My Drive/data/cleaned-data/cleaned-MedianHouseholdIncome2015.csv', encoding=\"windows-1252\")\n",
        "over_25_completed_hs = pd.read_csv('/content/drive/My Drive/data/cleaned-data/cleaned-PercentOver25CompletedHighSchool.csv', encoding=\"windows-1252\")\n",
        "people_below_poverty = pd.read_csv('/content/drive/My Drive/data/cleaned-data/cleaned-PercentagePeopleBelowPoverty.csv', encoding=\"windows-1252\")\n",
        "race_by_city = pd.read_csv('/content/drive/My Drive/data/cleaned-data/cleaned-ShareRaceByCity.csv', encoding=\"windows-1252\")\n",
        "police_killing_US = pd.read_csv('/content/drive/My Drive/data/cleaned-data/cleaned-PoliceKillingsUS.csv', encoding=\"windows-1252\")\n",
        "demographic = pd.read_csv('/content/drive/My Drive/data/cleaned-data/demographic.csv', encoding=\"windows-1252\")\n",
        "combined = pd.read_csv('/content/drive/My Drive/data/cleaned-data/combined.csv', encoding=\"windows-1252\")\n",
        "police_killing_us = pd.read_csv('/content/drive/My Drive/data/cleaned-data/police_killing_us.csv', encoding=\"windows-1252\")"
      ],
      "execution_count": 43,
      "outputs": []
    },
    {
      "cell_type": "code",
      "metadata": {
        "id": "Tx7ApK2cGGIK",
        "colab_type": "code",
        "colab": {
          "base_uri": "https://localhost:8080/",
          "height": 306
        },
        "outputId": "9730fdfb-d520-4445-cdfd-355feb7f9b2b"
      },
      "source": [
        "demographic.info()"
      ],
      "execution_count": 20,
      "outputs": [
        {
          "output_type": "stream",
          "text": [
            "<class 'pandas.core.frame.DataFrame'>\n",
            "RangeIndex: 29132 entries, 0 to 29131\n",
            "Data columns (total 10 columns):\n",
            " #   Column                 Non-Null Count  Dtype  \n",
            "---  ------                 --------------  -----  \n",
            " 0   state                  29132 non-null  object \n",
            " 1   city                   29132 non-null  object \n",
            " 2   percent_completed_hs   29132 non-null  float64\n",
            " 3   poverty_rate           29125 non-null  float64\n",
            " 4   Median Income          27383 non-null  float64\n",
            " 5   share_white            28930 non-null  float64\n",
            " 6   share_black            28930 non-null  float64\n",
            " 7   share_native_american  28930 non-null  float64\n",
            " 8   share_asian            28930 non-null  float64\n",
            " 9   share_hispanic         28930 non-null  float64\n",
            "dtypes: float64(8), object(2)\n",
            "memory usage: 2.2+ MB\n"
          ],
          "name": "stdout"
        }
      ]
    },
    {
      "cell_type": "code",
      "metadata": {
        "id": "AC169DJmGceV",
        "colab_type": "code",
        "colab": {
          "base_uri": "https://localhost:8080/",
          "height": 297
        },
        "outputId": "1465e194-9c0b-4f32-c799-1bbeab0e02f0"
      },
      "source": [
        "demographic.describe()"
      ],
      "execution_count": 21,
      "outputs": [
        {
          "output_type": "execute_result",
          "data": {
            "text/html": [
              "<div>\n",
              "<style scoped>\n",
              "    .dataframe tbody tr th:only-of-type {\n",
              "        vertical-align: middle;\n",
              "    }\n",
              "\n",
              "    .dataframe tbody tr th {\n",
              "        vertical-align: top;\n",
              "    }\n",
              "\n",
              "    .dataframe thead th {\n",
              "        text-align: right;\n",
              "    }\n",
              "</style>\n",
              "<table border=\"1\" class=\"dataframe\">\n",
              "  <thead>\n",
              "    <tr style=\"text-align: right;\">\n",
              "      <th></th>\n",
              "      <th>percent_completed_hs</th>\n",
              "      <th>poverty_rate</th>\n",
              "      <th>Median Income</th>\n",
              "      <th>share_white</th>\n",
              "      <th>share_black</th>\n",
              "      <th>share_native_american</th>\n",
              "      <th>share_asian</th>\n",
              "      <th>share_hispanic</th>\n",
              "    </tr>\n",
              "  </thead>\n",
              "  <tbody>\n",
              "    <tr>\n",
              "      <th>count</th>\n",
              "      <td>29132.000000</td>\n",
              "      <td>29125.000000</td>\n",
              "      <td>27383.000000</td>\n",
              "      <td>28930.000000</td>\n",
              "      <td>28930.000000</td>\n",
              "      <td>28930.000000</td>\n",
              "      <td>28930.000000</td>\n",
              "      <td>28930.000000</td>\n",
              "    </tr>\n",
              "    <tr>\n",
              "      <th>mean</th>\n",
              "      <td>85.733805</td>\n",
              "      <td>16.444045</td>\n",
              "      <td>51177.670672</td>\n",
              "      <td>83.190149</td>\n",
              "      <td>6.882655</td>\n",
              "      <td>2.856685</td>\n",
              "      <td>1.547159</td>\n",
              "      <td>9.203426</td>\n",
              "    </tr>\n",
              "    <tr>\n",
              "      <th>std</th>\n",
              "      <td>11.875153</td>\n",
              "      <td>13.176623</td>\n",
              "      <td>24887.873873</td>\n",
              "      <td>21.649996</td>\n",
              "      <td>15.673815</td>\n",
              "      <td>12.627056</td>\n",
              "      <td>4.293338</td>\n",
              "      <td>17.269697</td>\n",
              "    </tr>\n",
              "    <tr>\n",
              "      <th>min</th>\n",
              "      <td>0.000000</td>\n",
              "      <td>0.000000</td>\n",
              "      <td>4511.000000</td>\n",
              "      <td>0.000000</td>\n",
              "      <td>0.000000</td>\n",
              "      <td>0.000000</td>\n",
              "      <td>0.000000</td>\n",
              "      <td>0.000000</td>\n",
              "    </tr>\n",
              "    <tr>\n",
              "      <th>25%</th>\n",
              "      <td>81.000000</td>\n",
              "      <td>7.100000</td>\n",
              "      <td>35625.000000</td>\n",
              "      <td>78.500000</td>\n",
              "      <td>0.100000</td>\n",
              "      <td>0.100000</td>\n",
              "      <td>0.000000</td>\n",
              "      <td>1.200000</td>\n",
              "    </tr>\n",
              "    <tr>\n",
              "      <th>50%</th>\n",
              "      <td>88.400000</td>\n",
              "      <td>13.700000</td>\n",
              "      <td>45305.000000</td>\n",
              "      <td>92.500000</td>\n",
              "      <td>0.800000</td>\n",
              "      <td>0.300000</td>\n",
              "      <td>0.400000</td>\n",
              "      <td>2.900000</td>\n",
              "    </tr>\n",
              "    <tr>\n",
              "      <th>75%</th>\n",
              "      <td>93.500000</td>\n",
              "      <td>22.500000</td>\n",
              "      <td>59482.000000</td>\n",
              "      <td>96.900000</td>\n",
              "      <td>4.300000</td>\n",
              "      <td>0.900000</td>\n",
              "      <td>1.200000</td>\n",
              "      <td>8.000000</td>\n",
              "    </tr>\n",
              "    <tr>\n",
              "      <th>max</th>\n",
              "      <td>100.000000</td>\n",
              "      <td>100.000000</td>\n",
              "      <td>244083.000000</td>\n",
              "      <td>100.000000</td>\n",
              "      <td>100.000000</td>\n",
              "      <td>100.000000</td>\n",
              "      <td>67.100000</td>\n",
              "      <td>100.000000</td>\n",
              "    </tr>\n",
              "  </tbody>\n",
              "</table>\n",
              "</div>"
            ],
            "text/plain": [
              "       percent_completed_hs  poverty_rate  ...   share_asian  share_hispanic\n",
              "count          29132.000000  29125.000000  ...  28930.000000    28930.000000\n",
              "mean              85.733805     16.444045  ...      1.547159        9.203426\n",
              "std               11.875153     13.176623  ...      4.293338       17.269697\n",
              "min                0.000000      0.000000  ...      0.000000        0.000000\n",
              "25%               81.000000      7.100000  ...      0.000000        1.200000\n",
              "50%               88.400000     13.700000  ...      0.400000        2.900000\n",
              "75%               93.500000     22.500000  ...      1.200000        8.000000\n",
              "max              100.000000    100.000000  ...     67.100000      100.000000\n",
              "\n",
              "[8 rows x 8 columns]"
            ]
          },
          "metadata": {
            "tags": []
          },
          "execution_count": 21
        }
      ]
    },
    {
      "cell_type": "markdown",
      "metadata": {
        "id": "l8mCqYU7KOgC",
        "colab_type": "text"
      },
      "source": [
        "\n",
        "\n",
        "*   85.7% of people over 25 completed high school\n",
        "*   Average median income is 51177\n",
        "*   16.4% of people are in poverty\n"
      ]
    },
    {
      "cell_type": "code",
      "metadata": {
        "id": "VjJO9wTofHUo",
        "colab_type": "code",
        "colab": {
          "base_uri": "https://localhost:8080/",
          "height": 34
        },
        "outputId": "59556e49-4ccb-449a-88b1-49bef34ebf28"
      },
      "source": [
        "m_white = 83.190149\n",
        "m_black = 6.882655\n",
        "m_share_native_american = 2.856685\n",
        "m_share_asian = 1.547159\n",
        "m_share_hispanic = 9.203426\n",
        "m_white + m_black + m_share_native_american + m_share_asian + m_share_hispanic"
      ],
      "execution_count": 60,
      "outputs": [
        {
          "output_type": "execute_result",
          "data": {
            "text/plain": [
              "103.68007399999999"
            ]
          },
          "metadata": {
            "tags": []
          },
          "execution_count": 60
        }
      ]
    },
    {
      "cell_type": "code",
      "metadata": {
        "id": "cLpXgiPKNPsF",
        "colab_type": "code",
        "colab": {
          "base_uri": "https://localhost:8080/",
          "height": 348
        },
        "outputId": "fa8a1b2d-9bc2-41e2-e19a-26c49ab4c436"
      },
      "source": [
        "#demographic = demographic.dropna()\n",
        "fig, ax = plt.subplots(1,3,figsize=(20,5))\n",
        "sns.kdeplot(demographic['Median Income'], ax=ax[0])\n",
        "sns.kdeplot(demographic['poverty_rate'], ax=ax[1])\n",
        "sns.kdeplot(demographic['percent_completed_hs'], ax=ax[2])"
      ],
      "execution_count": 57,
      "outputs": [
        {
          "output_type": "execute_result",
          "data": {
            "text/plain": [
              "<matplotlib.axes._subplots.AxesSubplot at 0x7f5ef90767b8>"
            ]
          },
          "metadata": {
            "tags": []
          },
          "execution_count": 57
        },
        {
          "output_type": "execute_result",
          "data": {
            "text/plain": [
              "<matplotlib.axes._subplots.AxesSubplot at 0x7f5ef9034f28>"
            ]
          },
          "metadata": {
            "tags": []
          },
          "execution_count": 57
        },
        {
          "output_type": "execute_result",
          "data": {
            "text/plain": [
              "<matplotlib.axes._subplots.AxesSubplot at 0x7f5ef8feb2e8>"
            ]
          },
          "metadata": {
            "tags": []
          },
          "execution_count": 57
        },
        {
          "output_type": "display_data",
          "data": {
            "image/png": "[encoded data removed]",
            "text/plain": [
              "<Figure size 1440x360 with 3 Axes>"
            ]
          },
          "metadata": {
            "tags": [],
            "needs_background": "light"
          }
        }
      ]
    },
    {
      "cell_type": "code",
      "metadata": {
        "id": "2JoEZxufXJbR",
        "colab_type": "code",
        "colab": {
          "base_uri": "https://localhost:8080/",
          "height": 392
        },
        "outputId": "603b26c8-5e47-4cc4-dfd2-4a5e08f3e8ac"
      },
      "source": [
        "sns.heatmap(demographic.corr())"
      ],
      "execution_count": 58,
      "outputs": [
        {
          "output_type": "execute_result",
          "data": {
            "text/plain": [
              "<matplotlib.axes._subplots.AxesSubplot at 0x7f5ef8f39438>"
            ]
          },
          "metadata": {
            "tags": []
          },
          "execution_count": 58
        },
        {
          "output_type": "display_data",
          "data": {
            "image/png": "[encoded data removed]",
            "text/plain": [
              "<Figure size 432x288 with 2 Axes>"
            ]
          },
          "metadata": {
            "tags": [],
            "needs_background": "light"
          }
        }
      ]
    },
    {
      "cell_type": "code",
      "metadata": {
        "id": "a_0MpIqMjhB7",
        "colab_type": "code",
        "colab": {
          "base_uri": "https://localhost:8080/",
          "height": 476
        },
        "outputId": "f876bd8b-f4bf-47b3-a3f0-663ea4c76d16"
      },
      "source": [
        "police_killing_us.info()\n",
        "police_killing_us['date'].head()"
      ],
      "execution_count": 67,
      "outputs": [
        {
          "output_type": "stream",
          "text": [
            "<class 'pandas.core.frame.DataFrame'>\n",
            "RangeIndex: 2254 entries, 0 to 2253\n",
            "Data columns (total 14 columns):\n",
            " #   Column                   Non-Null Count  Dtype         \n",
            "---  ------                   --------------  -----         \n",
            " 0   id                       2254 non-null   int64         \n",
            " 1   name                     2254 non-null   object        \n",
            " 2   date                     2254 non-null   datetime64[ns]\n",
            " 3   manner_of_death          2254 non-null   object        \n",
            " 4   armed                    2254 non-null   object        \n",
            " 5   age                      2254 non-null   float64       \n",
            " 6   gender                   2254 non-null   object        \n",
            " 7   race                     2254 non-null   object        \n",
            " 8   city                     2254 non-null   object        \n",
            " 9   state                    2254 non-null   object        \n",
            " 10  signs_of_mental_illness  2254 non-null   bool          \n",
            " 11  threat_level             2254 non-null   object        \n",
            " 12  flee                     2254 non-null   object        \n",
            " 13  body_camera              2254 non-null   bool          \n",
            "dtypes: bool(2), datetime64[ns](1), float64(1), int64(1), object(9)\n",
            "memory usage: 215.8+ KB\n"
          ],
          "name": "stdout"
        },
        {
          "output_type": "execute_result",
          "data": {
            "text/plain": [
              "0   2015-01-02\n",
              "1   2015-01-02\n",
              "2   2015-01-03\n",
              "3   2015-01-04\n",
              "4   2015-01-04\n",
              "Name: date, dtype: datetime64[ns]"
            ]
          },
          "metadata": {
            "tags": []
          },
          "execution_count": 67
        }
      ]
    },
    {
      "cell_type": "code",
      "metadata": {
        "id": "cZHNeKIRkHxm",
        "colab_type": "code",
        "colab": {}
      },
      "source": [
        "police_killing_us['date'] = pd.to_datetime(police_killing_us['date'], format='%d/%m/%y')\n"
      ],
      "execution_count": 66,
      "outputs": []
    }
  ]
}