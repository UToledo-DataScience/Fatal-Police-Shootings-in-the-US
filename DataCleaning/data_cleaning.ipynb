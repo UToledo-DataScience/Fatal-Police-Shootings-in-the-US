{
  "nbformat": 4,
  "nbformat_minor": 0,
  "metadata": {
    "kernelspec": {
      "name": "python3",
      "display_name": "Python 3",
      "language": "python"
    },
    "language_info": {
      "name": "python",
      "version": "3.7.6",
      "mimetype": "text/x-python",
      "codemirror_mode": {
        "name": "ipython",
        "version": 3
      },
      "pygments_lexer": "ipython3",
      "nbconvert_exporter": "python",
      "file_extension": ".py"
    },
    "colab": {
      "name": "data_cleaning.ipynb",
      "provenance": [],
      "toc_visible": true
    }
  },
  "cells": [
    {
      "cell_type": "code",
      "metadata": {
        "_uuid": "8f2839f25d086af736a60e9eeb907d3b93b6e0e5",
        "_cell_guid": "b1076dfc-b9ad-4769-8c92-a6c4dae69d19",
        "trusted": true,
        "id": "StplvPDsqrJF",
        "colab_type": "code",
        "colab": {}
      },
      "source": [
        "import numpy as np\n",
        "import pandas as pd\n",
        "import matplotlib.pyplot as plt\n",
        "import seaborn as sns\n",
        "from IPython.core.interactiveshell import InteractiveShell\n",
        "InteractiveShell.ast_node_interactivity = \"all\""
      ],
      "execution_count": 0,
      "outputs": []
    },
    {
      "cell_type": "markdown",
      "metadata": {
        "id": "Bq4LEU1EqrJQ",
        "colab_type": "text"
      },
      "source": [
        "# **Percent Over 25 Completed High School**"
      ]
    },
    {
      "cell_type": "code",
      "metadata": {
        "trusted": true,
        "id": "LPw5g8VnqrJR",
        "colab_type": "code",
        "colab": {
          "base_uri": "https://localhost:8080/",
          "height": 530
        },
        "outputId": "750b526d-faa2-4318-b1de-c587bd2971bc"
      },
      "source": [
        "over_25_completed_hs = pd.read_csv('/content/drive/My Drive/data/fatal-police-shootings-in-the-us/PercentOver25CompletedHighSchool.csv', encoding=\"windows-1252\")\n",
        "over_25_completed_hs.info()\n",
        "over_25_completed_hs.head()\n",
        "over_25_completed_hs.describe()"
      ],
      "execution_count": 39,
      "outputs": [
        {
          "output_type": "stream",
          "text": [
            "<class 'pandas.core.frame.DataFrame'>\n",
            "RangeIndex: 29329 entries, 0 to 29328\n",
            "Data columns (total 3 columns):\n",
            " #   Column                Non-Null Count  Dtype \n",
            "---  ------                --------------  ----- \n",
            " 0   Geographic Area       29329 non-null  object\n",
            " 1   City                  29329 non-null  object\n",
            " 2   percent_completed_hs  29329 non-null  object\n",
            "dtypes: object(3)\n",
            "memory usage: 687.5+ KB\n"
          ],
          "name": "stdout"
        },
        {
          "output_type": "execute_result",
          "data": {
            "text/html": [
              "<div>\n",
              "<style scoped>\n",
              "    .dataframe tbody tr th:only-of-type {\n",
              "        vertical-align: middle;\n",
              "    }\n",
              "\n",
              "    .dataframe tbody tr th {\n",
              "        vertical-align: top;\n",
              "    }\n",
              "\n",
              "    .dataframe thead th {\n",
              "        text-align: right;\n",
              "    }\n",
              "</style>\n",
              "<table border=\"1\" class=\"dataframe\">\n",
              "  <thead>\n",
              "    <tr style=\"text-align: right;\">\n",
              "      <th></th>\n",
              "      <th>Geographic Area</th>\n",
              "      <th>City</th>\n",
              "      <th>percent_completed_hs</th>\n",
              "    </tr>\n",
              "  </thead>\n",
              "  <tbody>\n",
              "    <tr>\n",
              "      <th>0</th>\n",
              "      <td>AL</td>\n",
              "      <td>Abanda CDP</td>\n",
              "      <td>21.2</td>\n",
              "    </tr>\n",
              "    <tr>\n",
              "      <th>1</th>\n",
              "      <td>AL</td>\n",
              "      <td>Abbeville city</td>\n",
              "      <td>69.1</td>\n",
              "    </tr>\n",
              "    <tr>\n",
              "      <th>2</th>\n",
              "      <td>AL</td>\n",
              "      <td>Adamsville city</td>\n",
              "      <td>78.9</td>\n",
              "    </tr>\n",
              "    <tr>\n",
              "      <th>3</th>\n",
              "      <td>AL</td>\n",
              "      <td>Addison town</td>\n",
              "      <td>81.4</td>\n",
              "    </tr>\n",
              "    <tr>\n",
              "      <th>4</th>\n",
              "      <td>AL</td>\n",
              "      <td>Akron town</td>\n",
              "      <td>68.6</td>\n",
              "    </tr>\n",
              "  </tbody>\n",
              "</table>\n",
              "</div>"
            ],
            "text/plain": [
              "  Geographic Area             City percent_completed_hs\n",
              "0              AL       Abanda CDP                 21.2\n",
              "1              AL   Abbeville city                 69.1\n",
              "2              AL  Adamsville city                 78.9\n",
              "3              AL     Addison town                 81.4\n",
              "4              AL       Akron town                 68.6"
            ]
          },
          "metadata": {
            "tags": []
          },
          "execution_count": 39
        },
        {
          "output_type": "execute_result",
          "data": {
            "text/html": [
              "<div>\n",
              "<style scoped>\n",
              "    .dataframe tbody tr th:only-of-type {\n",
              "        vertical-align: middle;\n",
              "    }\n",
              "\n",
              "    .dataframe tbody tr th {\n",
              "        vertical-align: top;\n",
              "    }\n",
              "\n",
              "    .dataframe thead th {\n",
              "        text-align: right;\n",
              "    }\n",
              "</style>\n",
              "<table border=\"1\" class=\"dataframe\">\n",
              "  <thead>\n",
              "    <tr style=\"text-align: right;\">\n",
              "      <th></th>\n",
              "      <th>Geographic Area</th>\n",
              "      <th>City</th>\n",
              "      <th>percent_completed_hs</th>\n",
              "    </tr>\n",
              "  </thead>\n",
              "  <tbody>\n",
              "    <tr>\n",
              "      <th>count</th>\n",
              "      <td>29329</td>\n",
              "      <td>29329</td>\n",
              "      <td>29329</td>\n",
              "    </tr>\n",
              "    <tr>\n",
              "      <th>unique</th>\n",
              "      <td>51</td>\n",
              "      <td>24255</td>\n",
              "      <td>728</td>\n",
              "    </tr>\n",
              "    <tr>\n",
              "      <th>top</th>\n",
              "      <td>PA</td>\n",
              "      <td>Franklin city</td>\n",
              "      <td>100</td>\n",
              "    </tr>\n",
              "    <tr>\n",
              "      <th>freq</th>\n",
              "      <td>1762</td>\n",
              "      <td>16</td>\n",
              "      <td>1301</td>\n",
              "    </tr>\n",
              "  </tbody>\n",
              "</table>\n",
              "</div>"
            ],
            "text/plain": [
              "       Geographic Area           City percent_completed_hs\n",
              "count            29329          29329                29329\n",
              "unique              51          24255                  728\n",
              "top                 PA  Franklin city                  100\n",
              "freq              1762             16                 1301"
            ]
          },
          "metadata": {
            "tags": []
          },
          "execution_count": 39
        }
      ]
    },
    {
      "cell_type": "markdown",
      "metadata": {
        "id": "u9j2oP1FqrJW",
        "colab_type": "text"
      },
      "source": [
        "1. percent_completed_hs will need to be converted to numeric values\n",
        "2. since the missing entries are minor compared to the total size of the dataset, we are just going to drop them**"
      ]
    },
    {
      "cell_type": "code",
      "metadata": {
        "trusted": true,
        "id": "JyB2nebhqrJX",
        "colab_type": "code",
        "colab": {
          "base_uri": "https://localhost:8080/",
          "height": 68
        },
        "outputId": "a6115a48-e32f-4291-c364-3d8e24872c70"
      },
      "source": [
        "print('Before: {} entries'.format(len(over_25_completed_hs)))\n",
        "print('Entries with missing values: {}'.format(len(over_25_completed_hs[over_25_completed_hs['percent_completed_hs'] == '-'])))\n",
        "\n",
        "# dropping rows with missing percent_completed_hs\n",
        "over_25_completed_hs = over_25_completed_hs[over_25_completed_hs['percent_completed_hs'] != '-']\n",
        "over_25_completed_hs['percent_completed_hs'] = over_25_completed_hs['percent_completed_hs'].astype('float64')\n",
        "print('After: {} entries'.format(len(over_25_completed_hs)))\n",
        "over_25_completed_hs.to_csv('/content/data/cleaned-data/cleaned-PercentOver25CompletedHighSchool.csv')"
      ],
      "execution_count": 26,
      "outputs": [
        {
          "output_type": "stream",
          "text": [
            "Before: 29329 entries\n",
            "Entries with missing values: 197\n",
            "After: 29132 entries\n"
          ],
          "name": "stdout"
        }
      ]
    },
    {
      "cell_type": "markdown",
      "metadata": {
        "id": "15ffrgPJqrJc",
        "colab_type": "text"
      },
      "source": [
        "# **Percentage People Below Poverty Level**"
      ]
    },
    {
      "cell_type": "code",
      "metadata": {
        "trusted": true,
        "id": "w7JS5ZUWqrJg",
        "colab_type": "code",
        "colab": {
          "base_uri": "https://localhost:8080/",
          "height": 530
        },
        "outputId": "a581a40d-7b3b-433f-9bf5-b034c91d90bd"
      },
      "source": [
        "people_below_poverty = pd.read_csv('/content/drive/My Drive/data/fatal-police-shootings-in-the-us/PercentagePeopleBelowPovertyLevel.csv', encoding=\"windows-1252\")\n",
        "people_below_poverty.info()\n",
        "people_below_poverty.head()\n",
        "people_below_poverty.describe()"
      ],
      "execution_count": 40,
      "outputs": [
        {
          "output_type": "stream",
          "text": [
            "<class 'pandas.core.frame.DataFrame'>\n",
            "RangeIndex: 29329 entries, 0 to 29328\n",
            "Data columns (total 3 columns):\n",
            " #   Column           Non-Null Count  Dtype \n",
            "---  ------           --------------  ----- \n",
            " 0   Geographic Area  29329 non-null  object\n",
            " 1   City             29329 non-null  object\n",
            " 2   poverty_rate     29329 non-null  object\n",
            "dtypes: object(3)\n",
            "memory usage: 687.5+ KB\n"
          ],
          "name": "stdout"
        },
        {
          "output_type": "execute_result",
          "data": {
            "text/html": [
              "<div>\n",
              "<style scoped>\n",
              "    .dataframe tbody tr th:only-of-type {\n",
              "        vertical-align: middle;\n",
              "    }\n",
              "\n",
              "    .dataframe tbody tr th {\n",
              "        vertical-align: top;\n",
              "    }\n",
              "\n",
              "    .dataframe thead th {\n",
              "        text-align: right;\n",
              "    }\n",
              "</style>\n",
              "<table border=\"1\" class=\"dataframe\">\n",
              "  <thead>\n",
              "    <tr style=\"text-align: right;\">\n",
              "      <th></th>\n",
              "      <th>Geographic Area</th>\n",
              "      <th>City</th>\n",
              "      <th>poverty_rate</th>\n",
              "    </tr>\n",
              "  </thead>\n",
              "  <tbody>\n",
              "    <tr>\n",
              "      <th>0</th>\n",
              "      <td>AL</td>\n",
              "      <td>Abanda CDP</td>\n",
              "      <td>78.8</td>\n",
              "    </tr>\n",
              "    <tr>\n",
              "      <th>1</th>\n",
              "      <td>AL</td>\n",
              "      <td>Abbeville city</td>\n",
              "      <td>29.1</td>\n",
              "    </tr>\n",
              "    <tr>\n",
              "      <th>2</th>\n",
              "      <td>AL</td>\n",
              "      <td>Adamsville city</td>\n",
              "      <td>25.5</td>\n",
              "    </tr>\n",
              "    <tr>\n",
              "      <th>3</th>\n",
              "      <td>AL</td>\n",
              "      <td>Addison town</td>\n",
              "      <td>30.7</td>\n",
              "    </tr>\n",
              "    <tr>\n",
              "      <th>4</th>\n",
              "      <td>AL</td>\n",
              "      <td>Akron town</td>\n",
              "      <td>42</td>\n",
              "    </tr>\n",
              "  </tbody>\n",
              "</table>\n",
              "</div>"
            ],
            "text/plain": [
              "  Geographic Area             City poverty_rate\n",
              "0              AL       Abanda CDP         78.8\n",
              "1              AL   Abbeville city         29.1\n",
              "2              AL  Adamsville city         25.5\n",
              "3              AL     Addison town         30.7\n",
              "4              AL       Akron town           42"
            ]
          },
          "metadata": {
            "tags": []
          },
          "execution_count": 40
        },
        {
          "output_type": "execute_result",
          "data": {
            "text/html": [
              "<div>\n",
              "<style scoped>\n",
              "    .dataframe tbody tr th:only-of-type {\n",
              "        vertical-align: middle;\n",
              "    }\n",
              "\n",
              "    .dataframe tbody tr th {\n",
              "        vertical-align: top;\n",
              "    }\n",
              "\n",
              "    .dataframe thead th {\n",
              "        text-align: right;\n",
              "    }\n",
              "</style>\n",
              "<table border=\"1\" class=\"dataframe\">\n",
              "  <thead>\n",
              "    <tr style=\"text-align: right;\">\n",
              "      <th></th>\n",
              "      <th>Geographic Area</th>\n",
              "      <th>City</th>\n",
              "      <th>poverty_rate</th>\n",
              "    </tr>\n",
              "  </thead>\n",
              "  <tbody>\n",
              "    <tr>\n",
              "      <th>count</th>\n",
              "      <td>29329</td>\n",
              "      <td>29329</td>\n",
              "      <td>29329</td>\n",
              "    </tr>\n",
              "    <tr>\n",
              "      <th>unique</th>\n",
              "      <td>51</td>\n",
              "      <td>24255</td>\n",
              "      <td>771</td>\n",
              "    </tr>\n",
              "    <tr>\n",
              "      <th>top</th>\n",
              "      <td>PA</td>\n",
              "      <td>Franklin city</td>\n",
              "      <td>0</td>\n",
              "    </tr>\n",
              "    <tr>\n",
              "      <th>freq</th>\n",
              "      <td>1762</td>\n",
              "      <td>16</td>\n",
              "      <td>1464</td>\n",
              "    </tr>\n",
              "  </tbody>\n",
              "</table>\n",
              "</div>"
            ],
            "text/plain": [
              "       Geographic Area           City poverty_rate\n",
              "count            29329          29329        29329\n",
              "unique              51          24255          771\n",
              "top                 PA  Franklin city            0\n",
              "freq              1762             16         1464"
            ]
          },
          "metadata": {
            "tags": []
          },
          "execution_count": 40
        }
      ]
    },
    {
      "cell_type": "markdown",
      "metadata": {
        "colab_type": "text",
        "id": "CB__s8slupcm"
      },
      "source": [
        "1. poverty_rate will need to be converted to numeric values\n",
        "2. since the missing entries are minor compared to the total size of the dataset, we are just going to drop them"
      ]
    },
    {
      "cell_type": "code",
      "metadata": {
        "trusted": true,
        "id": "OwyVeoQzqrJc",
        "colab_type": "code",
        "colab": {
          "base_uri": "https://localhost:8080/",
          "height": 170
        },
        "outputId": "6a446632-3678-442e-e78e-4412e815e00a"
      },
      "source": [
        "print('Before: {} entries'.format(len(people_below_poverty)))\n",
        "print('Entries with missing values: {}'.format(len(people_below_poverty[people_below_poverty['poverty_rate'] == '-'])))\n",
        "people_below_poverty = people_below_poverty[people_below_poverty['poverty_rate'] != '-']\n",
        "people_below_poverty['poverty_rate'] = people_below_poverty['poverty_rate'].astype('float64')\n",
        "print('After: {} entries'.format(len(people_below_poverty)))\n",
        "people_below_poverty.to_csv('/content/data/cleaned-data/cleaned-PercentagePeopleBelowPoverty.csv')"
      ],
      "execution_count": 30,
      "outputs": [
        {
          "output_type": "stream",
          "text": [
            "Before: 29329 entries\n",
            "Entries with missing values: 201\n",
            "After: 29128 entries\n"
          ],
          "name": "stdout"
        },
        {
          "output_type": "stream",
          "text": [
            "/usr/local/lib/python3.6/dist-packages/ipykernel_launcher.py:4: SettingWithCopyWarning: \n",
            "A value is trying to be set on a copy of a slice from a DataFrame.\n",
            "Try using .loc[row_indexer,col_indexer] = value instead\n",
            "\n",
            "See the caveats in the documentation: https://pandas.pydata.org/pandas-docs/stable/user_guide/indexing.html#returning-a-view-versus-a-copy\n",
            "  after removing the cwd from sys.path.\n"
          ],
          "name": "stderr"
        }
      ]
    },
    {
      "cell_type": "markdown",
      "metadata": {
        "id": "ymhVCl-GqrJl",
        "colab_type": "text"
      },
      "source": [
        "# **Median Household Income 2015**"
      ]
    },
    {
      "cell_type": "code",
      "metadata": {
        "trusted": true,
        "id": "OfxYwd1KqrJr",
        "colab_type": "code",
        "colab": {
          "base_uri": "https://localhost:8080/",
          "height": 530
        },
        "outputId": "b261d0fe-1c42-41c5-ca74-ad2e27fdae3e"
      },
      "source": [
        "median_household_income = pd.read_csv('/content/drive/My Drive/data/fatal-police-shootings-in-the-us/MedianHouseholdIncome2015.csv', encoding=\"windows-1252\")\n",
        "median_household_income.info()\n",
        "median_household_income.head()\n",
        "median_household_income.describe()"
      ],
      "execution_count": 55,
      "outputs": [
        {
          "output_type": "stream",
          "text": [
            "<class 'pandas.core.frame.DataFrame'>\n",
            "RangeIndex: 29322 entries, 0 to 29321\n",
            "Data columns (total 3 columns):\n",
            " #   Column           Non-Null Count  Dtype \n",
            "---  ------           --------------  ----- \n",
            " 0   Geographic Area  29322 non-null  object\n",
            " 1   City             29322 non-null  object\n",
            " 2   Median Income    29271 non-null  object\n",
            "dtypes: object(3)\n",
            "memory usage: 687.4+ KB\n"
          ],
          "name": "stdout"
        },
        {
          "output_type": "execute_result",
          "data": {
            "text/html": [
              "<div>\n",
              "<style scoped>\n",
              "    .dataframe tbody tr th:only-of-type {\n",
              "        vertical-align: middle;\n",
              "    }\n",
              "\n",
              "    .dataframe tbody tr th {\n",
              "        vertical-align: top;\n",
              "    }\n",
              "\n",
              "    .dataframe thead th {\n",
              "        text-align: right;\n",
              "    }\n",
              "</style>\n",
              "<table border=\"1\" class=\"dataframe\">\n",
              "  <thead>\n",
              "    <tr style=\"text-align: right;\">\n",
              "      <th></th>\n",
              "      <th>Geographic Area</th>\n",
              "      <th>City</th>\n",
              "      <th>Median Income</th>\n",
              "    </tr>\n",
              "  </thead>\n",
              "  <tbody>\n",
              "    <tr>\n",
              "      <th>0</th>\n",
              "      <td>AL</td>\n",
              "      <td>Abanda CDP</td>\n",
              "      <td>11207</td>\n",
              "    </tr>\n",
              "    <tr>\n",
              "      <th>1</th>\n",
              "      <td>AL</td>\n",
              "      <td>Abbeville city</td>\n",
              "      <td>25615</td>\n",
              "    </tr>\n",
              "    <tr>\n",
              "      <th>2</th>\n",
              "      <td>AL</td>\n",
              "      <td>Adamsville city</td>\n",
              "      <td>42575</td>\n",
              "    </tr>\n",
              "    <tr>\n",
              "      <th>3</th>\n",
              "      <td>AL</td>\n",
              "      <td>Addison town</td>\n",
              "      <td>37083</td>\n",
              "    </tr>\n",
              "    <tr>\n",
              "      <th>4</th>\n",
              "      <td>AL</td>\n",
              "      <td>Akron town</td>\n",
              "      <td>21667</td>\n",
              "    </tr>\n",
              "  </tbody>\n",
              "</table>\n",
              "</div>"
            ],
            "text/plain": [
              "  Geographic Area             City Median Income\n",
              "0              AL       Abanda CDP         11207\n",
              "1              AL   Abbeville city         25615\n",
              "2              AL  Adamsville city         42575\n",
              "3              AL     Addison town         37083\n",
              "4              AL       Akron town         21667"
            ]
          },
          "metadata": {
            "tags": []
          },
          "execution_count": 55
        },
        {
          "output_type": "execute_result",
          "data": {
            "text/html": [
              "<div>\n",
              "<style scoped>\n",
              "    .dataframe tbody tr th:only-of-type {\n",
              "        vertical-align: middle;\n",
              "    }\n",
              "\n",
              "    .dataframe tbody tr th {\n",
              "        vertical-align: top;\n",
              "    }\n",
              "\n",
              "    .dataframe thead th {\n",
              "        text-align: right;\n",
              "    }\n",
              "</style>\n",
              "<table border=\"1\" class=\"dataframe\">\n",
              "  <thead>\n",
              "    <tr style=\"text-align: right;\">\n",
              "      <th></th>\n",
              "      <th>Geographic Area</th>\n",
              "      <th>City</th>\n",
              "      <th>Median Income</th>\n",
              "    </tr>\n",
              "  </thead>\n",
              "  <tbody>\n",
              "    <tr>\n",
              "      <th>count</th>\n",
              "      <td>29322</td>\n",
              "      <td>29322</td>\n",
              "      <td>29271</td>\n",
              "    </tr>\n",
              "    <tr>\n",
              "      <th>unique</th>\n",
              "      <td>51</td>\n",
              "      <td>24249</td>\n",
              "      <td>14592</td>\n",
              "    </tr>\n",
              "    <tr>\n",
              "      <th>top</th>\n",
              "      <td>PA</td>\n",
              "      <td>Franklin city</td>\n",
              "      <td>(X)</td>\n",
              "    </tr>\n",
              "    <tr>\n",
              "      <th>freq</th>\n",
              "      <td>1762</td>\n",
              "      <td>16</td>\n",
              "      <td>1113</td>\n",
              "    </tr>\n",
              "  </tbody>\n",
              "</table>\n",
              "</div>"
            ],
            "text/plain": [
              "       Geographic Area           City Median Income\n",
              "count            29322          29322         29271\n",
              "unique              51          24249         14592\n",
              "top                 PA  Franklin city           (X)\n",
              "freq              1762             16          1113"
            ]
          },
          "metadata": {
            "tags": []
          },
          "execution_count": 55
        }
      ]
    },
    {
      "cell_type": "markdown",
      "metadata": {
        "id": "Rf23qX06xfuo",
        "colab_type": "text"
      },
      "source": [
        "\n",
        "\n",
        "1.   '(X)', '-', and na will need to be removed\n",
        "2.   median income will be converted to numeric values\n",
        "3.   values 250000+ and 2500- are safe to drop since they are just outliers and causes issues with manipulating data.\n",
        "\n"
      ]
    },
    {
      "cell_type": "code",
      "metadata": {
        "trusted": true,
        "id": "oYgE-CyBqrJm",
        "colab_type": "code",
        "colab": {
          "base_uri": "https://localhost:8080/",
          "height": 68
        },
        "outputId": "1ee8e26b-328a-408e-8244-8b35ccaa26bd"
      },
      "source": [
        "print('Cleaning data...')\n",
        "print('Before: {} entries'.format(len(median_household_income)))\n",
        "median_household_income = median_household_income[median_household_income['Median Income'] != '(X)']\n",
        "median_household_income = median_household_income[median_household_income['Median Income'] != '-']\n",
        "median_household_income = median_household_income[median_household_income['Median Income'].notna()]\n",
        "\n",
        "# drop 250000+ and 2500-\n",
        "median_household_income = median_household_income[~median_household_income['Median Income'].str.contains('-')]\n",
        "median_household_income = median_household_income[~median_household_income['Median Income'].str.contains('+', regex=False)]\n",
        "\n",
        "median_household_income['Median Income'] = median_household_income['Median Income'].astype('float64')\n",
        "print('After: {} entries'.format(len(median_household_income)))\n",
        "median_household_income.to_csv('/content/drive/My Drive/data/cleaned-data/cleaned-MedianHouseholdIncome2015.csv')"
      ],
      "execution_count": 56,
      "outputs": [
        {
          "output_type": "stream",
          "text": [
            "Cleaning data...\n",
            "Before: 29322 entries\n",
            "After: 27385 entries\n"
          ],
          "name": "stdout"
        }
      ]
    },
    {
      "cell_type": "markdown",
      "metadata": {
        "id": "Lp1vYujbqrJx",
        "colab_type": "text"
      },
      "source": [
        "# **Share Race By City**"
      ]
    },
    {
      "cell_type": "code",
      "metadata": {
        "trusted": true,
        "id": "lKKVAPnVqrJy",
        "colab_type": "code",
        "colab": {
          "base_uri": "https://localhost:8080/",
          "height": 754
        },
        "outputId": "3b28f3a7-1b93-40c8-cb3c-b11bebfa0e93"
      },
      "source": [
        "share_race_by_city = pd.read_csv('/content/drive/My Drive/data/fatal-police-shootings-in-the-us/ShareRaceByCity.csv', encoding=\"windows-1252\")\n",
        "share_race_by_city.info()\n",
        "share_race_by_city.head()\n",
        "share_race_by_city.describe()"
      ],
      "execution_count": 41,
      "outputs": [
        {
          "output_type": "stream",
          "text": [
            "<class 'pandas.core.frame.DataFrame'>\n",
            "RangeIndex: 29268 entries, 0 to 29267\n",
            "Data columns (total 7 columns):\n",
            " #   Column                 Non-Null Count  Dtype \n",
            "---  ------                 --------------  ----- \n",
            " 0   Geographic area        29268 non-null  object\n",
            " 1   City                   29268 non-null  object\n",
            " 2   share_white            29268 non-null  object\n",
            " 3   share_black            29268 non-null  object\n",
            " 4   share_native_american  29268 non-null  object\n",
            " 5   share_asian            29268 non-null  object\n",
            " 6   share_hispanic         29268 non-null  object\n",
            "dtypes: object(7)\n",
            "memory usage: 1.6+ MB\n"
          ],
          "name": "stdout"
        },
        {
          "output_type": "execute_result",
          "data": {
            "text/html": [
              "<div>\n",
              "<style scoped>\n",
              "    .dataframe tbody tr th:only-of-type {\n",
              "        vertical-align: middle;\n",
              "    }\n",
              "\n",
              "    .dataframe tbody tr th {\n",
              "        vertical-align: top;\n",
              "    }\n",
              "\n",
              "    .dataframe thead th {\n",
              "        text-align: right;\n",
              "    }\n",
              "</style>\n",
              "<table border=\"1\" class=\"dataframe\">\n",
              "  <thead>\n",
              "    <tr style=\"text-align: right;\">\n",
              "      <th></th>\n",
              "      <th>Geographic area</th>\n",
              "      <th>City</th>\n",
              "      <th>share_white</th>\n",
              "      <th>share_black</th>\n",
              "      <th>share_native_american</th>\n",
              "      <th>share_asian</th>\n",
              "      <th>share_hispanic</th>\n",
              "    </tr>\n",
              "  </thead>\n",
              "  <tbody>\n",
              "    <tr>\n",
              "      <th>0</th>\n",
              "      <td>AL</td>\n",
              "      <td>Abanda CDP</td>\n",
              "      <td>67.2</td>\n",
              "      <td>30.2</td>\n",
              "      <td>0</td>\n",
              "      <td>0</td>\n",
              "      <td>1.6</td>\n",
              "    </tr>\n",
              "    <tr>\n",
              "      <th>1</th>\n",
              "      <td>AL</td>\n",
              "      <td>Abbeville city</td>\n",
              "      <td>54.4</td>\n",
              "      <td>41.4</td>\n",
              "      <td>0.1</td>\n",
              "      <td>1</td>\n",
              "      <td>3.1</td>\n",
              "    </tr>\n",
              "    <tr>\n",
              "      <th>2</th>\n",
              "      <td>AL</td>\n",
              "      <td>Adamsville city</td>\n",
              "      <td>52.3</td>\n",
              "      <td>44.9</td>\n",
              "      <td>0.5</td>\n",
              "      <td>0.3</td>\n",
              "      <td>2.3</td>\n",
              "    </tr>\n",
              "    <tr>\n",
              "      <th>3</th>\n",
              "      <td>AL</td>\n",
              "      <td>Addison town</td>\n",
              "      <td>99.1</td>\n",
              "      <td>0.1</td>\n",
              "      <td>0</td>\n",
              "      <td>0.1</td>\n",
              "      <td>0.4</td>\n",
              "    </tr>\n",
              "    <tr>\n",
              "      <th>4</th>\n",
              "      <td>AL</td>\n",
              "      <td>Akron town</td>\n",
              "      <td>13.2</td>\n",
              "      <td>86.5</td>\n",
              "      <td>0</td>\n",
              "      <td>0</td>\n",
              "      <td>0.3</td>\n",
              "    </tr>\n",
              "  </tbody>\n",
              "</table>\n",
              "</div>"
            ],
            "text/plain": [
              "  Geographic area             City  ... share_asian share_hispanic\n",
              "0              AL       Abanda CDP  ...           0            1.6\n",
              "1              AL   Abbeville city  ...           1            3.1\n",
              "2              AL  Adamsville city  ...         0.3            2.3\n",
              "3              AL     Addison town  ...         0.1            0.4\n",
              "4              AL       Akron town  ...           0            0.3\n",
              "\n",
              "[5 rows x 7 columns]"
            ]
          },
          "metadata": {
            "tags": []
          },
          "execution_count": 41
        },
        {
          "output_type": "execute_result",
          "data": {
            "text/html": [
              "<div>\n",
              "<style scoped>\n",
              "    .dataframe tbody tr th:only-of-type {\n",
              "        vertical-align: middle;\n",
              "    }\n",
              "\n",
              "    .dataframe tbody tr th {\n",
              "        vertical-align: top;\n",
              "    }\n",
              "\n",
              "    .dataframe thead th {\n",
              "        text-align: right;\n",
              "    }\n",
              "</style>\n",
              "<table border=\"1\" class=\"dataframe\">\n",
              "  <thead>\n",
              "    <tr style=\"text-align: right;\">\n",
              "      <th></th>\n",
              "      <th>Geographic area</th>\n",
              "      <th>City</th>\n",
              "      <th>share_white</th>\n",
              "      <th>share_black</th>\n",
              "      <th>share_native_american</th>\n",
              "      <th>share_asian</th>\n",
              "      <th>share_hispanic</th>\n",
              "    </tr>\n",
              "  </thead>\n",
              "  <tbody>\n",
              "    <tr>\n",
              "      <th>count</th>\n",
              "      <td>29268</td>\n",
              "      <td>29268</td>\n",
              "      <td>29268</td>\n",
              "      <td>29268</td>\n",
              "      <td>29268</td>\n",
              "      <td>29268</td>\n",
              "      <td>29268</td>\n",
              "    </tr>\n",
              "    <tr>\n",
              "      <th>unique</th>\n",
              "      <td>51</td>\n",
              "      <td>24219</td>\n",
              "      <td>997</td>\n",
              "      <td>926</td>\n",
              "      <td>628</td>\n",
              "      <td>409</td>\n",
              "      <td>956</td>\n",
              "    </tr>\n",
              "    <tr>\n",
              "      <th>top</th>\n",
              "      <td>PA</td>\n",
              "      <td>Franklin city</td>\n",
              "      <td>100</td>\n",
              "      <td>0</td>\n",
              "      <td>0</td>\n",
              "      <td>0</td>\n",
              "      <td>0</td>\n",
              "    </tr>\n",
              "    <tr>\n",
              "      <th>freq</th>\n",
              "      <td>1764</td>\n",
              "      <td>16</td>\n",
              "      <td>1051</td>\n",
              "      <td>6587</td>\n",
              "      <td>6930</td>\n",
              "      <td>8537</td>\n",
              "      <td>2489</td>\n",
              "    </tr>\n",
              "  </tbody>\n",
              "</table>\n",
              "</div>"
            ],
            "text/plain": [
              "       Geographic area           City  ... share_asian share_hispanic\n",
              "count            29268          29268  ...       29268          29268\n",
              "unique              51          24219  ...         409            956\n",
              "top                 PA  Franklin city  ...           0              0\n",
              "freq              1764             16  ...        8537           2489\n",
              "\n",
              "[4 rows x 7 columns]"
            ]
          },
          "metadata": {
            "tags": []
          },
          "execution_count": 41
        }
      ]
    },
    {
      "cell_type": "markdown",
      "metadata": {
        "id": "e05-2d0l0z_w",
        "colab_type": "text"
      },
      "source": [
        "\n",
        "\n",
        "1.   Dropping '(X)'\n",
        "2.   Convert share_white, share_black, share_native_american, share_asian, share_hispanic to numeric values\n",
        "\n"
      ]
    },
    {
      "cell_type": "code",
      "metadata": {
        "trusted": true,
        "id": "PAvy_EEDqrJ3",
        "colab_type": "code",
        "colab": {
          "base_uri": "https://localhost:8080/",
          "height": 105
        },
        "outputId": "d9ca635b-731d-46da-aed2-6bb38ba8204e"
      },
      "source": [
        "print('Before: {} entries.'.format(len(share_race_by_city)))\n",
        "\n",
        "share_race_by_city = share_race_by_city[share_race_by_city['share_white']!='(X)']\n",
        "share_race_by_city['share_white'] = share_race_by_city['share_white'].astype('float64')\n",
        "\n",
        "share_race_by_city['share_black'] = share_race_by_city['share_black'].astype('float64')\n",
        "share_race_by_city['share_native_american'] = share_race_by_city['share_native_american'].astype('float64')\n",
        "share_race_by_city['share_asian'] = share_race_by_city['share_asian'].astype('float64')\n",
        "share_race_by_city['share_hispanic'] = share_race_by_city['share_hispanic'].astype('float64')\n",
        "\n",
        "print('After: {} entries.'.format(len(share_race_by_city)))\n",
        "share_race_by_city.to_csv('/content/drive/My Drive/data/cleaned-data/cleaned-ShareRaceByCity.csv')"
      ],
      "execution_count": 47,
      "outputs": [
        {
          "output_type": "stream",
          "text": [
            "Before: 29248 entries.\n",
            "After: 29248 entries.\n"
          ],
          "name": "stdout"
        },
        {
          "output_type": "stream",
          "text": [
            "/usr/local/lib/python3.6/dist-packages/pandas/core/ops/array_ops.py:253: FutureWarning: elementwise comparison failed; returning scalar instead, but in the future will perform elementwise comparison\n",
            "  res_values = method(rvalues)\n"
          ],
          "name": "stderr"
        }
      ]
    },
    {
      "cell_type": "markdown",
      "metadata": {
        "id": "nnfbqaFjqrKG",
        "colab_type": "text"
      },
      "source": [
        "# **Police Killing US**"
      ]
    },
    {
      "cell_type": "code",
      "metadata": {
        "trusted": true,
        "id": "_8w8QYcEqrKH",
        "colab_type": "code",
        "colab": {
          "base_uri": "https://localhost:8080/",
          "height": 997
        },
        "outputId": "65ecb221-ad8c-4345-a1e6-a5486b79f3cb"
      },
      "source": [
        "police_killing_us = pd.read_csv('/content/drive/My Drive/data/fatal-police-shootings-in-the-us/PoliceKillingsUS.csv', encoding=\"windows-1252\")\n",
        "police_killing_us.info()\n",
        "police_killing_us.head()\n",
        "police_killing_us.describe()\n",
        "police_killing_us.describe(include='object')"
      ],
      "execution_count": 49,
      "outputs": [
        {
          "output_type": "stream",
          "text": [
            "<class 'pandas.core.frame.DataFrame'>\n",
            "RangeIndex: 2535 entries, 0 to 2534\n",
            "Data columns (total 14 columns):\n",
            " #   Column                   Non-Null Count  Dtype  \n",
            "---  ------                   --------------  -----  \n",
            " 0   id                       2535 non-null   int64  \n",
            " 1   name                     2535 non-null   object \n",
            " 2   date                     2535 non-null   object \n",
            " 3   manner_of_death          2535 non-null   object \n",
            " 4   armed                    2526 non-null   object \n",
            " 5   age                      2458 non-null   float64\n",
            " 6   gender                   2535 non-null   object \n",
            " 7   race                     2340 non-null   object \n",
            " 8   city                     2535 non-null   object \n",
            " 9   state                    2535 non-null   object \n",
            " 10  signs_of_mental_illness  2535 non-null   bool   \n",
            " 11  threat_level             2535 non-null   object \n",
            " 12  flee                     2470 non-null   object \n",
            " 13  body_camera              2535 non-null   bool   \n",
            "dtypes: bool(2), float64(1), int64(1), object(10)\n",
            "memory usage: 242.7+ KB\n"
          ],
          "name": "stdout"
        },
        {
          "output_type": "execute_result",
          "data": {
            "text/html": [
              "<div>\n",
              "<style scoped>\n",
              "    .dataframe tbody tr th:only-of-type {\n",
              "        vertical-align: middle;\n",
              "    }\n",
              "\n",
              "    .dataframe tbody tr th {\n",
              "        vertical-align: top;\n",
              "    }\n",
              "\n",
              "    .dataframe thead th {\n",
              "        text-align: right;\n",
              "    }\n",
              "</style>\n",
              "<table border=\"1\" class=\"dataframe\">\n",
              "  <thead>\n",
              "    <tr style=\"text-align: right;\">\n",
              "      <th></th>\n",
              "      <th>id</th>\n",
              "      <th>name</th>\n",
              "      <th>date</th>\n",
              "      <th>manner_of_death</th>\n",
              "      <th>armed</th>\n",
              "      <th>age</th>\n",
              "      <th>gender</th>\n",
              "      <th>race</th>\n",
              "      <th>city</th>\n",
              "      <th>state</th>\n",
              "      <th>signs_of_mental_illness</th>\n",
              "      <th>threat_level</th>\n",
              "      <th>flee</th>\n",
              "      <th>body_camera</th>\n",
              "    </tr>\n",
              "  </thead>\n",
              "  <tbody>\n",
              "    <tr>\n",
              "      <th>0</th>\n",
              "      <td>3</td>\n",
              "      <td>Tim Elliot</td>\n",
              "      <td>02/01/15</td>\n",
              "      <td>shot</td>\n",
              "      <td>gun</td>\n",
              "      <td>53.0</td>\n",
              "      <td>M</td>\n",
              "      <td>A</td>\n",
              "      <td>Shelton</td>\n",
              "      <td>WA</td>\n",
              "      <td>True</td>\n",
              "      <td>attack</td>\n",
              "      <td>Not fleeing</td>\n",
              "      <td>False</td>\n",
              "    </tr>\n",
              "    <tr>\n",
              "      <th>1</th>\n",
              "      <td>4</td>\n",
              "      <td>Lewis Lee Lembke</td>\n",
              "      <td>02/01/15</td>\n",
              "      <td>shot</td>\n",
              "      <td>gun</td>\n",
              "      <td>47.0</td>\n",
              "      <td>M</td>\n",
              "      <td>W</td>\n",
              "      <td>Aloha</td>\n",
              "      <td>OR</td>\n",
              "      <td>False</td>\n",
              "      <td>attack</td>\n",
              "      <td>Not fleeing</td>\n",
              "      <td>False</td>\n",
              "    </tr>\n",
              "    <tr>\n",
              "      <th>2</th>\n",
              "      <td>5</td>\n",
              "      <td>John Paul Quintero</td>\n",
              "      <td>03/01/15</td>\n",
              "      <td>shot and Tasered</td>\n",
              "      <td>unarmed</td>\n",
              "      <td>23.0</td>\n",
              "      <td>M</td>\n",
              "      <td>H</td>\n",
              "      <td>Wichita</td>\n",
              "      <td>KS</td>\n",
              "      <td>False</td>\n",
              "      <td>other</td>\n",
              "      <td>Not fleeing</td>\n",
              "      <td>False</td>\n",
              "    </tr>\n",
              "    <tr>\n",
              "      <th>3</th>\n",
              "      <td>8</td>\n",
              "      <td>Matthew Hoffman</td>\n",
              "      <td>04/01/15</td>\n",
              "      <td>shot</td>\n",
              "      <td>toy weapon</td>\n",
              "      <td>32.0</td>\n",
              "      <td>M</td>\n",
              "      <td>W</td>\n",
              "      <td>San Francisco</td>\n",
              "      <td>CA</td>\n",
              "      <td>True</td>\n",
              "      <td>attack</td>\n",
              "      <td>Not fleeing</td>\n",
              "      <td>False</td>\n",
              "    </tr>\n",
              "    <tr>\n",
              "      <th>4</th>\n",
              "      <td>9</td>\n",
              "      <td>Michael Rodriguez</td>\n",
              "      <td>04/01/15</td>\n",
              "      <td>shot</td>\n",
              "      <td>nail gun</td>\n",
              "      <td>39.0</td>\n",
              "      <td>M</td>\n",
              "      <td>H</td>\n",
              "      <td>Evans</td>\n",
              "      <td>CO</td>\n",
              "      <td>False</td>\n",
              "      <td>attack</td>\n",
              "      <td>Not fleeing</td>\n",
              "      <td>False</td>\n",
              "    </tr>\n",
              "  </tbody>\n",
              "</table>\n",
              "</div>"
            ],
            "text/plain": [
              "   id                name      date  ... threat_level         flee  body_camera\n",
              "0   3          Tim Elliot  02/01/15  ...       attack  Not fleeing        False\n",
              "1   4    Lewis Lee Lembke  02/01/15  ...       attack  Not fleeing        False\n",
              "2   5  John Paul Quintero  03/01/15  ...        other  Not fleeing        False\n",
              "3   8     Matthew Hoffman  04/01/15  ...       attack  Not fleeing        False\n",
              "4   9   Michael Rodriguez  04/01/15  ...       attack  Not fleeing        False\n",
              "\n",
              "[5 rows x 14 columns]"
            ]
          },
          "metadata": {
            "tags": []
          },
          "execution_count": 49
        },
        {
          "output_type": "execute_result",
          "data": {
            "text/html": [
              "<div>\n",
              "<style scoped>\n",
              "    .dataframe tbody tr th:only-of-type {\n",
              "        vertical-align: middle;\n",
              "    }\n",
              "\n",
              "    .dataframe tbody tr th {\n",
              "        vertical-align: top;\n",
              "    }\n",
              "\n",
              "    .dataframe thead th {\n",
              "        text-align: right;\n",
              "    }\n",
              "</style>\n",
              "<table border=\"1\" class=\"dataframe\">\n",
              "  <thead>\n",
              "    <tr style=\"text-align: right;\">\n",
              "      <th></th>\n",
              "      <th>id</th>\n",
              "      <th>age</th>\n",
              "    </tr>\n",
              "  </thead>\n",
              "  <tbody>\n",
              "    <tr>\n",
              "      <th>count</th>\n",
              "      <td>2535.000000</td>\n",
              "      <td>2458.000000</td>\n",
              "    </tr>\n",
              "    <tr>\n",
              "      <th>mean</th>\n",
              "      <td>1445.731755</td>\n",
              "      <td>36.605370</td>\n",
              "    </tr>\n",
              "    <tr>\n",
              "      <th>std</th>\n",
              "      <td>794.259490</td>\n",
              "      <td>13.030774</td>\n",
              "    </tr>\n",
              "    <tr>\n",
              "      <th>min</th>\n",
              "      <td>3.000000</td>\n",
              "      <td>6.000000</td>\n",
              "    </tr>\n",
              "    <tr>\n",
              "      <th>25%</th>\n",
              "      <td>768.500000</td>\n",
              "      <td>26.000000</td>\n",
              "    </tr>\n",
              "    <tr>\n",
              "      <th>50%</th>\n",
              "      <td>1453.000000</td>\n",
              "      <td>34.000000</td>\n",
              "    </tr>\n",
              "    <tr>\n",
              "      <th>75%</th>\n",
              "      <td>2126.500000</td>\n",
              "      <td>45.000000</td>\n",
              "    </tr>\n",
              "    <tr>\n",
              "      <th>max</th>\n",
              "      <td>2822.000000</td>\n",
              "      <td>91.000000</td>\n",
              "    </tr>\n",
              "  </tbody>\n",
              "</table>\n",
              "</div>"
            ],
            "text/plain": [
              "                id          age\n",
              "count  2535.000000  2458.000000\n",
              "mean   1445.731755    36.605370\n",
              "std     794.259490    13.030774\n",
              "min       3.000000     6.000000\n",
              "25%     768.500000    26.000000\n",
              "50%    1453.000000    34.000000\n",
              "75%    2126.500000    45.000000\n",
              "max    2822.000000    91.000000"
            ]
          },
          "metadata": {
            "tags": []
          },
          "execution_count": 49
        },
        {
          "output_type": "execute_result",
          "data": {
            "text/html": [
              "<div>\n",
              "<style scoped>\n",
              "    .dataframe tbody tr th:only-of-type {\n",
              "        vertical-align: middle;\n",
              "    }\n",
              "\n",
              "    .dataframe tbody tr th {\n",
              "        vertical-align: top;\n",
              "    }\n",
              "\n",
              "    .dataframe thead th {\n",
              "        text-align: right;\n",
              "    }\n",
              "</style>\n",
              "<table border=\"1\" class=\"dataframe\">\n",
              "  <thead>\n",
              "    <tr style=\"text-align: right;\">\n",
              "      <th></th>\n",
              "      <th>name</th>\n",
              "      <th>date</th>\n",
              "      <th>manner_of_death</th>\n",
              "      <th>armed</th>\n",
              "      <th>gender</th>\n",
              "      <th>race</th>\n",
              "      <th>city</th>\n",
              "      <th>state</th>\n",
              "      <th>threat_level</th>\n",
              "      <th>flee</th>\n",
              "    </tr>\n",
              "  </thead>\n",
              "  <tbody>\n",
              "    <tr>\n",
              "      <th>count</th>\n",
              "      <td>2535</td>\n",
              "      <td>2535</td>\n",
              "      <td>2535</td>\n",
              "      <td>2526</td>\n",
              "      <td>2535</td>\n",
              "      <td>2340</td>\n",
              "      <td>2535</td>\n",
              "      <td>2535</td>\n",
              "      <td>2535</td>\n",
              "      <td>2470</td>\n",
              "    </tr>\n",
              "    <tr>\n",
              "      <th>unique</th>\n",
              "      <td>2481</td>\n",
              "      <td>879</td>\n",
              "      <td>2</td>\n",
              "      <td>68</td>\n",
              "      <td>2</td>\n",
              "      <td>6</td>\n",
              "      <td>1417</td>\n",
              "      <td>51</td>\n",
              "      <td>3</td>\n",
              "      <td>4</td>\n",
              "    </tr>\n",
              "    <tr>\n",
              "      <th>top</th>\n",
              "      <td>TK TK</td>\n",
              "      <td>24/01/17</td>\n",
              "      <td>shot</td>\n",
              "      <td>gun</td>\n",
              "      <td>M</td>\n",
              "      <td>W</td>\n",
              "      <td>Los Angeles</td>\n",
              "      <td>CA</td>\n",
              "      <td>attack</td>\n",
              "      <td>Not fleeing</td>\n",
              "    </tr>\n",
              "    <tr>\n",
              "      <th>freq</th>\n",
              "      <td>49</td>\n",
              "      <td>8</td>\n",
              "      <td>2363</td>\n",
              "      <td>1398</td>\n",
              "      <td>2428</td>\n",
              "      <td>1201</td>\n",
              "      <td>39</td>\n",
              "      <td>424</td>\n",
              "      <td>1611</td>\n",
              "      <td>1695</td>\n",
              "    </tr>\n",
              "  </tbody>\n",
              "</table>\n",
              "</div>"
            ],
            "text/plain": [
              "         name      date manner_of_death  ... state threat_level         flee\n",
              "count    2535      2535            2535  ...  2535         2535         2470\n",
              "unique   2481       879               2  ...    51            3            4\n",
              "top     TK TK  24/01/17            shot  ...    CA       attack  Not fleeing\n",
              "freq       49         8            2363  ...   424         1611         1695\n",
              "\n",
              "[4 rows x 10 columns]"
            ]
          },
          "metadata": {
            "tags": []
          },
          "execution_count": 49
        }
      ]
    },
    {
      "cell_type": "markdown",
      "metadata": {
        "id": "FjYuZpn11nVp",
        "colab_type": "text"
      },
      "source": [
        "\n",
        "\n",
        "1.   Dropping na\n",
        "\n"
      ]
    },
    {
      "cell_type": "code",
      "metadata": {
        "trusted": true,
        "id": "-oUYCkYWqrKS",
        "colab_type": "code",
        "colab": {}
      },
      "source": [
        "police_killing_us = police_killing_us.dropna()\n",
        "police_killing_us.to_csv('/content/drive/My Drive/data/cleaned-data/cleaned-PoliceKillingsUS.csv')"
      ],
      "execution_count": 0,
      "outputs": []
    }
  ]
}